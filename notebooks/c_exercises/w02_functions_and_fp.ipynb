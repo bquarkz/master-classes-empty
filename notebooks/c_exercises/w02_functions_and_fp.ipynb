{
 "cells": [
  {
   "metadata": {},
   "cell_type": "markdown",
   "source": "# Week 2",
   "id": "8730da5d85ee1e54"
  },
  {
   "metadata": {},
   "cell_type": "markdown",
   "source": [
    "## 1. **Reusable Stats Functions**\n",
    "### Write functions `mean(xs)`, `stdev(xs)`, and `zscores(xs)` (returning a list). Add docstrings and simple doctests."
   ],
   "id": "af7d9c11d4cff44c"
  },
  {
   "metadata": {
    "ExecuteTime": {
     "end_time": "2025-10-22T14:34:42.286644Z",
     "start_time": "2025-10-22T14:34:42.279376Z"
    }
   },
   "cell_type": "code",
   "source": [
    "import unilab as ul\n",
    "\n",
    "def mean(xs):\n",
    "    return ul.mean(xs)\n",
    "\n",
    "def stdev(xs):\n",
    "    return ul.standard_deviation(xs, sample=True)\n",
    "\n",
    "def zscores(xs):\n",
    "    return ul.zscores(xs)\n",
    "\n",
    "print(mean([1, 2, 3]))\n",
    "print(stdev([1, 2, 3]))\n",
    "print(zscores([1, 2, 3]))"
   ],
   "id": "c5a020b8ba29c8b8",
   "outputs": [
    {
     "name": "stdout",
     "output_type": "stream",
     "text": [
      "2.0\n",
      "1.0\n",
      "[-1.0, 0.0, 1.0]\n"
     ]
    }
   ],
   "execution_count": 20
  },
  {
   "metadata": {},
   "cell_type": "markdown",
   "source": [
    "## 2. **Robust Division (Exceptions)**\n",
    "### Implement `safe_div(x, y)` that raises a `ValueError` with a clear message on invalid inputs; add `try/except` usage examples."
   ],
   "id": "3a533cda5d395aa1"
  },
  {
   "metadata": {
    "ExecuteTime": {
     "end_time": "2025-10-22T14:34:42.300952Z",
     "start_time": "2025-10-22T14:34:42.298045Z"
    }
   },
   "cell_type": "code",
   "source": [
    "def safe_div(a, b):\n",
    "    try:\n",
    "        return a / b\n",
    "    except ZeroDivisionError:\n",
    "        raise ValueError(\"Cannot divide by zero!\")\n",
    "\n",
    "print(safe_div(2, 4))\n",
    "print(safe_div(1, 2))\n",
    "try:\n",
    "    print(safe_div(2, 0))\n",
    "except ValueError as e:\n",
    "    print(e)"
   ],
   "id": "444ed9598aefd524",
   "outputs": [
    {
     "name": "stdout",
     "output_type": "stream",
     "text": [
      "0.5\n",
      "0.5\n",
      "Cannot divide by zero!\n"
     ]
    }
   ],
   "execution_count": 21
  },
  {
   "metadata": {},
   "cell_type": "markdown",
   "source": [
    "## 3. **User Input, Else & Finally**\n",
    "### Function that reads an integer from input, handles non‑numeric values, uses `else` for success and `finally` to print a closing message."
   ],
   "id": "d094e331a3e447d2"
  },
  {
   "metadata": {
    "ExecuteTime": {
     "end_time": "2025-10-22T14:34:45.266570Z",
     "start_time": "2025-10-22T14:34:42.310927Z"
    }
   },
   "cell_type": "code",
   "source": [
    "def read_int():\n",
    "    value_input = input()\n",
    "    try:\n",
    "        number = int(value_input)\n",
    "    except Exception as e:\n",
    "        print(f\"Error: {e}\")\n",
    "    else:\n",
    "        print(f\"You entered {number}\")\n",
    "    finally:\n",
    "        print(\"Have a nice day!\")\n",
    "\n",
    "read_int()"
   ],
   "id": "74ced0c8533e0610",
   "outputs": [
    {
     "name": "stdout",
     "output_type": "stream",
     "text": [
      "You entered 1\n",
      "Have a nice day!\n"
     ]
    }
   ],
   "execution_count": 22
  },
  {
   "metadata": {},
   "cell_type": "markdown",
   "source": [
    "## 4. **Lambda Warm‑up**\n",
    "### Create `apply_twice(f, x)` and test with a few `lambda`s (e.g., `lambda x: 2*x`, `lambda s: s.strip().upper()`)."
   ],
   "id": "4357375e25d19f8e"
  },
  {
   "metadata": {
    "ExecuteTime": {
     "end_time": "2025-10-22T14:34:45.306963Z",
     "start_time": "2025-10-22T14:34:45.304408Z"
    }
   },
   "cell_type": "code",
   "source": [
    "def apply_twice(f, x):\n",
    "    return f(f(x))\n",
    "\n",
    "l1 = lambda x: 2*x\n",
    "l2 = lambda s: s.strip().upper()\n",
    "\n",
    "print(apply_twice(l1, 1))\n",
    "print(apply_twice(l2, \"  hello world!  \"))"
   ],
   "id": "170fa5bff4af564b",
   "outputs": [
    {
     "name": "stdout",
     "output_type": "stream",
     "text": [
      "4\n",
      "HELLO WORLD!\n"
     ]
    }
   ],
   "execution_count": 23
  },
  {
   "metadata": {},
   "cell_type": "markdown",
   "source": [
    "## 5. **Map/Filter Mini‑Pipeline**\n",
    "### Given a list of numbers, square them (`map`) and keep only those > 40 (`filter`). Show the before/after lists."
   ],
   "id": "4fa65b431b8fbe1f"
  },
  {
   "metadata": {
    "ExecuteTime": {
     "end_time": "2025-10-22T14:34:45.331327Z",
     "start_time": "2025-10-22T14:34:45.328201Z"
    }
   },
   "cell_type": "code",
   "source": [
    "from unilab import random_numbers_unique\n",
    "def process(ns):\n",
    "    mapped = map(lambda n: n**2, ns)\n",
    "    filtered = filter(lambda n: n > 40, mapped)\n",
    "    return list(filtered)\n",
    "\n",
    "ns_before = random_numbers_unique(size=5, min_val=1, max_val=10)\n",
    "ns_after = process(ns_before)\n",
    "\n",
    "print(ns_before)\n",
    "print(ns_after)"
   ],
   "id": "cbdb44d63973d9d3",
   "outputs": [
    {
     "name": "stdout",
     "output_type": "stream",
     "text": [
      "[4, 5, 6, 7, 10]\n",
      "[49, 100]\n"
     ]
    }
   ],
   "execution_count": 24
  },
  {
   "metadata": {},
   "cell_type": "markdown",
   "source": [
    "## 6. **Functional Text Cleaning**\n",
    "### Given a list of phrases, build a pipeline using lambdas + `map`/`filter` to: lowercase, strip, remove empty lines, and keep only phrases with ≥4 words."
   ],
   "id": "e37378daa0bec960"
  },
  {
   "metadata": {
    "ExecuteTime": {
     "end_time": "2025-10-22T14:41:43.686697Z",
     "start_time": "2025-10-22T14:41:43.681765Z"
    }
   },
   "cell_type": "code",
   "source": [
    "def text_cleaning(text: list[str]) -> list[str]:\n",
    "    non_empty = filter(lambda s: len(s) > 0, text)\n",
    "    lowered = map(lambda s: s.strip().lower(), non_empty)\n",
    "    return list(filter(lambda s: len(s.split()) >= 4, lowered))\n",
    "\n",
    "l = list([\" 1 2 3 4 \", \"1234\", \" A B C D E F G \"])\n",
    "print(text_cleaning(l))"
   ],
   "id": "ca75987fda6d55b7",
   "outputs": [
    {
     "name": "stdout",
     "output_type": "stream",
     "text": [
      "['1 2 3 4', 'a b c d e f g']\n"
     ]
    }
   ],
   "execution_count": 25
  },
  {
   "metadata": {},
   "cell_type": "markdown",
   "source": [
    "## 7. **Function Composition Utility**\n",
    "### Write `compose(f, g)` returning a function `h(x)=f(g(x))`. Demonstrate with numeric and string examples."
   ],
   "id": "ff4b7a3eb2bdd015"
  },
  {
   "metadata": {
    "ExecuteTime": {
     "end_time": "2025-10-22T14:43:26.608436Z",
     "start_time": "2025-10-22T14:43:26.604001Z"
    }
   },
   "cell_type": "code",
   "source": [
    "def compose(f, g):\n",
    "    return lambda x: f(g(x))\n",
    "\n",
    "print(compose(lambda x: x**2, lambda x: x+1)(3))\n",
    "print(compose(lambda s: s.strip(), lambda s: s.upper())(\"  hello world!  \"))"
   ],
   "id": "bcd2a0592d0cd270",
   "outputs": [
    {
     "name": "stdout",
     "output_type": "stream",
     "text": [
      "16\n",
      "HELLO WORLD!\n"
     ]
    }
   ],
   "execution_count": 26
  },
  {
   "metadata": {},
   "cell_type": "markdown",
   "source": [
    "## 9. **Outlier‑Safe Mean (Exceptions + FP)**\n",
    "### Implement `trimmed_mean(xs, proportion)` that trims tails and averages the middle. Validate inputs (exceptions), then use `map`/`filter` where appropriate."
   ],
   "id": "aadf96eb4a9e775b"
  }
 ],
 "metadata": {
  "kernelspec": {
   "display_name": "Python 3",
   "language": "python",
   "name": "python3"
  },
  "language_info": {
   "codemirror_mode": {
    "name": "ipython",
    "version": 2
   },
   "file_extension": ".py",
   "mimetype": "text/x-python",
   "name": "python",
   "nbconvert_exporter": "python",
   "pygments_lexer": "ipython2",
   "version": "2.7.6"
  }
 },
 "nbformat": 4,
 "nbformat_minor": 5
}
