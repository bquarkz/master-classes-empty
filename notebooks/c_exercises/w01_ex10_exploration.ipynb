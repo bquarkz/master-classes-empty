{
 "cells": [
  {
   "metadata": {},
   "cell_type": "markdown",
   "source": "# Week 1",
   "id": "81d2831412de6b15"
  },
  {
   "metadata": {},
   "cell_type": "markdown",
   "source": [
    "## 10. Mini Data Exploration (Histogram)\n",
    "### Generate 200 random floats in `[0,1)`, compute mean/median/variance, and plot a histogram with `matplotlib`."
   ],
   "id": "a0ae4dc2308c353d"
  }
 ],
 "metadata": {
  "kernelspec": {
   "display_name": "Python 3",
   "language": "python",
   "name": "python3"
  },
  "language_info": {
   "codemirror_mode": {
    "name": "ipython",
    "version": 2
   },
   "file_extension": ".py",
   "mimetype": "text/x-python",
   "name": "python",
   "nbconvert_exporter": "python",
   "pygments_lexer": "ipython2",
   "version": "2.7.6"
  }
 },
 "nbformat": 4,
 "nbformat_minor": 5
}
