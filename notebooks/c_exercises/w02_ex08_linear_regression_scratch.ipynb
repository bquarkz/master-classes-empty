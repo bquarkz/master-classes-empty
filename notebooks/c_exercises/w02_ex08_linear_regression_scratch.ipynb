{
 "cells": [
  {
   "metadata": {},
   "cell_type": "markdown",
   "source": [
    "## 8. **From‑Scratch Linear Regression (No sklearn)**\n",
    "### Generate synthetic `(x, y)` with noise; compute slope/intercept using means, covariance, and variance; plot points + fitted line."
   ],
   "id": "acb2df4ff60d9a08"
  }
 ],
 "metadata": {
  "kernelspec": {
   "display_name": "Python 3",
   "language": "python",
   "name": "python3"
  },
  "language_info": {
   "codemirror_mode": {
    "name": "ipython",
    "version": 2
   },
   "file_extension": ".py",
   "mimetype": "text/x-python",
   "name": "python",
   "nbconvert_exporter": "python",
   "pygments_lexer": "ipython2",
   "version": "2.7.6"
  }
 },
 "nbformat": 4,
 "nbformat_minor": 5
}
