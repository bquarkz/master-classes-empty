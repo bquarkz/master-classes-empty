{
 "cells": [
  {
   "metadata": {},
   "cell_type": "markdown",
   "source": "# Week 1",
   "id": "ad33cb64d925b01a"
  },
  {
   "metadata": {},
   "cell_type": "markdown",
   "source": [
    "## 1. Hello, AI! (Warm‑up)\n",
    "### Print a personalized greeting with today’s date/time. Use datetime and f‑strings."
   ],
   "id": "3b216097c253b290"
  },
  {
   "metadata": {},
   "cell_type": "markdown",
   "source": "Take today's date and display it using the default format (ISO 8601: yyyy-MM-dd)",
   "id": "5c0450c73f588a85"
  },
  {
   "metadata": {
    "ExecuteTime": {
     "end_time": "2025-10-08T06:21:45.226361Z",
     "start_time": "2025-10-08T06:21:45.220020Z"
    }
   },
   "cell_type": "code",
   "source": [
    "from datetime import date\n",
    "\n",
    "today_date = date.today()\n",
    "print(f\"Today: {today_date}\") #"
   ],
   "id": "2837732d077b5bed",
   "outputs": [
    {
     "name": "stdout",
     "output_type": "stream",
     "text": [
      "Today: 2025-10-08\n"
     ]
    }
   ],
   "execution_count": 2
  },
  {
   "metadata": {},
   "cell_type": "markdown",
   "source": "In the same way take today with the current timestamp and display it using the default format (ISO 8601: yyyy-MM-dd hh:mm:ss.ms)",
   "id": "93de1394f8c650de"
  },
  {
   "metadata": {
    "ExecuteTime": {
     "end_time": "2025-10-08T06:21:45.246629Z",
     "start_time": "2025-10-08T06:21:45.243355Z"
    }
   },
   "cell_type": "code",
   "source": [
    "from datetime import datetime\n",
    "now = datetime.now()\n",
    "print(f\"Current date and time: {now}\")"
   ],
   "id": "91b530459775ca57",
   "outputs": [
    {
     "name": "stdout",
     "output_type": "stream",
     "text": [
      "Current date and time: 2025-10-08 07:21:45.244080\n"
     ]
    }
   ],
   "execution_count": 3
  },
  {
   "metadata": {},
   "cell_type": "markdown",
   "source": "Playing around with different timezones",
   "id": "864a0d509fd7563b"
  },
  {
   "metadata": {
    "ExecuteTime": {
     "end_time": "2025-10-08T06:21:45.259120Z",
     "start_time": "2025-10-08T06:21:45.256529Z"
    }
   },
   "cell_type": "code",
   "source": [
    "from datetime import datetime, timezone\n",
    "local = timezone.utc\n",
    "now_local = datetime.now(timezone.utc)\n",
    "print(f\"Local time: {now_local} ({local})\")"
   ],
   "id": "2524c9af916fd9ae",
   "outputs": [
    {
     "name": "stdout",
     "output_type": "stream",
     "text": [
      "Local time: 2025-10-08 06:21:45.257338+00:00 (UTC)\n"
     ]
    }
   ],
   "execution_count": 4
  },
  {
   "metadata": {
    "ExecuteTime": {
     "end_time": "2025-10-08T06:21:45.299195Z",
     "start_time": "2025-10-08T06:21:45.273182Z"
    }
   },
   "cell_type": "code",
   "source": [
    "from datetime import datetime\n",
    "from zoneinfo import ZoneInfo\n",
    "\n",
    "ny = ZoneInfo(\"America/New_York\")\n",
    "now_ny = datetime.now(ny).isoformat(timespec=\"minutes\")\n",
    "print(f\"USA - New York time: {now_ny} ({ny})\")\n",
    "\n",
    "los_angeles = ZoneInfo(\"America/Los_Angeles\")\n",
    "now_los_angeles = datetime.now(los_angeles).isoformat(timespec=\"minutes\")\n",
    "print(f\"USA - Los Angeles time: {now_los_angeles} ({los_angeles})\")\n",
    "\n",
    "dublin = ZoneInfo(\"Europe/Dublin\")\n",
    "now_dublin = datetime.now(dublin).isoformat(timespec=\"minutes\")\n",
    "print(f\"Ireland - Dublin time: {now_dublin} ({dublin})\")"
   ],
   "id": "9d9ee38d1f9c4697",
   "outputs": [
    {
     "name": "stdout",
     "output_type": "stream",
     "text": [
      "USA - New York time: 2025-10-08T02:21-04:00 (America/New_York)\n",
      "USA - Los Angeles time: 2025-10-07T23:21-07:00 (America/Los_Angeles)\n",
      "Ireland - Dublin time: 2025-10-08T07:21+01:00 (Europe/Dublin)\n"
     ]
    }
   ],
   "execution_count": 5
  },
  {
   "metadata": {},
   "cell_type": "markdown",
   "source": "The kind of greetings...",
   "id": "ea14b6c6e324bfa4"
  },
  {
   "metadata": {
    "ExecuteTime": {
     "end_time": "2025-10-08T06:21:45.324321Z",
     "start_time": "2025-10-08T06:21:45.319142Z"
    }
   },
   "cell_type": "code",
   "source": [
    "from datetime import date\n",
    "name = \"Nilton\"\n",
    "birthday = date.fromisoformat(\"1980-07-31\")\n",
    "print(f\"I'm {name} and was born at {birthday:%A, %d %B %Y}\")"
   ],
   "id": "93d996f7dfeeaa21",
   "outputs": [
    {
     "name": "stdout",
     "output_type": "stream",
     "text": [
      "I'm Nilton and was born at Thursday, 31 July 1980\n"
     ]
    }
   ],
   "execution_count": 6
  },
  {
   "metadata": {},
   "cell_type": "markdown",
   "source": [
    "## 2. Type Explorer\n",
    "### Create variables of types int, float, bool, str, and complex. Show their type() and basic operations (e.g., string slicing, numeric arithmetic)."
   ],
   "id": "6accdbc87ab9d90f"
  },
  {
   "metadata": {},
   "cell_type": "markdown",
   "source": "Regarding Integers (int): Commutative, Associative, Distributive, Identity, and Inverse ",
   "id": "40dae74cb24dc9eb"
  },
  {
   "metadata": {
    "ExecuteTime": {
     "end_time": "2025-10-08T06:21:45.344898Z",
     "start_time": "2025-10-08T06:21:45.339082Z"
    }
   },
   "cell_type": "code",
   "source": [
    "a = 1\n",
    "b = 2\n",
    "c = 3\n",
    "print(f\"we have: a[{a}], b[{b}], c[{c}]\")\n",
    "print(f\"a :: {type(a)}\")\n",
    "print(f\"b :: {type(b)}\")\n",
    "print(f\"c :: {type(c)}\")"
   ],
   "id": "a5d8f65343137b10",
   "outputs": [
    {
     "name": "stdout",
     "output_type": "stream",
     "text": [
      "we have: a[1], b[2], c[3]\n",
      "a :: <class 'int'>\n",
      "b :: <class 'int'>\n",
      "c :: <class 'int'>\n"
     ]
    }
   ],
   "execution_count": 7
  },
  {
   "metadata": {
    "ExecuteTime": {
     "end_time": "2025-10-08T06:21:45.370844Z",
     "start_time": "2025-10-08T06:21:45.367155Z"
    }
   },
   "cell_type": "code",
   "source": [
    "z = a + b\n",
    "print(f\"Commutative: a + b = b + a\")\n",
    "print(f\"a[{a}] + b[{b}] = z[{z}] = b[{b}] + a[{a}]\")\n",
    "print(f\"z :: {type(z)}\")"
   ],
   "id": "dc5809025e84b9df",
   "outputs": [
    {
     "name": "stdout",
     "output_type": "stream",
     "text": [
      "Commutative: a + b = b + a\n",
      "a[1] + b[2] = z[3] = b[2] + a[1]\n",
      "z :: <class 'int'>\n"
     ]
    }
   ],
   "execution_count": 8
  },
  {
   "metadata": {
    "ExecuteTime": {
     "end_time": "2025-10-08T06:21:45.403193Z",
     "start_time": "2025-10-08T06:21:45.388266Z"
    }
   },
   "cell_type": "code",
   "source": [
    "z1 = (a + b) + c\n",
    "z2 = a + (b + c)\n",
    "print(f\"Associative: (a + b) + c = a + (b + c)\")\n",
    "print(f\"(a[{a}] + b[{b}]) + c[{c}] = z1[{z1}] = z2[{z2}] = a[{a}] + (b[{b}] + c[{c}])\")\n",
    "print(f\"z1 :: {type(z1)}\")\n",
    "print(f\"z2 :: {type(z2)}\")"
   ],
   "id": "90ff16da6a2ca531",
   "outputs": [
    {
     "name": "stdout",
     "output_type": "stream",
     "text": [
      "Associative: (a + b) + c = a + (b + c)\n",
      "(a[1] + b[2]) + c[3] = z1[6] = z2[6] = a[1] + (b[2] + c[3])\n",
      "z1 :: <class 'int'>\n",
      "z2 :: <class 'int'>\n"
     ]
    }
   ],
   "execution_count": 9
  },
  {
   "metadata": {
    "ExecuteTime": {
     "end_time": "2025-10-08T06:21:45.426948Z",
     "start_time": "2025-10-08T06:21:45.422774Z"
    }
   },
   "cell_type": "code",
   "source": [
    "z1 = (a + b) * c\n",
    "z2 = c * (a + b)\n",
    "print(f\"Distributive: (a + b) * c = c * (a + b)\")\n",
    "print(f\"(a[{a}] + b[{b}]) * c[{c}] = z1[{z1}] = z2[{z2}] = c[{c}] * (a[{a}] + b[{b}])\")\n",
    "print(f\"z1 :: {type(z1)}\")\n",
    "print(f\"z2 :: {type(z2)}\")"
   ],
   "id": "90b22a63c19c9ee7",
   "outputs": [
    {
     "name": "stdout",
     "output_type": "stream",
     "text": [
      "Distributive: (a + b) * c = c * (a + b)\n",
      "(a[1] + b[2]) * c[3] = z1[9] = z2[9] = c[3] * (a[1] + b[2])\n",
      "z1 :: <class 'int'>\n",
      "z2 :: <class 'int'>\n"
     ]
    }
   ],
   "execution_count": 10
  },
  {
   "metadata": {},
   "cell_type": "markdown",
   "source": [
    "Identity:\n",
    "An identity element for a binary operation on a set is an element that leaves every element of the set unchanged when the operation is applied.\n",
    "- Formal definition  \n",
    "  Let \\(S, @\\) be a set **S** with a binary operation \\(@: S @ S → S\\). An element e in **S** is an identity element for @ if, for every x in **S**:\n",
    "  - e @ x = x\n",
    "  - x @ e = x\n",
    "\n",
    "If such an e exists, and it is unique, e is an identity over S."
   ],
   "id": "1075c28f3ba3c627"
  },
  {
   "metadata": {
    "ExecuteTime": {
     "end_time": "2025-10-08T06:21:45.450139Z",
     "start_time": "2025-10-08T06:21:45.447460Z"
    }
   },
   "cell_type": "code",
   "source": [
    "z = a + 0\n",
    "print(f\"Additive Identity: a + 0 = a (0 is additive identity over Integers)\")\n",
    "print(f\"0 + a[{a}] = a[{a}] = z[{z}]\")\n",
    "print(f\"z :: {type(z)}\")"
   ],
   "id": "d9de3686201c0709",
   "outputs": [
    {
     "name": "stdout",
     "output_type": "stream",
     "text": [
      "Additive Identity: a + 0 = a (0 is additive identity over Integers)\n",
      "0 + a[1] = a[1] = z[1]\n",
      "z :: <class 'int'>\n"
     ]
    }
   ],
   "execution_count": 11
  },
  {
   "metadata": {},
   "cell_type": "markdown",
   "source": [
    "Inverse: for a binary operation on a set is an element that undoes the effect of another element with respect to that operation when applied to the identity element.\n",
    "\n",
    "- Let (S, @) be a set S with a binary operation @: S @ S → S.\n",
    "- Suppose e ∈ S is an identity for @, i.e. for every x ∈ S:\n",
    "  - e @ x = x\n",
    "  - x @ e = x\n",
    "\n",
    "- An element y ∈ S is called inverse of x ∈ S (with respect to identity e and operation @) if:\n",
    "  - x @ y = e\n",
    "  - y @ x = e"
   ],
   "id": "e320d78c3bfd6f12"
  },
  {
   "metadata": {
    "ExecuteTime": {
     "end_time": "2025-10-08T06:21:45.487089Z",
     "start_time": "2025-10-08T06:21:45.484278Z"
    }
   },
   "cell_type": "code",
   "source": [
    "z = a + -a\n",
    "print(f\"Additive Inverse: a + -a = 0 (-e is the additive inverse over Integers)\")\n",
    "print(f\"a[{a}] + -a[{-a}] = z[{z}]\")\n",
    "print(f\"z :: {type(z)}\")"
   ],
   "id": "5e111ef60803f37",
   "outputs": [
    {
     "name": "stdout",
     "output_type": "stream",
     "text": [
      "Additive Inverse: a + -a = 0 (-e is the additive inverse over Integers)\n",
      "a[1] + -a[-1] = z[0]\n",
      "z :: <class 'int'>\n"
     ]
    }
   ],
   "execution_count": 12
  },
  {
   "metadata": {},
   "cell_type": "markdown",
   "source": "We are going to play around floats and booleans.",
   "id": "168c0fb34a2cc680"
  },
  {
   "metadata": {
    "ExecuteTime": {
     "end_time": "2025-10-08T06:21:45.515854Z",
     "start_time": "2025-10-08T06:21:45.509304Z"
    }
   },
   "cell_type": "code",
   "source": [
    "i = 0\n",
    "f = 0.0\n",
    "print(f\"type i {type(i)}, type f {type(f)}\")\n",
    "type(i) == type(f)"
   ],
   "id": "e8e50260312fb6ac",
   "outputs": [
    {
     "name": "stdout",
     "output_type": "stream",
     "text": [
      "type i <class 'int'>, type f <class 'float'>\n"
     ]
    },
    {
     "data": {
      "text/plain": [
       "False"
      ]
     },
     "execution_count": 13,
     "metadata": {},
     "output_type": "execute_result"
    }
   ],
   "execution_count": 13
  },
  {
   "metadata": {
    "ExecuteTime": {
     "end_time": "2025-10-08T06:21:45.545792Z",
     "start_time": "2025-10-08T06:21:45.538977Z"
    }
   },
   "cell_type": "code",
   "source": "i == f",
   "id": "9829afb5b7fedb9b",
   "outputs": [
    {
     "data": {
      "text/plain": [
       "True"
      ]
     },
     "execution_count": 14,
     "metadata": {},
     "output_type": "execute_result"
    }
   ],
   "execution_count": 14
  },
  {
   "metadata": {},
   "cell_type": "markdown",
   "source": "Type promotion: int -> float",
   "id": "a7ef49b208402414"
  },
  {
   "metadata": {
    "ExecuteTime": {
     "end_time": "2025-10-08T06:21:45.562353Z",
     "start_time": "2025-10-08T06:21:45.558034Z"
    }
   },
   "cell_type": "code",
   "source": [
    "i = 0\n",
    "f = 0.1\n",
    "i == f"
   ],
   "id": "15ebe0b64b893ef8",
   "outputs": [
    {
     "data": {
      "text/plain": [
       "False"
      ]
     },
     "execution_count": 15,
     "metadata": {},
     "output_type": "execute_result"
    }
   ],
   "execution_count": 15
  },
  {
   "metadata": {},
   "cell_type": "markdown",
   "source": "Truncation",
   "id": "37bf016930b2c82b"
  },
  {
   "metadata": {
    "ExecuteTime": {
     "end_time": "2025-10-08T06:21:45.572764Z",
     "start_time": "2025-10-08T06:21:45.569813Z"
    }
   },
   "cell_type": "code",
   "source": "i == int(f)",
   "id": "4a13705f6af7282d",
   "outputs": [
    {
     "data": {
      "text/plain": [
       "True"
      ]
     },
     "execution_count": 16,
     "metadata": {},
     "output_type": "execute_result"
    }
   ],
   "execution_count": 16
  },
  {
   "metadata": {},
   "cell_type": "markdown",
   "source": "Type promotion: int -> float",
   "id": "b56c76dd20c50b66"
  },
  {
   "metadata": {
    "ExecuteTime": {
     "end_time": "2025-10-08T06:21:45.583841Z",
     "start_time": "2025-10-08T06:21:45.581625Z"
    }
   },
   "cell_type": "code",
   "source": [
    "i = 1\n",
    "f = 2.3\n",
    "s = i + f\n",
    "m = i * f\n",
    "print(f\"type s {type(s)}, type m {type(m)}\")"
   ],
   "id": "e3680422b60202ad",
   "outputs": [
    {
     "name": "stdout",
     "output_type": "stream",
     "text": [
      "type s <class 'float'>, type m <class 'float'>\n"
     ]
    }
   ],
   "execution_count": 17
  },
  {
   "metadata": {
    "ExecuteTime": {
     "end_time": "2025-10-08T06:21:45.596311Z",
     "start_time": "2025-10-08T06:21:45.592547Z"
    }
   },
   "cell_type": "code",
   "source": [
    "i = 2\n",
    "f = 2.0\n",
    "d1 = i / f\n",
    "d2 = f / i\n",
    "d3 = i / i\n",
    "d4 = i // f\n",
    "d5 = f // i\n",
    "d6 = i // i\n",
    "print(f\"type d1 {type(d1)}, type d2 {type(d2)}, type d3 {type(d3)}, type d4 {type(d4)}, type d5 {type(d5)}, type d6 {type(d6)}\")"
   ],
   "id": "230783833773ddc",
   "outputs": [
    {
     "name": "stdout",
     "output_type": "stream",
     "text": [
      "type d1 <class 'float'>, type d2 <class 'float'>, type d3 <class 'float'>, type d4 <class 'float'>, type d5 <class 'float'>, type d6 <class 'int'>\n"
     ]
    }
   ],
   "execution_count": 18
  },
  {
   "metadata": {},
   "cell_type": "markdown",
   "source": "Fraction type from Python which keeps rational numbers as a pure fraction, no floats!",
   "id": "c5342077e2d043db"
  },
  {
   "metadata": {
    "ExecuteTime": {
     "end_time": "2025-10-08T06:21:45.608469Z",
     "start_time": "2025-10-08T06:21:45.604802Z"
    }
   },
   "cell_type": "code",
   "source": [
    "from fractions import Fraction\n",
    "\n",
    "f1_3 = Fraction(1, 3)\n",
    "f1_6 = Fraction(1, 6)\n",
    "f1_2 = Fraction(1, 2)\n",
    "f_r = f1_3 + f1_6\n",
    "assert f_r == f1_2\n",
    "\n",
    "f1_10 = Fraction(1, 10)\n",
    "f10_100 = Fraction(10, 100)\n",
    "assert f1_10 == f10_100\n",
    "\n",
    "print(f1_10, f1_10.numerator, f1_10.denominator)\n",
    "print(f10_100, f10_100.numerator, f10_100.denominator)"
   ],
   "id": "da10051af98b948b",
   "outputs": [
    {
     "name": "stdout",
     "output_type": "stream",
     "text": [
      "1/10 1 10\n",
      "1/10 1 10\n"
     ]
    }
   ],
   "execution_count": 19
  },
  {
   "metadata": {
    "ExecuteTime": {
     "end_time": "2025-10-08T06:21:45.622945Z",
     "start_time": "2025-10-08T06:21:45.619514Z"
    }
   },
   "cell_type": "code",
   "source": [
    "import math\n",
    "gdc10 = math.gcd(10, 100, 1000)\n",
    "print((10 // gdc10), (100 // gdc10), (1000 // gdc10))\n",
    "Fraction(1, 10) == Fraction((10 // gdc10), (100 // gdc10)) == Fraction(10, 100)"
   ],
   "id": "2450d7ae6c5c3903",
   "outputs": [
    {
     "name": "stdout",
     "output_type": "stream",
     "text": [
      "1 10 100\n"
     ]
    },
    {
     "data": {
      "text/plain": [
       "True"
      ]
     },
     "execution_count": 20,
     "metadata": {},
     "output_type": "execute_result"
    }
   ],
   "execution_count": 20
  },
  {
   "metadata": {},
   "cell_type": "markdown",
   "source": "There is no type promotion when using numpy floats.",
   "id": "60850f48408d0ae"
  },
  {
   "metadata": {
    "ExecuteTime": {
     "end_time": "2025-10-08T06:21:45.642628Z",
     "start_time": "2025-10-08T06:21:45.635052Z"
    }
   },
   "cell_type": "code",
   "source": [
    "from numpy import float16, float32\n",
    "f1 = float16(0.123)\n",
    "f2 = float32(0.123)\n",
    "f1 == f2"
   ],
   "id": "d033d8826f72fbc7",
   "outputs": [
    {
     "data": {
      "text/plain": [
       "False"
      ]
     },
     "execution_count": 21,
     "metadata": {},
     "output_type": "execute_result"
    }
   ],
   "execution_count": 21
  },
  {
   "metadata": {},
   "cell_type": "markdown",
   "source": "Used bigger precision for output.",
   "id": "91788b06d7388b5d"
  },
  {
   "metadata": {
    "ExecuteTime": {
     "end_time": "2025-10-08T06:21:45.656365Z",
     "start_time": "2025-10-08T06:21:45.653148Z"
    }
   },
   "cell_type": "code",
   "source": [
    "f = f1 * f2\n",
    "type(f)"
   ],
   "id": "c485a73fa20658ca",
   "outputs": [
    {
     "data": {
      "text/plain": [
       "numpy.float32"
      ]
     },
     "execution_count": 22,
     "metadata": {},
     "output_type": "execute_result"
    }
   ],
   "execution_count": 22
  },
  {
   "metadata": {
    "ExecuteTime": {
     "end_time": "2025-10-08T06:21:45.681757Z",
     "start_time": "2025-10-08T06:21:45.676448Z"
    }
   },
   "cell_type": "code",
   "source": [
    "from numpy import array\n",
    "a = array([1, 2, 3], dtype=float32)\n",
    "s = a.sum()\n",
    "assert type(s) == float32\n",
    "type(s)"
   ],
   "id": "fd1cde94de84e780",
   "outputs": [
    {
     "data": {
      "text/plain": [
       "numpy.float32"
      ]
     },
     "execution_count": 23,
     "metadata": {},
     "output_type": "execute_result"
    }
   ],
   "execution_count": 23
  },
  {
   "metadata": {},
   "cell_type": "markdown",
   "source": "String operations: split, join, charAt...",
   "id": "80e3188f74ec5066"
  },
  {
   "metadata": {
    "ExecuteTime": {
     "end_time": "2025-10-08T06:21:45.690875Z",
     "start_time": "2025-10-08T06:21:45.688054Z"
    }
   },
   "cell_type": "code",
   "source": [
    "s = str(\"a new string was born\")\n",
    "assert s[2] == 'n'\n",
    "assert type(s[2]) == str\n",
    "ss = s.split(\" \")\n",
    "assert len(ss) == 5\n",
    "s1 = str.join(\" \", ss)\n",
    "assert s1 == \"a new string was born\""
   ],
   "id": "dbfc4e1f491aa331",
   "outputs": [],
   "execution_count": 24
  },
  {
   "metadata": {},
   "cell_type": "markdown",
   "source": "Dealing with complex numbers",
   "id": "fd73fef060bf9216"
  },
  {
   "metadata": {
    "ExecuteTime": {
     "end_time": "2025-10-08T06:21:45.701338Z",
     "start_time": "2025-10-08T06:21:45.697909Z"
    }
   },
   "cell_type": "code",
   "source": [
    "c1 = complex(3, 0)\n",
    "c2 = complex(0, 4)\n",
    "c3 = c1 + c2\n",
    "c3"
   ],
   "id": "dd0c7721bced8c8a",
   "outputs": [
    {
     "data": {
      "text/plain": [
       "(3+4j)"
      ]
     },
     "execution_count": 25,
     "metadata": {},
     "output_type": "execute_result"
    }
   ],
   "execution_count": 25
  },
  {
   "metadata": {
    "ExecuteTime": {
     "end_time": "2025-10-08T06:21:45.722366Z",
     "start_time": "2025-10-08T06:21:45.714795Z"
    }
   },
   "cell_type": "code",
   "source": [
    "import cmath\n",
    "assert c3.real == 3\n",
    "assert c3.imag == 4\n",
    "assert abs(c3) == 5\n",
    "r, theta = cmath.polar(c3)\n",
    "assert r == 5\n",
    "math.degrees(theta)"
   ],
   "id": "84d2dbec1432a74b",
   "outputs": [
    {
     "data": {
      "text/plain": [
       "53.13010235415598"
      ]
     },
     "execution_count": 26,
     "metadata": {},
     "output_type": "execute_result"
    }
   ],
   "execution_count": 26
  },
  {
   "metadata": {},
   "cell_type": "markdown",
   "source": [
    "## 3. String Lab: Cleaning & Counting\n",
    "### Given a paragraph, output: lowercased text, trimmed extra spaces, number of words, and count of vowels/consonants."
   ],
   "id": "673590ca7fb569e8"
  },
  {
   "metadata": {
    "ExecuteTime": {
     "end_time": "2025-10-08T06:21:46.408534Z",
     "start_time": "2025-10-08T06:21:45.735734Z"
    }
   },
   "cell_type": "code",
   "source": [
    "from unilab import count_words, draw_expression\n",
    "\n",
    "s = \"   ThIs Is A tEsT   \"\n",
    "print(f\"lowercased text: {s.lower()}\")\n",
    "print(f\"trimmed extra spaces: {s.strip()}\")\n",
    "print(f\"number of words: {count_words(s)}\")"
   ],
   "id": "f09dbe247e98a9c5",
   "outputs": [
    {
     "name": "stdout",
     "output_type": "stream",
     "text": [
      "lowercased text:    this is a test   \n",
      "trimmed extra spaces: ThIs Is A tEsT\n",
      "number of words: 4\n"
     ]
    }
   ],
   "execution_count": 27
  },
  {
   "metadata": {},
   "cell_type": "markdown",
   "source": "The lorem ipsum generator: https://www.lipsum.com/",
   "id": "37e5b98348764269"
  },
  {
   "metadata": {
    "ExecuteTime": {
     "end_time": "2025-10-08T06:21:46.469589Z",
     "start_time": "2025-10-08T06:21:46.465742Z"
    }
   },
   "cell_type": "code",
   "source": [
    "from unilab import count_words, count_vowels_consonants\n",
    "lorem_ipsum = \"\"\"Lorem ipsum dolor sit amet, consectetur adipiscing elit. Phasellus egestas molestie blandit. Ut ex dolor, ultrices vitae ornare a, tristique ut odio. Sed elementum metus quam, ac suscipit leo congue ac. Sed lobortis hendrerit metus in tincidunt. Vestibulum hendrerit massa justo, in imperdiet ante tempor séd. Nunc id volutpat sem. Donec iaculis, augue euismod pharetra feugiat, turpis nulla tincidunt justo, tempor porttitor erat libero sed libero. Phasellus rhoncus rutrum pulvinar. Nunc eu auctor lacus. Sed sollicitudin fermentum sodales.\"\"\"\n",
    "n = count_words(lorem_ipsum)\n",
    "assert n == 78\n",
    "print(f\"number of words: {n}\")\n",
    "vowels, consonants = count_vowels_consonants(lorem_ipsum)\n",
    "print(f\"number of vowels: {vowels}\")\n",
    "print(f\"number of consonants: {consonants}\")"
   ],
   "id": "95b938d71e881c6b",
   "outputs": [
    {
     "name": "stdout",
     "output_type": "stream",
     "text": [
      "number of words: 78\n",
      "number of vowels: 186\n",
      "number of consonants: 260\n"
     ]
    }
   ],
   "execution_count": 28
  },
  {
   "metadata": {},
   "cell_type": "markdown",
   "source": [
    "## 4. Control‑Flow Mini‑Calculator\n",
    "### Read two numbers and an operator (+ - * /). Validate input and compute the result using if/elif/else. Handle division by zero gracefully."
   ],
   "id": "76c44daaf4b62089"
  },
  {
   "metadata": {},
   "cell_type": "markdown",
   "source": "Very first noob implementation about a calculator",
   "id": "2d3262495ccce798"
  },
  {
   "metadata": {
    "ExecuteTime": {
     "end_time": "2025-10-08T06:21:46.483953Z",
     "start_time": "2025-10-08T06:21:46.481184Z"
    }
   },
   "cell_type": "code",
   "source": [
    "a = 3\n",
    "b = 3\n",
    "op = \"/\"\n",
    "\n",
    "if len(op) != 1:\n",
    "    print(\"Invalid operator\")\n",
    "else:\n",
    "    match op[0]:\n",
    "        case \"+\":\n",
    "            print(f\"{a} + {b} = {a + b}\")\n",
    "        case \"-\":\n",
    "            print(f\"{a} - {b} = {a - b}\")\n",
    "        case \"*\":\n",
    "            print(f\"{a} * {b} = {a * b}\")\n",
    "        case \"/\":\n",
    "            if b == 0:\n",
    "                print(\"Division by zero [not allowed]\")\n",
    "            else:\n",
    "                print(f\"{a} / {b} = {a / b}\")\n",
    "        case \"-\":\n",
    "            print(\"Invalid operator\")"
   ],
   "id": "d665bf11895c2dbb",
   "outputs": [
    {
     "name": "stdout",
     "output_type": "stream",
     "text": [
      "3 / 3 = 1.0\n"
     ]
    }
   ],
   "execution_count": 29
  },
  {
   "metadata": {},
   "cell_type": "markdown",
   "source": "Calculator like a pro. An evaluate expression: (1 + 2) * (9 / 3) = 9",
   "id": "5ad3d107fe77b762"
  },
  {
   "metadata": {
    "ExecuteTime": {
     "end_time": "2025-10-08T06:21:46.495225Z",
     "start_time": "2025-10-08T06:21:46.492226Z"
    }
   },
   "cell_type": "code",
   "source": [
    "from unilab import evaluate_expression\n",
    "expr = \"(1 + 2) * (9 / 3)\"\n",
    "desc = evaluate_expression(expr)\n",
    "desc"
   ],
   "id": "35975a87c952c4c6",
   "outputs": [
    {
     "data": {
      "text/plain": [
       "9.0"
      ]
     },
     "execution_count": 30,
     "metadata": {},
     "output_type": "execute_result"
    }
   ],
   "execution_count": 30
  },
  {
   "metadata": {
    "ExecuteTime": {
     "end_time": "2025-10-08T06:21:46.637589Z",
     "start_time": "2025-10-08T06:21:46.502540Z"
    }
   },
   "cell_type": "code",
   "source": "draw_expression(expr)",
   "id": "c0d9b68bd9d80055",
   "outputs": [
    {
     "data": {
      "text/plain": [
       "<Figure size 800x600 with 1 Axes>"
      ],
      "image/png": "[encoded data removed]"
     },
     "metadata": {},
     "output_type": "display_data",
     "jetTransient": {
      "display_id": null
     }
    }
   ],
   "execution_count": 31
  },
  {
   "metadata": {
    "ExecuteTime": {
     "end_time": "2025-10-08T06:21:46.710564Z",
     "start_time": "2025-10-08T06:21:46.643630Z"
    }
   },
   "cell_type": "code",
   "source": "draw_expression(\"(1 + 2 + 3 + 4) / (4 + 3 + 2 + 1)\")",
   "id": "9f3570136b3c90d8",
   "outputs": [
    {
     "data": {
      "text/plain": [
       "<Figure size 800x600 with 1 Axes>"
      ],
      "image/png": "[encoded data removed]"
     },
     "metadata": {},
     "output_type": "display_data",
     "jetTransient": {
      "display_id": null
     }
    }
   ],
   "execution_count": 32
  },
  {
   "metadata": {},
   "cell_type": "markdown",
   "source": "The idea was good, but it gets messy really fast. Let's try to improve with Graphviz later on...",
   "id": "91b67e11b02a8dc9"
  },
  {
   "metadata": {},
   "cell_type": "markdown",
   "source": [
    "## 5. Lists 101: Stats & Slices\n",
    "### Create a list of 30 random integers in [0, 100]. Show: sorted ascending/descending, sum, mean, min, max, first 5, last 5, evens/odds."
   ],
   "id": "f1293a2d76748aa0"
  },
  {
   "metadata": {
    "ExecuteTime": {
     "end_time": "2025-10-08T06:21:46.721830Z",
     "start_time": "2025-10-08T06:21:46.717671Z"
    }
   },
   "cell_type": "code",
   "source": [
    "from unilab import random_numbers, mean\n",
    "numbers = random_numbers(30)\n",
    "\n",
    "print(f\"len numbers: {len(numbers)}\")\n",
    "asc = sorted(numbers)\n",
    "print(f\"sorted ascending: {asc}\")\n",
    "desc = sorted(numbers, reverse=True)\n",
    "print(f\"sorted descending: {desc}\")\n",
    "s = sum(numbers)\n",
    "print(f\"sum: {s}\")\n",
    "mean = mean(numbers)\n",
    "print(f\"mean: {mean}\")\n",
    "min_n = min(numbers)\n",
    "print(f\"min: {min_n}\")\n",
    "max_n = max(numbers)\n",
    "print(f\"max: {max_n}\")\n",
    "first_5 = numbers[:5]\n",
    "print(f\"first 5: {first_5}\")\n",
    "last_5 = numbers[-5:]\n",
    "print(f\"last 5: {last_5}\")\n",
    "evens = [i for i in numbers if i % 2 == 0]\n",
    "print(f\"evens: {evens}\")\n",
    "odds = [i for i in numbers if i % 2 != 0]\n",
    "print(f\"evens: {odds}\")"
   ],
   "id": "c5ef03190effcba9",
   "outputs": [
    {
     "name": "stdout",
     "output_type": "stream",
     "text": [
      "len numbers: 30\n",
      "sorted ascending: [0, 5, 6, 7, 11, 15, 16, 22, 23, 24, 25, 26, 32, 35, 39, 41, 42, 46, 52, 62, 68, 73, 74, 75, 76, 80, 84, 92, 93, 98]\n",
      "sorted descending: [98, 93, 92, 84, 80, 76, 75, 74, 73, 68, 62, 52, 46, 42, 41, 39, 35, 32, 26, 25, 24, 23, 22, 16, 15, 11, 7, 6, 5, 0]\n",
      "sum: 1342\n",
      "mean: 44.733333333333334\n",
      "min: 0\n",
      "max: 98\n",
      "first 5: [0, 5, 6, 7, 11]\n",
      "last 5: [80, 84, 92, 93, 98]\n",
      "evens: [0, 6, 16, 22, 24, 26, 32, 42, 46, 52, 62, 68, 74, 76, 80, 84, 92, 98]\n",
      "evens: [5, 7, 11, 15, 23, 25, 35, 39, 41, 73, 75, 93]\n"
     ]
    }
   ],
   "execution_count": 33
  },
  {
   "metadata": {},
   "cell_type": "markdown",
   "source": [
    "## 6. Tuples vs Lists (Immutability Demo)\n",
    "### Demonstrate an attempted mutation on a tuple and capture the resulting exception. Explain when a tuple is preferable to a list."
   ],
   "id": "f9611779bb340283"
  },
  {
   "metadata": {
    "ExecuteTime": {
     "end_time": "2025-10-08T06:30:03.672842Z",
     "start_time": "2025-10-08T06:30:03.666491Z"
    }
   },
   "cell_type": "code",
   "source": [
    "a = [1, 2, 3 , 4]\n",
    "t = tuple(a)\n",
    "l = list(a)\n",
    "\n",
    "for i in range(len(t)):\n",
    "    assert t[i] == i + 1\n",
    "\n",
    "for i in range(len(l)):\n",
    "    assert l[i] == i + 1\n",
    "\n",
    "print(f\"t before: {t}\")\n",
    "assert t[2] == 3\n",
    "try:\n",
    "    t[2] = 7\n",
    "except Exception as e:\n",
    "    print(f\"Exception: {e}\")\n",
    "assert t[2] == 3\n",
    "\n",
    "print(f\"l before: {l}\")\n",
    "assert l[2] == 3\n",
    "l[2] = 7\n",
    "assert l[2] == 7\n",
    "print(f\"l after: {l}\")"
   ],
   "id": "b724620737d44fd3",
   "outputs": [
    {
     "name": "stdout",
     "output_type": "stream",
     "text": [
      "t before: (1, 2, 3, 4)\n",
      "Exception: 'tuple' object does not support item assignment\n",
      "l before: [1, 2, 3, 4]\n",
      "l after: [1, 2, 7, 4]\n"
     ]
    }
   ],
   "execution_count": 35
  },
  {
   "metadata": {},
   "cell_type": "markdown",
   "source": "tuples are immutable, and lists are mutable.",
   "id": "e591bba16fdf4fce"
  },
  {
   "metadata": {},
   "cell_type": "markdown",
   "source": [
    "## 7. Dictionaries as Tiny Databases\n",
    "### Maintain a `students` dictionary mapping names → list of grades. Implement functions to add a student, update grades, compute class average, and top‑N students."
   ],
   "id": "946d034931602dd1"
  },
  {
   "metadata": {
    "ExecuteTime": {
     "end_time": "2025-10-08T08:43:57.133683Z",
     "start_time": "2025-10-08T08:43:57.092478Z"
    }
   },
   "cell_type": "code",
   "source": [
    "# models\n",
    "class Subject:\n",
    "    def __init__(self, subject_id: int, subject_name: str):\n",
    "        self.subject_id = subject_id\n",
    "        self.subject_name = subject_name\n",
    "\n",
    "    def __hash__(self):\n",
    "        return hash(self.subject_id)\n",
    "\n",
    "    def __repr__(self):\n",
    "        return f\"{self.subject_name}\"\n",
    "\n",
    "class Student:\n",
    "    def __init__(self, student_id: int, student_name: str):\n",
    "        self.student_id = student_id\n",
    "        self.student_name = student_name\n",
    "\n",
    "    def __hash__(self):\n",
    "        return hash(self.student_id)\n",
    "\n",
    "    def __repr__(self):\n",
    "        return f\"{self.student_name}\"\n",
    "\n",
    "class Grade:\n",
    "    def __init__(self, subject: Subject, score: int):\n",
    "        self.subject = subject\n",
    "        self.score = score\n",
    "\n",
    "    def __eq__(self, other):\n",
    "        if not isinstance(other, Grade):\n",
    "            return False\n",
    "        return self.subject.subject_id == other.subject.subject_id\n",
    "\n",
    "    def __hash__(self):\n",
    "        return self.subject.__hash__()\n",
    "\n",
    "# databases\n",
    "class SubjectDatabase:\n",
    "    def __init__(self):\n",
    "        self.subjects: list[Subject] = list()\n",
    "\n",
    "    def add(self, subject_name: str) -> Subject:\n",
    "        subject_id = len(self.subjects)\n",
    "        subject = Subject(subject_id, subject_name)\n",
    "        self.subjects.append(subject)\n",
    "        return subject\n",
    "\n",
    "    def get(self, subject_id: int) -> Subject:\n",
    "        return self.subjects[subject_id]\n",
    "\n",
    "    def has(self, subject_id: int) -> bool:\n",
    "        return 0 <= subject_id < len(self.subjects)\n",
    "\n",
    "\n",
    "class StudentDatabase:\n",
    "    def __init__(self):\n",
    "        self.students: list[Student] = list()\n",
    "\n",
    "    def add(self, student_name: str) -> Student:\n",
    "        student_id = len(self.students)\n",
    "        student = Student(student_id, student_name)\n",
    "        self.students.append(student)\n",
    "        return student\n",
    "\n",
    "    def get(self, student_id: int) -> Student:\n",
    "        return self.students[student_id]\n",
    "\n",
    "    def has(self, student_id: int) -> bool:\n",
    "        return 0 <= student_id < len(self.students)\n",
    "\n",
    "class GradeDatabase:\n",
    "    def __init__(self):\n",
    "        self.grades: dict[Student, set[Grade]] = dict()\n",
    "\n",
    "    def add(self, student: Student, grade: Grade):\n",
    "        _grades_per_student = self.grades.setdefault(student, set())\n",
    "        _grades_per_student.discard(grade)\n",
    "        _grades_per_student.add(grade)\n",
    "\n",
    "    def get_grades(self, student: Student = None, subject: Subject = None) -> list[tuple[Student, Grade]]:\n",
    "        r_list: list[tuple[Student, Grade]] = []\n",
    "        for _student, _grades in self.grades.items():\n",
    "            if student is not None and student.student_id != _student.student_id: continue\n",
    "            for _grade in _grades:\n",
    "                if subject is not None and subject.subject_id != _grade.subject.subject_id: continue\n",
    "                r_list.append((_student, _grade))\n",
    "        return r_list\n",
    "\n",
    "# services\n",
    "import pandas as pd\n",
    "\n",
    "class GradeService:\n",
    "    def __init__(self, subject_database: SubjectDatabase, student_database: StudentDatabase, grade_database: GradeDatabase):\n",
    "        self.subject_database = subject_database\n",
    "        self.student_database = student_database\n",
    "        self.grade_database = grade_database\n",
    "\n",
    "    def update_grade(self, student: Student, subject: Subject, score: int):\n",
    "        if not student_db.has(student.student_id) or not subject_db.has(subject.subject_id): return\n",
    "        self.grade_database.add(student, Grade(subject, score))\n",
    "\n",
    "    def get_breakdown(self, student: Student = None) -> pd.DataFrame:\n",
    "        _rows = []\n",
    "        for _student, _grade in self.grade_database.get_grades(student):\n",
    "            _rows.append({\n",
    "                \"student\": _student.student_name,\n",
    "                \"subject\": _grade.subject.subject_name,\n",
    "                \"score\": _grade.score\n",
    "            })\n",
    "        _df = pd.DataFrame(_rows)\n",
    "        _df = _df.sort_values([\"student\", \"subject\"]).reset_index(drop=True)\n",
    "        return _df\n",
    "\n",
    "    def get_average_by_subject(self, subject: Subject = None) -> list[tuple[Subject, float]]:\n",
    "        _scores: dict[Subject, list[int]] = dict()\n",
    "        for _student, _grade in self.grade_database.get_grades(subject = subject):\n",
    "            _scores.setdefault(_grade.subject, []).append(_grade.score)\n",
    "        _averages: list[tuple[Subject, float]] = list()\n",
    "        for _subject, _scores_list in _scores.items():\n",
    "            _average = sum(_scores_list) / len(_scores_list) if len(_scores_list) > 0 else 0.0\n",
    "            _averages.append((_subject, _average))\n",
    "        return _averages\n",
    "\n",
    "    def get_average_by_student(self, student: Student = None) -> list[tuple[Student, float]]:\n",
    "        _scores: dict[Student, list[int]] = dict()\n",
    "        for _student, _grade in self.grade_database.get_grades(student = student):\n",
    "            _scores.setdefault(_student, []).append(_grade.score)\n",
    "        _averages: list[tuple[Student, float]] = list()\n",
    "        for _student, _scores_list in _scores.items():\n",
    "            _average = sum(_scores_list) / len(_scores_list) if len(_scores_list) > 0 else 0.0\n",
    "            _averages.append((_student, _average))\n",
    "        return _averages\n",
    "\n",
    "    def get_top(self, top_n: int = 5) -> tuple[Student]:\n",
    "        _averages = sorted(self.get_average_by_student(), key=lambda x: x[1], reverse=True)\n",
    "        _students = []\n",
    "        for _student, _scores in _averages:\n",
    "            _students.append(_student)\n",
    "            if len(_students) >= top_n: break\n",
    "        return tuple(_students)\n",
    "\n",
    "# application\n",
    "subject_db = SubjectDatabase()\n",
    "student_db = StudentDatabase()\n",
    "grade_db = GradeDatabase()\n",
    "grade_service = GradeService(subject_db, student_db, grade_db)\n",
    "\n",
    "math = subject_db.add(\"Math\")\n",
    "english = subject_db.add(\"English\")\n",
    "history = subject_db.add(\"History\")\n",
    "\n",
    "john = student_db.add(\"John\")\n",
    "elizabeth = student_db.add(\"Elizabeth\")\n",
    "maurice = student_db.add(\"Maurice\")\n",
    "isaac = student_db.add(\"Isaac\")\n",
    "olef = student_db.add(\"Olef\")\n",
    "\n",
    "grade_service.update_grade(john, math, 50)\n",
    "grade_service.update_grade(john, english, 80)\n",
    "grade_service.update_grade(john, history, 30)\n",
    "\n",
    "grade_service.update_grade(elizabeth, math, 80)\n",
    "# a mistaken have been made with elizabeth's english grade\n",
    "grade_service.update_grade(elizabeth, english, 45)\n",
    "# it got updated\n",
    "grade_service.update_grade(elizabeth, english, 90)\n",
    "grade_service.update_grade(elizabeth, history, 60)\n",
    "\n",
    "grade_service.update_grade(maurice, math, 70)\n",
    "grade_service.update_grade(maurice, english, 50)\n",
    "grade_service.update_grade(maurice, history, 90)\n",
    "\n",
    "grade_service.update_grade(isaac, math, 35)\n",
    "grade_service.update_grade(isaac, english, 40)\n",
    "grade_service.update_grade(isaac, history, 75)\n",
    "\n",
    "grade_service.update_grade(olef, math, 100)\n",
    "grade_service.update_grade(olef, english, 55)\n",
    "grade_service.update_grade(olef, history, 15)\n",
    "\n",
    "display(grade_service.get_breakdown())\n",
    "print(f\"{grade_service.get_average_by_subject()}\")\n",
    "print(f\"{grade_service.get_top(3)}\")"
   ],
   "id": "b161bfbe67270b47",
   "outputs": [
    {
     "data": {
      "text/plain": [
       "      student  subject  score\n",
       "0   Elizabeth  English     90\n",
       "1   Elizabeth  History     60\n",
       "2   Elizabeth     Math     80\n",
       "3       Isaac  English     40\n",
       "4       Isaac  History     75\n",
       "5       Isaac     Math     35\n",
       "6        John  English     80\n",
       "7        John  History     30\n",
       "8        John     Math     50\n",
       "9     Maurice  English     50\n",
       "10    Maurice  History     90\n",
       "11    Maurice     Math     70\n",
       "12       Olef  English     55\n",
       "13       Olef  History     15\n",
       "14       Olef     Math    100"
      ],
      "text/html": [
       "<div>\n",
       "<style scoped>\n",
       "    .dataframe tbody tr th:only-of-type {\n",
       "        vertical-align: middle;\n",
       "    }\n",
       "\n",
       "    .dataframe tbody tr th {\n",
       "        vertical-align: top;\n",
       "    }\n",
       "\n",
       "    .dataframe thead th {\n",
       "        text-align: right;\n",
       "    }\n",
       "</style>\n",
       "<table border=\"1\" class=\"dataframe\">\n",
       "  <thead>\n",
       "    <tr style=\"text-align: right;\">\n",
       "      <th></th>\n",
       "      <th>student</th>\n",
       "      <th>subject</th>\n",
       "      <th>score</th>\n",
       "    </tr>\n",
       "  </thead>\n",
       "  <tbody>\n",
       "    <tr>\n",
       "      <th>0</th>\n",
       "      <td>Elizabeth</td>\n",
       "      <td>English</td>\n",
       "      <td>90</td>\n",
       "    </tr>\n",
       "    <tr>\n",
       "      <th>1</th>\n",
       "      <td>Elizabeth</td>\n",
       "      <td>History</td>\n",
       "      <td>60</td>\n",
       "    </tr>\n",
       "    <tr>\n",
       "      <th>2</th>\n",
       "      <td>Elizabeth</td>\n",
       "      <td>Math</td>\n",
       "      <td>80</td>\n",
       "    </tr>\n",
       "    <tr>\n",
       "      <th>3</th>\n",
       "      <td>Isaac</td>\n",
       "      <td>English</td>\n",
       "      <td>40</td>\n",
       "    </tr>\n",
       "    <tr>\n",
       "      <th>4</th>\n",
       "      <td>Isaac</td>\n",
       "      <td>History</td>\n",
       "      <td>75</td>\n",
       "    </tr>\n",
       "    <tr>\n",
       "      <th>5</th>\n",
       "      <td>Isaac</td>\n",
       "      <td>Math</td>\n",
       "      <td>35</td>\n",
       "    </tr>\n",
       "    <tr>\n",
       "      <th>6</th>\n",
       "      <td>John</td>\n",
       "      <td>English</td>\n",
       "      <td>80</td>\n",
       "    </tr>\n",
       "    <tr>\n",
       "      <th>7</th>\n",
       "      <td>John</td>\n",
       "      <td>History</td>\n",
       "      <td>30</td>\n",
       "    </tr>\n",
       "    <tr>\n",
       "      <th>8</th>\n",
       "      <td>John</td>\n",
       "      <td>Math</td>\n",
       "      <td>50</td>\n",
       "    </tr>\n",
       "    <tr>\n",
       "      <th>9</th>\n",
       "      <td>Maurice</td>\n",
       "      <td>English</td>\n",
       "      <td>50</td>\n",
       "    </tr>\n",
       "    <tr>\n",
       "      <th>10</th>\n",
       "      <td>Maurice</td>\n",
       "      <td>History</td>\n",
       "      <td>90</td>\n",
       "    </tr>\n",
       "    <tr>\n",
       "      <th>11</th>\n",
       "      <td>Maurice</td>\n",
       "      <td>Math</td>\n",
       "      <td>70</td>\n",
       "    </tr>\n",
       "    <tr>\n",
       "      <th>12</th>\n",
       "      <td>Olef</td>\n",
       "      <td>English</td>\n",
       "      <td>55</td>\n",
       "    </tr>\n",
       "    <tr>\n",
       "      <th>13</th>\n",
       "      <td>Olef</td>\n",
       "      <td>History</td>\n",
       "      <td>15</td>\n",
       "    </tr>\n",
       "    <tr>\n",
       "      <th>14</th>\n",
       "      <td>Olef</td>\n",
       "      <td>Math</td>\n",
       "      <td>100</td>\n",
       "    </tr>\n",
       "  </tbody>\n",
       "</table>\n",
       "</div>"
      ]
     },
     "metadata": {},
     "output_type": "display_data",
     "jetTransient": {
      "display_id": null
     }
    },
    {
     "name": "stdout",
     "output_type": "stream",
     "text": [
      "[(Math, 67.0), (English, 63.0), (History, 54.0)]\n",
      "(Elizabeth, Maurice, Olef)\n"
     ]
    }
   ],
   "execution_count": 75
  }
 ],
 "metadata": {
  "kernelspec": {
   "display_name": "Python 3",
   "language": "python",
   "name": "python3"
  },
  "language_info": {
   "codemirror_mode": {
    "name": "ipython",
    "version": 2
   },
   "file_extension": ".py",
   "mimetype": "text/x-python",
   "name": "python",
   "nbconvert_exporter": "python",
   "pygments_lexer": "ipython2",
   "version": "2.7.6"
  }
 },
 "nbformat": 4,
 "nbformat_minor": 5
}
