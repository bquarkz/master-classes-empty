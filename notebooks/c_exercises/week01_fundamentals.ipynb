{
 "cells": [
  {
   "metadata": {},
   "cell_type": "markdown",
   "source": "# Week 1",
   "id": "ad33cb64d925b01a"
  },
  {
   "metadata": {},
   "cell_type": "markdown",
   "source": [
    "## 1. Hello, AI! (Warm‑up)\n",
    "### Print a personalized greeting with today’s date/time. Use datetime and f‑strings."
   ],
   "id": "3b216097c253b290"
  },
  {
   "metadata": {},
   "cell_type": "markdown",
   "source": "Take today's date and display it using the default format (ISO 8601: yyyy-MM-dd)",
   "id": "5c0450c73f588a85"
  },
  {
   "metadata": {
    "ExecuteTime": {
     "end_time": "2025-10-07T09:26:02.327048Z",
     "start_time": "2025-10-07T09:26:00.232987Z"
    }
   },
   "cell_type": "code",
   "source": [
    "from datetime import date\n",
    "\n",
    "from torch import last_error\n",
    "\n",
    "today_date = date.today()\n",
    "print(f\"Today: {today_date}\") #"
   ],
   "id": "2837732d077b5bed",
   "outputs": [
    {
     "ename": "ImportError",
     "evalue": "cannot import name 'last_error' from 'torch' (/opt/homebrew/anaconda3/envs/master-classes/lib/python3.12/site-packages/torch/__init__.py)",
     "output_type": "error",
     "traceback": [
      "\u001B[31m---------------------------------------------------------------------------\u001B[39m",
      "\u001B[31mImportError\u001B[39m                               Traceback (most recent call last)",
      "\u001B[36mCell\u001B[39m\u001B[36m \u001B[39m\u001B[32mIn[1]\u001B[39m\u001B[32m, line 3\u001B[39m\n\u001B[32m      1\u001B[39m \u001B[38;5;28;01mfrom\u001B[39;00m\u001B[38;5;250m \u001B[39m\u001B[34;01mdatetime\u001B[39;00m\u001B[38;5;250m \u001B[39m\u001B[38;5;28;01mimport\u001B[39;00m date\n\u001B[32m----> \u001B[39m\u001B[32m3\u001B[39m \u001B[38;5;28;01mfrom\u001B[39;00m\u001B[38;5;250m \u001B[39m\u001B[34;01mtorch\u001B[39;00m\u001B[38;5;250m \u001B[39m\u001B[38;5;28;01mimport\u001B[39;00m last_error\n\u001B[32m      5\u001B[39m today_date = date.today()\n\u001B[32m      6\u001B[39m \u001B[38;5;28mprint\u001B[39m(\u001B[33mf\u001B[39m\u001B[33m\"\u001B[39m\u001B[33mToday: \u001B[39m\u001B[38;5;132;01m{\u001B[39;00mtoday_date\u001B[38;5;132;01m}\u001B[39;00m\u001B[33m\"\u001B[39m) \u001B[38;5;66;03m#\u001B[39;00m\n",
      "\u001B[31mImportError\u001B[39m: cannot import name 'last_error' from 'torch' (/opt/homebrew/anaconda3/envs/master-classes/lib/python3.12/site-packages/torch/__init__.py)"
     ]
    }
   ],
   "execution_count": 1
  },
  {
   "metadata": {},
   "cell_type": "markdown",
   "source": "In the same way take today with the current timestamp and display it using the default format (ISO 8601: yyyy-MM-dd hh:mm:ss.ms)",
   "id": "93de1394f8c650de"
  },
  {
   "metadata": {
    "ExecuteTime": {
     "end_time": "2025-10-07T09:26:02.336759Z",
     "start_time": "2025-10-06T19:31:41.472631Z"
    }
   },
   "cell_type": "code",
   "source": [
    "from datetime import datetime\n",
    "now = datetime.now()\n",
    "print(f\"Current date and time: {now}\")"
   ],
   "id": "91b530459775ca57",
   "outputs": [
    {
     "name": "stdout",
     "output_type": "stream",
     "text": [
      "Current date and time: 2025-10-06 20:31:41.473161\n"
     ]
    }
   ],
   "execution_count": 2
  },
  {
   "metadata": {},
   "cell_type": "markdown",
   "source": "Playing around with different timezones",
   "id": "864a0d509fd7563b"
  },
  {
   "metadata": {
    "ExecuteTime": {
     "end_time": "2025-10-07T09:26:02.360165Z",
     "start_time": "2025-10-06T19:31:41.494119Z"
    }
   },
   "cell_type": "code",
   "source": [
    "from datetime import datetime, timezone\n",
    "local = timezone.utc\n",
    "now_local = datetime.now(timezone.utc)\n",
    "print(f\"Local time: {now_local} ({local})\")"
   ],
   "id": "2524c9af916fd9ae",
   "outputs": [
    {
     "name": "stdout",
     "output_type": "stream",
     "text": [
      "Local time: 2025-10-06 19:31:41.494750+00:00 (UTC)\n"
     ]
    }
   ],
   "execution_count": 3
  },
  {
   "metadata": {
    "ExecuteTime": {
     "end_time": "2025-10-07T09:26:02.360723Z",
     "start_time": "2025-10-06T19:31:41.514163Z"
    }
   },
   "cell_type": "code",
   "source": [
    "from datetime import datetime\n",
    "from zoneinfo import ZoneInfo\n",
    "\n",
    "ny = ZoneInfo(\"America/New_York\")\n",
    "now_ny = datetime.now(ny).isoformat(timespec=\"minutes\")\n",
    "print(f\"USA - New York time: {now_ny} ({ny})\")\n",
    "\n",
    "los_angeles = ZoneInfo(\"America/Los_Angeles\")\n",
    "now_los_angeles = datetime.now(los_angeles).isoformat(timespec=\"minutes\")\n",
    "print(f\"USA - Los Angeles time: {now_los_angeles} ({los_angeles})\")\n",
    "\n",
    "dublin = ZoneInfo(\"Europe/Dublin\")\n",
    "now_dublin = datetime.now(dublin).isoformat(timespec=\"minutes\")\n",
    "print(f\"Ireland - Dublin time: {now_dublin} ({dublin})\")"
   ],
   "id": "9d9ee38d1f9c4697",
   "outputs": [
    {
     "name": "stdout",
     "output_type": "stream",
     "text": [
      "USA - New York time: 2025-10-06T15:31-04:00 (America/New_York)\n",
      "USA - Los Angeles time: 2025-10-06T12:31-07:00 (America/Los_Angeles)\n",
      "Ireland - Dublin time: 2025-10-06T20:31+01:00 (Europe/Dublin)\n"
     ]
    }
   ],
   "execution_count": 4
  },
  {
   "metadata": {},
   "cell_type": "markdown",
   "source": "The kind of greetings...",
   "id": "ea14b6c6e324bfa4"
  },
  {
   "metadata": {
    "ExecuteTime": {
     "end_time": "2025-10-07T09:26:02.360978Z",
     "start_time": "2025-10-06T19:31:41.529207Z"
    }
   },
   "cell_type": "code",
   "source": [
    "from datetime import date\n",
    "name = \"Nilton\"\n",
    "birthday = date.fromisoformat(\"1980-07-31\")\n",
    "print(f\"I'm {name} and was born at {birthday:%A, %d %B %Y}\")"
   ],
   "id": "93d996f7dfeeaa21",
   "outputs": [
    {
     "name": "stdout",
     "output_type": "stream",
     "text": [
      "I'm Nilton and was born at Thursday, 31 July 1980\n"
     ]
    }
   ],
   "execution_count": 5
  },
  {
   "metadata": {},
   "cell_type": "markdown",
   "source": [
    "## 2. Type Explorer\n",
    "### Create variables of types int, float, bool, str, and complex. Show their type() and basic operations (e.g., string slicing, numeric arithmetic)."
   ],
   "id": "6accdbc87ab9d90f"
  },
  {
   "metadata": {},
   "cell_type": "markdown",
   "source": "Regarding Integers (int): Commutative, Associative, Distributive, Identity, and Inverse ",
   "id": "40dae74cb24dc9eb"
  },
  {
   "metadata": {
    "ExecuteTime": {
     "end_time": "2025-10-07T09:26:02.365310Z",
     "start_time": "2025-10-06T19:31:41.543654Z"
    }
   },
   "cell_type": "code",
   "source": [
    "a = 1\n",
    "b = 2\n",
    "c = 3\n",
    "print(f\"we have: a[{a}], b[{b}], c[{c}]\")\n",
    "print(f\"a :: {type(a)}\")\n",
    "print(f\"b :: {type(b)}\")\n",
    "print(f\"c :: {type(c)}\")"
   ],
   "id": "a5d8f65343137b10",
   "outputs": [
    {
     "name": "stdout",
     "output_type": "stream",
     "text": [
      "we have: a[1], b[2], c[3]\n",
      "a :: <class 'int'>\n",
      "b :: <class 'int'>\n",
      "c :: <class 'int'>\n"
     ]
    }
   ],
   "execution_count": 6
  },
  {
   "metadata": {
    "ExecuteTime": {
     "end_time": "2025-10-07T09:26:02.365695Z",
     "start_time": "2025-10-06T19:31:41.557804Z"
    }
   },
   "cell_type": "code",
   "source": [
    "z = a + b\n",
    "print(f\"Commutative: a + b = b + a\")\n",
    "print(f\"a[{a}] + b[{b}] = z[{z}] = b[{b}] + a[{a}]\")\n",
    "print(f\"z :: {type(z)}\")"
   ],
   "id": "dc5809025e84b9df",
   "outputs": [
    {
     "name": "stdout",
     "output_type": "stream",
     "text": [
      "Commutative: a + b = b + a\n",
      "a[1] + b[2] = z[3] = b[2] + a[1]\n",
      "z :: <class 'int'>\n"
     ]
    }
   ],
   "execution_count": 7
  },
  {
   "metadata": {
    "ExecuteTime": {
     "end_time": "2025-10-07T09:26:02.372340Z",
     "start_time": "2025-10-06T19:31:41.590308Z"
    }
   },
   "cell_type": "code",
   "source": [
    "z1 = (a + b) + c\n",
    "z2 = a + (b + c)\n",
    "print(f\"Associative: (a + b) + c = a + (b + c)\")\n",
    "print(f\"(a[{a}] + b[{b}]) + c[{c}] = z1[{z1}] = z2[{z2}] = a[{a}] + (b[{b}] + c[{c}])\")\n",
    "print(f\"z1 :: {type(z1)}\")\n",
    "print(f\"z2 :: {type(z2)}\")"
   ],
   "id": "90ff16da6a2ca531",
   "outputs": [
    {
     "name": "stdout",
     "output_type": "stream",
     "text": [
      "Associative: (a + b) + c = a + (b + c)\n",
      "(a[1] + b[2]) + c[3] = z1[6] = z2[6] = a[1] + (b[2] + c[3])\n",
      "z1 :: <class 'int'>\n",
      "z2 :: <class 'int'>\n"
     ]
    }
   ],
   "execution_count": 8
  },
  {
   "metadata": {
    "ExecuteTime": {
     "end_time": "2025-10-07T09:26:02.374416Z",
     "start_time": "2025-10-06T19:31:41.605735Z"
    }
   },
   "cell_type": "code",
   "source": [
    "z1 = (a + b) * c\n",
    "z2 = c * (a + b)\n",
    "print(f\"Distributive: (a + b) * c = c * (a + b)\")\n",
    "print(f\"(a[{a}] + b[{b}]) * c[{c}] = z1[{z1}] = z2[{z2}] = c[{c}] * (a[{a}] + b[{b}])\")\n",
    "print(f\"z1 :: {type(z1)}\")\n",
    "print(f\"z2 :: {type(z2)}\")"
   ],
   "id": "90b22a63c19c9ee7",
   "outputs": [
    {
     "name": "stdout",
     "output_type": "stream",
     "text": [
      "Distributive: (a + b) * c = c * (a + b)\n",
      "(a[1] + b[2]) * c[3] = z1[9] = z2[9] = c[3] * (a[1] + b[2])\n",
      "z1 :: <class 'int'>\n",
      "z2 :: <class 'int'>\n"
     ]
    }
   ],
   "execution_count": 9
  },
  {
   "metadata": {},
   "cell_type": "markdown",
   "source": [
    "Identity:\n",
    "An identity element for a binary operation on a set is an element that leaves every element of the set unchanged when the operation is applied.\n",
    "- Formal definition  \n",
    "  Let \\(S, @\\) be a set **S** with a binary operation \\(@: S @ S → S\\). An element e in **S** is an identity element for @ if, for every x in **S**:\n",
    "  - e @ x = x\n",
    "  - x @ e = x\n",
    "\n",
    "If such an e exists, and it is unique, e is an identity over S."
   ],
   "id": "1075c28f3ba3c627"
  },
  {
   "metadata": {
    "ExecuteTime": {
     "end_time": "2025-10-07T09:26:02.376331Z",
     "start_time": "2025-10-06T19:31:41.619414Z"
    }
   },
   "cell_type": "code",
   "source": [
    "z = a + 0\n",
    "print(f\"Additive Identity: a + 0 = a (0 is additive identity over Integers)\")\n",
    "print(f\"0 + a[{a}] = a[{a}] = z[{z}]\")\n",
    "print(f\"z :: {type(z)}\")"
   ],
   "id": "d9de3686201c0709",
   "outputs": [
    {
     "name": "stdout",
     "output_type": "stream",
     "text": [
      "Additive Identity: a + 0 = a (0 is additive identity over Integers)\n",
      "0 + a[1] = a[1] = z[1]\n",
      "z :: <class 'int'>\n"
     ]
    }
   ],
   "execution_count": 10
  },
  {
   "metadata": {},
   "cell_type": "markdown",
   "source": [
    "Inverse: for a binary operation on a set is an element that undoes the effect of another element with respect to that operation when applied to the identity element.\n",
    "\n",
    "- Let (S, @) be a set S with a binary operation @: S @ S → S.\n",
    "- Suppose e ∈ S is an identity for @, i.e. for every x ∈ S:\n",
    "  - e @ x = x\n",
    "  - x @ e = x\n",
    "\n",
    "- An element y ∈ S is called inverse of x ∈ S (with respect to identity e and operation @) if:\n",
    "  - x @ y = e\n",
    "  - y @ x = e"
   ],
   "id": "e320d78c3bfd6f12"
  },
  {
   "metadata": {
    "ExecuteTime": {
     "end_time": "2025-10-07T09:26:02.385688Z",
     "start_time": "2025-10-06T19:31:41.643464Z"
    }
   },
   "cell_type": "code",
   "source": [
    "z = a + -a\n",
    "print(f\"Additive Inverse: a + -a = 0 (-e is the additive inverse over Integers)\")\n",
    "print(f\"a[{a}] + -a[{-a}] = z[{z}]\")\n",
    "print(f\"z :: {type(z)}\")"
   ],
   "id": "5e111ef60803f37",
   "outputs": [
    {
     "name": "stdout",
     "output_type": "stream",
     "text": [
      "Additive Inverse: a + -a = 0 (-e is the additive inverse over Integers)\n",
      "a[1] + -a[-1] = z[0]\n",
      "z :: <class 'int'>\n"
     ]
    }
   ],
   "execution_count": 11
  },
  {
   "metadata": {},
   "cell_type": "markdown",
   "source": "We are going to play around floats and booleans.",
   "id": "168c0fb34a2cc680"
  },
  {
   "metadata": {
    "ExecuteTime": {
     "end_time": "2025-10-07T09:26:02.385966Z",
     "start_time": "2025-10-06T19:31:41.662475Z"
    }
   },
   "cell_type": "code",
   "source": [
    "i = 0\n",
    "f = 0.0\n",
    "print(f\"type i {type(i)}, type f {type(f)}\")\n",
    "type(i) == type(f)"
   ],
   "id": "e8e50260312fb6ac",
   "outputs": [
    {
     "name": "stdout",
     "output_type": "stream",
     "text": [
      "type i <class 'int'>, type f <class 'float'>\n"
     ]
    },
    {
     "data": {
      "text/plain": [
       "False"
      ]
     },
     "execution_count": 12,
     "metadata": {},
     "output_type": "execute_result"
    }
   ],
   "execution_count": 12
  },
  {
   "metadata": {
    "ExecuteTime": {
     "end_time": "2025-10-07T09:26:02.388342Z",
     "start_time": "2025-10-06T19:31:41.679992Z"
    }
   },
   "cell_type": "code",
   "source": "i == f",
   "id": "9829afb5b7fedb9b",
   "outputs": [
    {
     "data": {
      "text/plain": [
       "True"
      ]
     },
     "execution_count": 13,
     "metadata": {},
     "output_type": "execute_result"
    }
   ],
   "execution_count": 13
  },
  {
   "metadata": {},
   "cell_type": "markdown",
   "source": "Type promotion: int -> float",
   "id": "a7ef49b208402414"
  },
  {
   "metadata": {
    "ExecuteTime": {
     "end_time": "2025-10-07T09:26:02.390233Z",
     "start_time": "2025-10-06T19:31:41.696909Z"
    }
   },
   "cell_type": "code",
   "source": [
    "i = 0\n",
    "f = 0.1\n",
    "i == f"
   ],
   "id": "15ebe0b64b893ef8",
   "outputs": [
    {
     "data": {
      "text/plain": [
       "False"
      ]
     },
     "execution_count": 14,
     "metadata": {},
     "output_type": "execute_result"
    }
   ],
   "execution_count": 14
  },
  {
   "metadata": {},
   "cell_type": "markdown",
   "source": "Truncation",
   "id": "37bf016930b2c82b"
  },
  {
   "metadata": {
    "ExecuteTime": {
     "end_time": "2025-10-07T09:26:02.399087Z",
     "start_time": "2025-10-06T19:31:41.721139Z"
    }
   },
   "cell_type": "code",
   "source": "i == int(f)",
   "id": "4a13705f6af7282d",
   "outputs": [
    {
     "data": {
      "text/plain": [
       "True"
      ]
     },
     "execution_count": 15,
     "metadata": {},
     "output_type": "execute_result"
    }
   ],
   "execution_count": 15
  },
  {
   "metadata": {},
   "cell_type": "markdown",
   "source": "Type promotion: int -> float",
   "id": "b56c76dd20c50b66"
  },
  {
   "metadata": {
    "ExecuteTime": {
     "end_time": "2025-10-07T09:26:02.399286Z",
     "start_time": "2025-10-06T19:31:41.741400Z"
    }
   },
   "cell_type": "code",
   "source": [
    "i = 1\n",
    "f = 2.3\n",
    "s = i + f\n",
    "m = i * f\n",
    "print(f\"type s {type(s)}, type m {type(m)}\")"
   ],
   "id": "e3680422b60202ad",
   "outputs": [
    {
     "name": "stdout",
     "output_type": "stream",
     "text": [
      "type s <class 'float'>, type m <class 'float'>\n"
     ]
    }
   ],
   "execution_count": 16
  },
  {
   "metadata": {
    "ExecuteTime": {
     "end_time": "2025-10-07T09:26:02.399447Z",
     "start_time": "2025-10-06T19:31:41.767290Z"
    }
   },
   "cell_type": "code",
   "source": [
    "i = 2\n",
    "f = 2.0\n",
    "d1 = i / f\n",
    "d2 = f / i\n",
    "d3 = i / i\n",
    "d4 = i // f\n",
    "d5 = f // i\n",
    "d6 = i // i\n",
    "print(f\"type d1 {type(d1)}, type d2 {type(d2)}, type d3 {type(d3)}, type d4 {type(d4)}, type d5 {type(d5)}, type d6 {type(d6)}\")"
   ],
   "id": "230783833773ddc",
   "outputs": [
    {
     "name": "stdout",
     "output_type": "stream",
     "text": [
      "type d1 <class 'float'>, type d2 <class 'float'>, type d3 <class 'float'>, type d4 <class 'float'>, type d5 <class 'float'>, type d6 <class 'int'>\n"
     ]
    }
   ],
   "execution_count": 17
  },
  {
   "metadata": {},
   "cell_type": "markdown",
   "source": "Fraction type from Python which keeps rational numbers as a pure fraction, no floats!",
   "id": "c5342077e2d043db"
  },
  {
   "metadata": {
    "ExecuteTime": {
     "end_time": "2025-10-07T09:26:02.401847Z",
     "start_time": "2025-10-06T19:31:41.786386Z"
    }
   },
   "cell_type": "code",
   "source": [
    "from fractions import Fraction\n",
    "\n",
    "f1_3 = Fraction(1, 3)\n",
    "f1_6 = Fraction(1, 6)\n",
    "f1_2 = Fraction(1, 2)\n",
    "f_r = f1_3 + f1_6\n",
    "assert f_r == f1_2\n",
    "\n",
    "f1_10 = Fraction(1, 10)\n",
    "f10_100 = Fraction(10, 100)\n",
    "assert f1_10 == f10_100\n",
    "\n",
    "print(f1_10, f1_10.numerator, f1_10.denominator)\n",
    "print(f10_100, f10_100.numerator, f10_100.denominator)"
   ],
   "id": "da10051af98b948b",
   "outputs": [
    {
     "name": "stdout",
     "output_type": "stream",
     "text": [
      "1/10 1 10\n",
      "1/10 1 10\n"
     ]
    }
   ],
   "execution_count": 18
  },
  {
   "metadata": {
    "ExecuteTime": {
     "end_time": "2025-10-07T09:26:02.403793Z",
     "start_time": "2025-10-06T19:31:41.806341Z"
    }
   },
   "cell_type": "code",
   "source": [
    "import math\n",
    "gdc10 = math.gcd(10, 100, 1000)\n",
    "print((10 // gdc10), (100 // gdc10), (1000 // gdc10))\n",
    "Fraction(1, 10) == Fraction((10 // gdc10), (100 // gdc10)) == Fraction(10, 100)"
   ],
   "id": "2450d7ae6c5c3903",
   "outputs": [
    {
     "name": "stdout",
     "output_type": "stream",
     "text": [
      "1 10 100\n"
     ]
    },
    {
     "data": {
      "text/plain": [
       "True"
      ]
     },
     "execution_count": 19,
     "metadata": {},
     "output_type": "execute_result"
    }
   ],
   "execution_count": 19
  },
  {
   "metadata": {},
   "cell_type": "markdown",
   "source": "There is no type promotion when using numpy floats.",
   "id": "60850f48408d0ae"
  },
  {
   "metadata": {
    "ExecuteTime": {
     "end_time": "2025-10-07T09:26:02.403947Z",
     "start_time": "2025-10-06T19:31:41.822086Z"
    }
   },
   "cell_type": "code",
   "source": [
    "from numpy import float16, float32\n",
    "f1 = float16(0.123)\n",
    "f2 = float32(0.123)\n",
    "f1 == f2"
   ],
   "id": "d033d8826f72fbc7",
   "outputs": [
    {
     "data": {
      "text/plain": [
       "False"
      ]
     },
     "execution_count": 20,
     "metadata": {},
     "output_type": "execute_result"
    }
   ],
   "execution_count": 20
  },
  {
   "metadata": {},
   "cell_type": "markdown",
   "source": "Used bigger precision for output.",
   "id": "91788b06d7388b5d"
  },
  {
   "metadata": {
    "ExecuteTime": {
     "end_time": "2025-10-07T09:26:02.412341Z",
     "start_time": "2025-10-06T19:31:41.938545Z"
    }
   },
   "cell_type": "code",
   "source": [
    "f = f1 * f2\n",
    "type(f)"
   ],
   "id": "c485a73fa20658ca",
   "outputs": [
    {
     "data": {
      "text/plain": [
       "numpy.float32"
      ]
     },
     "execution_count": 21,
     "metadata": {},
     "output_type": "execute_result"
    }
   ],
   "execution_count": 21
  },
  {
   "metadata": {
    "ExecuteTime": {
     "end_time": "2025-10-07T09:26:02.414330Z",
     "start_time": "2025-10-06T19:31:41.952655Z"
    }
   },
   "cell_type": "code",
   "source": [
    "from numpy import array\n",
    "a = array([1, 2, 3], dtype=float32)\n",
    "s = a.sum()\n",
    "assert type(s) == float32\n",
    "type(s)"
   ],
   "id": "fd1cde94de84e780",
   "outputs": [
    {
     "data": {
      "text/plain": [
       "numpy.float32"
      ]
     },
     "execution_count": 22,
     "metadata": {},
     "output_type": "execute_result"
    }
   ],
   "execution_count": 22
  },
  {
   "metadata": {},
   "cell_type": "markdown",
   "source": "String operations: split, join, charAt...",
   "id": "80e3188f74ec5066"
  },
  {
   "metadata": {
    "ExecuteTime": {
     "end_time": "2025-10-07T09:26:02.416201Z",
     "start_time": "2025-10-06T19:31:41.966600Z"
    }
   },
   "cell_type": "code",
   "source": [
    "s = str(\"a new string was born\")\n",
    "assert s[2] == 'n'\n",
    "assert type(s[2]) == str\n",
    "ss = s.split(\" \")\n",
    "assert len(ss) == 5\n",
    "s1 = str.join(\" \", ss)\n",
    "assert s1 == \"a new string was born\""
   ],
   "id": "dbfc4e1f491aa331",
   "outputs": [],
   "execution_count": 23
  },
  {
   "metadata": {},
   "cell_type": "markdown",
   "source": "Dealing with complex numbers",
   "id": "fd73fef060bf9216"
  },
  {
   "metadata": {
    "ExecuteTime": {
     "end_time": "2025-10-07T09:26:02.425709Z",
     "start_time": "2025-10-06T19:31:41.979070Z"
    }
   },
   "cell_type": "code",
   "source": [
    "c1 = complex(3, 0)\n",
    "c2 = complex(0, 4)\n",
    "c3 = c1 + c2\n",
    "c3"
   ],
   "id": "dd0c7721bced8c8a",
   "outputs": [
    {
     "data": {
      "text/plain": [
       "(3+4j)"
      ]
     },
     "execution_count": 24,
     "metadata": {},
     "output_type": "execute_result"
    }
   ],
   "execution_count": 24
  },
  {
   "metadata": {
    "ExecuteTime": {
     "end_time": "2025-10-07T09:26:02.427657Z",
     "start_time": "2025-10-06T19:31:41.991459Z"
    }
   },
   "cell_type": "code",
   "source": [
    "import cmath\n",
    "assert c3.real == 3\n",
    "assert c3.imag == 4\n",
    "assert abs(c3) == 5\n",
    "r, theta = cmath.polar(c3)\n",
    "assert r == 5\n",
    "math.degrees(theta)"
   ],
   "id": "84d2dbec1432a74b",
   "outputs": [
    {
     "data": {
      "text/plain": [
       "53.13010235415598"
      ]
     },
     "execution_count": 25,
     "metadata": {},
     "output_type": "execute_result"
    }
   ],
   "execution_count": 25
  },
  {
   "metadata": {},
   "cell_type": "markdown",
   "source": [
    "## 3. String Lab: Cleaning & Counting\n",
    "### Given a paragraph, output: lowercased text, trimmed extra spaces, number of words, and count of vowels/consonants."
   ],
   "id": "673590ca7fb569e8"
  },
  {
   "metadata": {
    "ExecuteTime": {
     "end_time": "2025-10-07T09:26:02.429747Z",
     "start_time": "2025-10-06T19:31:42.008760Z"
    }
   },
   "cell_type": "code",
   "source": [
    "from unilab import count_words, draw_expression\n",
    "\n",
    "s = \"   ThIs Is A tEsT   \"\n",
    "print(f\"lowercased text: {s.lower()}\")\n",
    "print(f\"trimmed extra spaces: {s.strip()}\")\n",
    "print(f\"number of words: {count_words(s)}\")"
   ],
   "id": "f09dbe247e98a9c5",
   "outputs": [
    {
     "name": "stdout",
     "output_type": "stream",
     "text": [
      "lowercased text:    this is a test   \n",
      "trimmed extra spaces: ThIs Is A tEsT\n",
      "number of words: 4\n"
     ]
    }
   ],
   "execution_count": 26
  },
  {
   "metadata": {},
   "cell_type": "markdown",
   "source": "The lorem ipsum generator: https://www.lipsum.com/",
   "id": "37e5b98348764269"
  },
  {
   "metadata": {
    "ExecuteTime": {
     "end_time": "2025-10-07T09:26:02.439927Z",
     "start_time": "2025-10-06T19:31:42.452584Z"
    }
   },
   "cell_type": "code",
   "source": [
    "from unilab import count_words, count_vowels_consonants\n",
    "lorem_ipsum = \"\"\"Lorem ipsum dolor sit amet, consectetur adipiscing elit. Phasellus egestas molestie blandit. Ut ex dolor, ultrices vitae ornare a, tristique ut odio. Sed elementum metus quam, ac suscipit leo congue ac. Sed lobortis hendrerit metus in tincidunt. Vestibulum hendrerit massa justo, in imperdiet ante tempor séd. Nunc id volutpat sem. Donec iaculis, augue euismod pharetra feugiat, turpis nulla tincidunt justo, tempor porttitor erat libero sed libero. Phasellus rhoncus rutrum pulvinar. Nunc eu auctor lacus. Sed sollicitudin fermentum sodales.\"\"\"\n",
    "n = count_words(lorem_ipsum)\n",
    "assert n == 78\n",
    "print(f\"number of words: {n}\")\n",
    "vowels, consonants = count_vowels_consonants(lorem_ipsum)\n",
    "print(f\"number of vowels: {vowels}\")\n",
    "print(f\"number of consonants: {consonants}\")"
   ],
   "id": "95b938d71e881c6b",
   "outputs": [
    {
     "name": "stdout",
     "output_type": "stream",
     "text": [
      "number of words: 78\n",
      "number of vowels: 186\n",
      "number of consonants: 260\n"
     ]
    }
   ],
   "execution_count": 27
  },
  {
   "metadata": {},
   "cell_type": "markdown",
   "source": [
    "## 4. Control‑Flow Mini‑Calculator\n",
    "### Read two numbers and an operator (+ - * /). Validate input and compute the result using if/elif/else. Handle division by zero gracefully."
   ],
   "id": "76c44daaf4b62089"
  },
  {
   "metadata": {},
   "cell_type": "markdown",
   "source": "Very first noob implementation about a calculator",
   "id": "2d3262495ccce798"
  },
  {
   "metadata": {
    "ExecuteTime": {
     "end_time": "2025-10-07T09:26:02.440200Z",
     "start_time": "2025-10-06T19:31:42.475038Z"
    }
   },
   "cell_type": "code",
   "source": [
    "a = 3\n",
    "b = 3\n",
    "op = \"/\"\n",
    "\n",
    "if len(op) != 1:\n",
    "    print(\"Invalid operator\")\n",
    "else:\n",
    "    match op[0]:\n",
    "        case \"+\":\n",
    "            print(f\"{a} + {b} = {a + b}\")\n",
    "        case \"-\":\n",
    "            print(f\"{a} - {b} = {a - b}\")\n",
    "        case \"*\":\n",
    "            print(f\"{a} * {b} = {a * b}\")\n",
    "        case \"/\":\n",
    "            if b == 0:\n",
    "                print(\"Division by zero [not allowed]\")\n",
    "            else:\n",
    "                print(f\"{a} / {b} = {a / b}\")\n",
    "        case \"-\":\n",
    "            print(\"Invalid operator\")"
   ],
   "id": "d665bf11895c2dbb",
   "outputs": [
    {
     "name": "stdout",
     "output_type": "stream",
     "text": [
      "3 / 3 = 1.0\n"
     ]
    }
   ],
   "execution_count": 28
  },
  {
   "metadata": {},
   "cell_type": "markdown",
   "source": "Calculator like a pro. An evaluate expression: (1 + 2) * (9 / 3) = 9",
   "id": "5ad3d107fe77b762"
  },
  {
   "metadata": {
    "ExecuteTime": {
     "end_time": "2025-10-07T09:26:02.442241Z",
     "start_time": "2025-10-06T19:31:42.493873Z"
    }
   },
   "cell_type": "code",
   "source": [
    "from unilab import evaluate_expression\n",
    "expr = \"(1 + 2) * (9 / 3)\"\n",
    "desc = evaluate_expression(expr)\n",
    "desc"
   ],
   "id": "35975a87c952c4c6",
   "outputs": [
    {
     "data": {
      "text/plain": [
       "9.0"
      ]
     },
     "execution_count": 29,
     "metadata": {},
     "output_type": "execute_result"
    }
   ],
   "execution_count": 29
  },
  {
   "metadata": {
    "ExecuteTime": {
     "end_time": "2025-10-07T09:26:02.452075Z",
     "start_time": "2025-10-06T19:31:44.542412Z"
    }
   },
   "cell_type": "code",
   "source": "draw_expression(expr)",
   "id": "c0d9b68bd9d80055",
   "outputs": [
    {
     "data": {
      "text/plain": [
       "<Figure size 800x600 with 1 Axes>"
      ],
      "image/png": "[encoded data removed]"
     },
     "metadata": {},
     "output_type": "display_data",
     "jetTransient": {
      "display_id": null
     }
    }
   ],
   "execution_count": 31
  },
  {
   "metadata": {
    "ExecuteTime": {
     "end_time": "2025-10-07T09:26:02.454055Z",
     "start_time": "2025-10-06T19:32:57.638156Z"
    }
   },
   "cell_type": "code",
   "source": "draw_expression(\"(1 + 2 + 3 + 4) / (4 + 3 + 2 + 1)\")",
   "id": "9f3570136b3c90d8",
   "outputs": [
    {
     "data": {
      "text/plain": [
       "<Figure size 800x600 with 1 Axes>"
      ],
      "image/png": "[encoded data removed]"
     },
     "metadata": {},
     "output_type": "display_data",
     "jetTransient": {
      "display_id": null
     }
    }
   ],
   "execution_count": 34
  },
  {
   "metadata": {},
   "cell_type": "markdown",
   "source": "The idea was good, but it gets messy really fast. Let's try to improve with Graphviz later on...",
   "id": "91b67e11b02a8dc9"
  },
  {
   "metadata": {},
   "cell_type": "markdown",
   "source": [
    "## 5. Lists 101: Stats & Slices\n",
    "### Create a list of 30 random integers in [0, 100]. Show: sorted ascending/descending, sum, mean, min, max, first 5, last 5, evens/odds."
   ],
   "id": "f1293a2d76748aa0"
  },
  {
   "metadata": {
    "ExecuteTime": {
     "end_time": "2025-10-07T09:37:26.234602Z",
     "start_time": "2025-10-07T09:37:26.231255Z"
    }
   },
   "cell_type": "code",
   "source": [
    "from unilab import random_numbers, mean\n",
    "numbers = random_numbers(30)\n",
    "\n",
    "print(f\"len numbers: {len(numbers)}\")\n",
    "asc = sorted(numbers)\n",
    "print(f\"sorted ascending: {asc}\")\n",
    "desc = sorted(numbers, reverse=True)\n",
    "print(f\"sorted descending: {desc}\")\n",
    "s = sum(numbers)\n",
    "print(f\"sum: {s}\")\n",
    "mean = mean(numbers)\n",
    "print(f\"mean: {mean}\")\n",
    "min_n = min(numbers)\n",
    "print(f\"min: {min_n}\")\n",
    "max_n = max(numbers)\n",
    "print(f\"max: {max_n}\")\n",
    "first_5 = numbers[:5]\n",
    "print(f\"first 5: {first_5}\")\n",
    "last_5 = numbers[-5:]\n",
    "print(f\"last 5: {last_5}\")\n",
    "evens = [i for i in numbers if i % 2 == 0]\n",
    "print(f\"evens: {evens}\")\n",
    "odds = [i for i in numbers if i % 2 != 0]\n",
    "print(f\"evens: {odds}\")"
   ],
   "id": "c5ef03190effcba9",
   "outputs": [
    {
     "name": "stdout",
     "output_type": "stream",
     "text": [
      "len numbers: 30\n",
      "sorted ascending: [1, 3, 5, 7, 9, 13, 15, 17, 24, 25, 27, 29, 31, 40, 42, 48, 52, 58, 61, 67, 75, 77, 80, 87, 89, 90, 91, 93, 97, 99]\n",
      "sorted descending: [99, 97, 93, 91, 90, 89, 87, 80, 77, 75, 67, 61, 58, 52, 48, 42, 40, 31, 29, 27, 25, 24, 17, 15, 13, 9, 7, 5, 3, 1]\n",
      "sum: 1452\n",
      "mean: 48.4\n",
      "min: 1\n",
      "max: 99\n",
      "first 5: [1, 3, 5, 7, 9]\n",
      "last 5: [90, 91, 93, 97, 99]\n",
      "evens: [24, 40, 42, 48, 52, 58, 80, 90]\n",
      "evens: [1, 3, 5, 7, 9, 13, 15, 17, 25, 27, 29, 31, 61, 67, 75, 77, 87, 89, 91, 93, 97, 99]\n"
     ]
    }
   ],
   "execution_count": 25
  }
 ],
 "metadata": {
  "kernelspec": {
   "display_name": "Python 3",
   "language": "python",
   "name": "python3"
  },
  "language_info": {
   "codemirror_mode": {
    "name": "ipython",
    "version": 2
   },
   "file_extension": ".py",
   "mimetype": "text/x-python",
   "name": "python",
   "nbconvert_exporter": "python",
   "pygments_lexer": "ipython2",
   "version": "2.7.6"
  }
 },
 "nbformat": 4,
 "nbformat_minor": 5
}
