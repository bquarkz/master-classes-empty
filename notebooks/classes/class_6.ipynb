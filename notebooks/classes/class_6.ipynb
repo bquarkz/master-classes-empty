{
 "cells": [
  {
   "metadata": {
    "ExecuteTime": {
     "end_time": "2025-10-15T17:18:57.110747Z",
     "start_time": "2025-10-15T17:18:57.102842Z"
    }
   },
   "cell_type": "code",
   "source": [
    "def announce(f):\n",
    "    def wrapper(a, b):\n",
    "        print(f\"Before Calling {f.__name__}({a}, {b})\")\n",
    "        r = f(a, b)\n",
    "        print(f\"After Calling {f.__name__}({a}, {b})\")\n",
    "        return r\n",
    "    return wrapper\n",
    "\n",
    "@announce\n",
    "def adding(a, b):\n",
    "    return a + b\n",
    "\n",
    "adding(1, 2)\n"
   ],
   "id": "ea6623591a55f0db",
   "outputs": [
    {
     "name": "stdout",
     "output_type": "stream",
     "text": [
      "Before Calling adding(1, 2)\n",
      "After Calling adding(1, 2)\n"
     ]
    },
    {
     "data": {
      "text/plain": [
       "3"
      ]
     },
     "execution_count": 3,
     "metadata": {},
     "output_type": "execute_result"
    }
   ],
   "execution_count": 3
  },
  {
   "metadata": {
    "ExecuteTime": {
     "end_time": "2025-10-15T17:26:58.482956Z",
     "start_time": "2025-10-15T17:26:58.478769Z"
    }
   },
   "cell_type": "code",
   "source": [
    "def calculate_mean_sd(data):\n",
    "    if not data:\n",
    "        print(\"Error: Empty data\")\n",
    "        return\n",
    "\n",
    "    mean = sum(data) / len(data)\n",
    "\n",
    "    sqrt_diff_sum = sum((x - mean) ** 2 for x in data)\n",
    "    sd = (sqrt_diff_sum / len(data)) ** 0.5\n",
    "\n",
    "    print(f\"Mean: {mean}, SD: {sd}\")\n",
    "\n",
    "calculate_mean_sd([5, 10, 15])"
   ],
   "id": "65ed864d68e2c2ad",
   "outputs": [
    {
     "name": "stdout",
     "output_type": "stream",
     "text": [
      "Mean: 10.0, SD: 4.08248290463863\n"
     ]
    }
   ],
   "execution_count": 7
  },
  {
   "metadata": {
    "ExecuteTime": {
     "end_time": "2025-10-15T17:30:49.771267Z",
     "start_time": "2025-10-15T17:30:49.767404Z"
    }
   },
   "cell_type": "code",
   "source": [
    "def validate_data(f):\n",
    "    def wrapper(data):\n",
    "        if not data:\n",
    "            print(\"Error: Empty data\")\n",
    "            return None\n",
    "\n",
    "        if len(data) == 1:\n",
    "            print(f\"Mean = {data[0]}. No variation in the data (SD = 0)\")\n",
    "            return None\n",
    "\n",
    "        return f(data)\n",
    "    return wrapper\n",
    "\n",
    "@validate_data\n",
    "def calculate_mean_sd(data):\n",
    "    mean = sum(data) / len(data)\n",
    "    sqrt_diff_sum = sum((x - mean) ** 2 for x in data)\n",
    "    sd = (sqrt_diff_sum / len(data)) ** 0.5\n",
    "    print(f\"Mean: {mean}, SD: {sd}\")\n",
    "\n",
    "calculate_mean_sd([5, 10, 15])\n",
    "calculate_mean_sd([5])\n",
    "calculate_mean_sd([])"
   ],
   "id": "dcdaec217f814483",
   "outputs": [
    {
     "name": "stdout",
     "output_type": "stream",
     "text": [
      "Mean: 10.0, SD: 4.08248290463863\n",
      "Mean = 5. No variation in the data (SD = 0)\n",
      "Error: Empty data\n"
     ]
    }
   ],
   "execution_count": 12
  },
  {
   "metadata": {
    "ExecuteTime": {
     "end_time": "2025-10-15T17:43:03.713708Z",
     "start_time": "2025-10-15T17:43:03.706207Z"
    }
   },
   "cell_type": "code",
   "source": [
    "from functools import wraps\n",
    "\n",
    "def log(f):\n",
    "    @wraps(f)\n",
    "    def wrapper(*args, **kwargs):\n",
    "        print(f\"Calling {f.__name__}({args}, {kwargs})\")\n",
    "        r = f(*args, **kwargs)\n",
    "        return r\n",
    "    return wrapper\n",
    "\n",
    "@log\n",
    "def calc_mean(numbers):\n",
    "    mean = sum(numbers) / len(numbers)\n",
    "    print(f\"Mean: {mean}\")\n",
    "    return mean\n",
    "\n",
    "@log\n",
    "def calc_variance(numbers):\n",
    "    mean = calc_mean(numbers)\n",
    "    variance = sum((x - mean) ** 2 for x in numbers) / len(numbers)\n",
    "    print(f\"Variance: {variance}\")\n",
    "    return variance\n",
    "\n",
    "calc_variance([10, 20, 30, 40, 50])"
   ],
   "id": "5af0cf54cf92af63",
   "outputs": [
    {
     "name": "stdout",
     "output_type": "stream",
     "text": [
      "Calling calc_variance(([10, 20, 30, 40, 50],), {})\n",
      "Calling calc_mean(([10, 20, 30, 40, 50],), {})\n",
      "Mean: 30.0\n",
      "Variance: 200.0\n"
     ]
    },
    {
     "data": {
      "text/plain": [
       "200.0"
      ]
     },
     "execution_count": 15,
     "metadata": {},
     "output_type": "execute_result"
    }
   ],
   "execution_count": 15
  },
  {
   "metadata": {
    "ExecuteTime": {
     "end_time": "2025-10-15T17:49:24.505042Z",
     "start_time": "2025-10-15T17:49:24.499887Z"
    }
   },
   "cell_type": "code",
   "source": [
    "def bla(f):\n",
    "    @wraps(f)\n",
    "    def wrapper(*args, **kwargs):\n",
    "        print(f\"before calling {f.__name__}\")\n",
    "        r = f(*args, **kwargs)\n",
    "        print(f\"after calling {f.__name__}\")\n",
    "        return r\n",
    "    return wrapper\n",
    "\n",
    "@bla\n",
    "@log\n",
    "def calc_total(data):\n",
    "    return sum(data)\n",
    "\n",
    "@bla\n",
    "@log\n",
    "def calc_total_plus(data, b): # without wraps, it could break since we are changing the number of arguments\n",
    "    return sum(data) + b\n",
    "\n",
    "calc_total([1, 2, 3, 4, 5])\n",
    "calc_total_plus([1, 2, 3, 4, 5], 10)"
   ],
   "id": "1f879e6e79562abd",
   "outputs": [
    {
     "name": "stdout",
     "output_type": "stream",
     "text": [
      "before calling calc_total\n",
      "Calling calc_total(([1, 2, 3, 4, 5],), {})\n",
      "after calling calc_total\n",
      "before calling calc_total_plus\n",
      "Calling calc_total_plus(([1, 2, 3, 4, 5], 10), {})\n",
      "after calling calc_total_plus\n"
     ]
    },
    {
     "data": {
      "text/plain": [
       "25"
      ]
     },
     "execution_count": 22,
     "metadata": {},
     "output_type": "execute_result"
    }
   ],
   "execution_count": 22
  },
  {
   "metadata": {
    "ExecuteTime": {
     "end_time": "2025-10-15T18:00:07.954381Z",
     "start_time": "2025-10-15T18:00:07.946073Z"
    }
   },
   "cell_type": "code",
   "source": [
    "from functools import update_wrapper\n",
    "\n",
    "class CounterCalls:\n",
    "    def __init__(self, f):\n",
    "        self.f = f\n",
    "        self.counter = 0\n",
    "        update_wrapper(self, f)\n",
    "\n",
    "    def __call__(self, *args, **kwargs):\n",
    "        self.counter += 1\n",
    "        print(f\"Counter: {self.counter}\")\n",
    "        return self.f(*args, **kwargs)\n",
    "\n",
    "@CounterCalls\n",
    "def ccc(data):\n",
    "    return sum(data)\n",
    "\n",
    "ccc([1, 2, 3])\n",
    "ccc([1, 2, 3])\n",
    "ccc([1, 2, 3])\n",
    "ccc([1, 2, 3])"
   ],
   "id": "5bcefb1c94c413c1",
   "outputs": [
    {
     "name": "stdout",
     "output_type": "stream",
     "text": [
      "Counter: 1\n",
      "Counter: 2\n",
      "Counter: 3\n",
      "Counter: 4\n"
     ]
    },
    {
     "data": {
      "text/plain": [
       "6"
      ]
     },
     "execution_count": 28,
     "metadata": {},
     "output_type": "execute_result"
    }
   ],
   "execution_count": 28
  },
  {
   "metadata": {
    "ExecuteTime": {
     "end_time": "2025-10-15T18:11:20.210958Z",
     "start_time": "2025-10-15T18:11:20.205031Z"
    }
   },
   "cell_type": "code",
   "source": [
    "from datetime import datetime\n",
    "x = \"5 jan 2010\"\n",
    "ndate = datetime.strptime(x, \"%d %b %Y\")\n",
    "print(ndate)\n",
    "print(type(ndate))\n",
    "s = ndate.strftime(\"%d %b %Y\")\n",
    "print(s)\n",
    "print(type(s))\n",
    "now = datetime.now()\n",
    "print(now)"
   ],
   "id": "da29ce9e0ac5c142",
   "outputs": [
    {
     "name": "stdout",
     "output_type": "stream",
     "text": [
      "2010-01-05 00:00:00\n",
      "<class 'datetime.datetime'>\n",
      "05 Jan 2010\n",
      "<class 'str'>\n",
      "2025-10-15 19:11:20.209154\n"
     ]
    }
   ],
   "execution_count": 32
  },
  {
   "metadata": {
    "ExecuteTime": {
     "end_time": "2025-10-15T18:17:45.586983Z",
     "start_time": "2025-10-15T18:17:45.554994Z"
    }
   },
   "cell_type": "code",
   "source": [
    "import pandas as pd\n",
    "\n",
    "d = {\n",
    "    'EmpID': [101, 102, 103, 104, 105],\n",
    "    'year': [1977, 1989, 2000, 2012, 2015],\n",
    "    'month': [2, 5, 10, 1, 11],\n",
    "    'day': [2, 3, 1, 1, 5]\n",
    "}\n",
    "\n",
    "data_frame = pd.DataFrame(d)\n",
    "data_frame['Date'] = pd.to_datetime(data_frame[['year', 'month', 'day']])\n",
    "data_frame"
   ],
   "id": "4d2ac72456faf120",
   "outputs": [
    {
     "data": {
      "text/plain": [
       "   EmpID  year  month  day       Date\n",
       "0    101  1977      2    2 1977-02-02\n",
       "1    102  1989      5    3 1989-05-03\n",
       "2    103  2000     10    1 2000-10-01\n",
       "3    104  2012      1    1 2012-01-01\n",
       "4    105  2015     11    5 2015-11-05"
      ],
      "text/html": [
       "<div>\n",
       "<style scoped>\n",
       "    .dataframe tbody tr th:only-of-type {\n",
       "        vertical-align: middle;\n",
       "    }\n",
       "\n",
       "    .dataframe tbody tr th {\n",
       "        vertical-align: top;\n",
       "    }\n",
       "\n",
       "    .dataframe thead th {\n",
       "        text-align: right;\n",
       "    }\n",
       "</style>\n",
       "<table border=\"1\" class=\"dataframe\">\n",
       "  <thead>\n",
       "    <tr style=\"text-align: right;\">\n",
       "      <th></th>\n",
       "      <th>EmpID</th>\n",
       "      <th>year</th>\n",
       "      <th>month</th>\n",
       "      <th>day</th>\n",
       "      <th>Date</th>\n",
       "    </tr>\n",
       "  </thead>\n",
       "  <tbody>\n",
       "    <tr>\n",
       "      <th>0</th>\n",
       "      <td>101</td>\n",
       "      <td>1977</td>\n",
       "      <td>2</td>\n",
       "      <td>2</td>\n",
       "      <td>1977-02-02</td>\n",
       "    </tr>\n",
       "    <tr>\n",
       "      <th>1</th>\n",
       "      <td>102</td>\n",
       "      <td>1989</td>\n",
       "      <td>5</td>\n",
       "      <td>3</td>\n",
       "      <td>1989-05-03</td>\n",
       "    </tr>\n",
       "    <tr>\n",
       "      <th>2</th>\n",
       "      <td>103</td>\n",
       "      <td>2000</td>\n",
       "      <td>10</td>\n",
       "      <td>1</td>\n",
       "      <td>2000-10-01</td>\n",
       "    </tr>\n",
       "    <tr>\n",
       "      <th>3</th>\n",
       "      <td>104</td>\n",
       "      <td>2012</td>\n",
       "      <td>1</td>\n",
       "      <td>1</td>\n",
       "      <td>2012-01-01</td>\n",
       "    </tr>\n",
       "    <tr>\n",
       "      <th>4</th>\n",
       "      <td>105</td>\n",
       "      <td>2015</td>\n",
       "      <td>11</td>\n",
       "      <td>5</td>\n",
       "      <td>2015-11-05</td>\n",
       "    </tr>\n",
       "  </tbody>\n",
       "</table>\n",
       "</div>"
      ]
     },
     "execution_count": 34,
     "metadata": {},
     "output_type": "execute_result"
    }
   ],
   "execution_count": 34
  },
  {
   "metadata": {
    "ExecuteTime": {
     "end_time": "2025-10-15T18:19:41.655945Z",
     "start_time": "2025-10-15T18:19:41.640379Z"
    }
   },
   "cell_type": "code",
   "source": [
    "dates = [\"12aug08\", \"01sep09\", \"7august2007\"]\n",
    "ndates = pd.to_datetime(dates)\n",
    "ndates"
   ],
   "id": "33be21dd1fed17a4",
   "outputs": [
    {
     "name": "stderr",
     "output_type": "stream",
     "text": [
      "/var/folders/0t/tfsqc14j5wbgh9h4s4dytwb00000gq/T/ipykernel_55042/3404395193.py:2: UserWarning: Could not infer format, so each element will be parsed individually, falling back to `dateutil`. To ensure parsing is consistent and as-expected, please specify a format.\n",
      "  ndates = pd.to_datetime(dates)\n"
     ]
    },
    {
     "data": {
      "text/plain": [
       "DatetimeIndex(['2008-08-12', '2009-09-01', '2007-08-07'], dtype='datetime64[ns]', freq=None)"
      ]
     },
     "execution_count": 35,
     "metadata": {},
     "output_type": "execute_result"
    }
   ],
   "execution_count": 35
  },
  {
   "metadata": {
    "ExecuteTime": {
     "end_time": "2025-10-15T18:25:51.627271Z",
     "start_time": "2025-10-15T18:25:51.615975Z"
    }
   },
   "cell_type": "code",
   "source": [
    "import pandas as pd\n",
    "\n",
    "dates = pd.date_range(start=\"1/1/2023\", periods=5, freq=\"ME\")\n",
    "df = pd.DataFrame({'date': dates})\n",
    "\n",
    "df['year'] = df['date'].dt.year\n",
    "df['month'] = df['date'].dt.month\n",
    "df['day'] = df['date'].dt.day\n",
    "df['day_name'] = df['date'].dt.day_name()\n",
    "df['quarter'] = df['date'].dt.quarter\n",
    "\n",
    "df"
   ],
   "id": "7065a6319f37e857",
   "outputs": [
    {
     "data": {
      "text/plain": [
       "        date  year  month  day   day_name  quarter\n",
       "0 2023-01-31  2023      1   31    Tuesday        1\n",
       "1 2023-02-28  2023      2   28    Tuesday        1\n",
       "2 2023-03-31  2023      3   31     Friday        1\n",
       "3 2023-04-30  2023      4   30     Sunday        2\n",
       "4 2023-05-31  2023      5   31  Wednesday        2"
      ],
      "text/html": [
       "<div>\n",
       "<style scoped>\n",
       "    .dataframe tbody tr th:only-of-type {\n",
       "        vertical-align: middle;\n",
       "    }\n",
       "\n",
       "    .dataframe tbody tr th {\n",
       "        vertical-align: top;\n",
       "    }\n",
       "\n",
       "    .dataframe thead th {\n",
       "        text-align: right;\n",
       "    }\n",
       "</style>\n",
       "<table border=\"1\" class=\"dataframe\">\n",
       "  <thead>\n",
       "    <tr style=\"text-align: right;\">\n",
       "      <th></th>\n",
       "      <th>date</th>\n",
       "      <th>year</th>\n",
       "      <th>month</th>\n",
       "      <th>day</th>\n",
       "      <th>day_name</th>\n",
       "      <th>quarter</th>\n",
       "    </tr>\n",
       "  </thead>\n",
       "  <tbody>\n",
       "    <tr>\n",
       "      <th>0</th>\n",
       "      <td>2023-01-31</td>\n",
       "      <td>2023</td>\n",
       "      <td>1</td>\n",
       "      <td>31</td>\n",
       "      <td>Tuesday</td>\n",
       "      <td>1</td>\n",
       "    </tr>\n",
       "    <tr>\n",
       "      <th>1</th>\n",
       "      <td>2023-02-28</td>\n",
       "      <td>2023</td>\n",
       "      <td>2</td>\n",
       "      <td>28</td>\n",
       "      <td>Tuesday</td>\n",
       "      <td>1</td>\n",
       "    </tr>\n",
       "    <tr>\n",
       "      <th>2</th>\n",
       "      <td>2023-03-31</td>\n",
       "      <td>2023</td>\n",
       "      <td>3</td>\n",
       "      <td>31</td>\n",
       "      <td>Friday</td>\n",
       "      <td>1</td>\n",
       "    </tr>\n",
       "    <tr>\n",
       "      <th>3</th>\n",
       "      <td>2023-04-30</td>\n",
       "      <td>2023</td>\n",
       "      <td>4</td>\n",
       "      <td>30</td>\n",
       "      <td>Sunday</td>\n",
       "      <td>2</td>\n",
       "    </tr>\n",
       "    <tr>\n",
       "      <th>4</th>\n",
       "      <td>2023-05-31</td>\n",
       "      <td>2023</td>\n",
       "      <td>5</td>\n",
       "      <td>31</td>\n",
       "      <td>Wednesday</td>\n",
       "      <td>2</td>\n",
       "    </tr>\n",
       "  </tbody>\n",
       "</table>\n",
       "</div>"
      ]
     },
     "execution_count": 40,
     "metadata": {},
     "output_type": "execute_result"
    }
   ],
   "execution_count": 40
  },
  {
   "metadata": {
    "ExecuteTime": {
     "end_time": "2025-10-15T18:29:22.169790Z",
     "start_time": "2025-10-15T18:29:22.163698Z"
    }
   },
   "cell_type": "code",
   "source": [
    "import pandas as pd\n",
    "from pandas.tseries.offsets import BDay\n",
    "today = pd.Timestamp.now()\n",
    "next_business_day = today + BDay(1)\n",
    "next_business_day"
   ],
   "id": "2d8b9fdbaff9f423",
   "outputs": [
    {
     "data": {
      "text/plain": [
       "Timestamp('2025-10-16 19:29:22.165371')"
      ]
     },
     "execution_count": 42,
     "metadata": {},
     "output_type": "execute_result"
    }
   ],
   "execution_count": 42
  },
  {
   "metadata": {
    "ExecuteTime": {
     "end_time": "2025-10-15T18:31:09.000321Z",
     "start_time": "2025-10-15T18:31:08.983345Z"
    }
   },
   "cell_type": "code",
   "source": [
    "from datetime import datetime\n",
    "from zoneinfo import ZoneInfo # Create a timezone-aware datetime in UTC\n",
    "utc_now = datetime.now(ZoneInfo(\"UTC\"))\n",
    "print(\"UTC time:\", utc_now)\n",
    "\n",
    "# Convert to another timezone (e.g., New York)\n",
    "ny_time = utc_now.astimezone(ZoneInfo(\"America/New_York\"))\n",
    "print(\"New York time:\", ny_time)"
   ],
   "id": "cbc3da699b06485c",
   "outputs": [
    {
     "name": "stdout",
     "output_type": "stream",
     "text": [
      "UTC time: 2025-10-15 18:31:08.995083+00:00\n",
      "New York time: 2025-10-15 14:31:08.995083-04:00\n"
     ]
    }
   ],
   "execution_count": 43
  }
 ],
 "metadata": {
  "kernelspec": {
   "display_name": "Master Classes (Python3.12)",
   "language": "python",
   "name": "master-classes"
  },
  "language_info": {
   "codemirror_mode": {
    "name": "ipython",
    "version": 2
   },
   "file_extension": ".py",
   "mimetype": "text/x-python",
   "name": "python",
   "nbconvert_exporter": "python",
   "pygments_lexer": "ipython2",
   "version": "2.7.6"
  }
 },
 "nbformat": 4,
 "nbformat_minor": 5
}
