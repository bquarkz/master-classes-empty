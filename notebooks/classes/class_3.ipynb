{
 "cells": [
  {
   "cell_type": "code",
   "id": "initial_id",
   "metadata": {
    "collapsed": true,
    "ExecuteTime": {
     "end_time": "2025-10-06T18:58:56.579124Z",
     "start_time": "2025-10-06T18:58:56.575383Z"
    }
   },
   "source": [
    "l = list([1, 2, 3, 4, 5])\n",
    "l"
   ],
   "outputs": [
    {
     "data": {
      "text/plain": [
       "[1, 2, 3, 4, 5]"
      ]
     },
     "execution_count": 1,
     "metadata": {},
     "output_type": "execute_result"
    }
   ],
   "execution_count": 1
  },
  {
   "metadata": {
    "ExecuteTime": {
     "end_time": "2025-10-06T18:58:56.585014Z",
     "start_time": "2025-10-06T18:58:56.582644Z"
    }
   },
   "cell_type": "code",
   "source": [
    "l.sort(reverse=True)\n",
    "l"
   ],
   "id": "71956492a1dccd92",
   "outputs": [
    {
     "data": {
      "text/plain": [
       "[5, 4, 3, 2, 1]"
      ]
     },
     "execution_count": 2,
     "metadata": {},
     "output_type": "execute_result"
    }
   ],
   "execution_count": 2
  },
  {
   "metadata": {
    "ExecuteTime": {
     "end_time": "2025-10-06T18:58:56.600034Z",
     "start_time": "2025-10-06T18:58:56.596846Z"
    }
   },
   "cell_type": "code",
   "source": [
    "d1 = {\n",
    "    1: {\"name\": \"nilton\", \"job\": \"data scientist\", \"age\": 45},\n",
    "    2: {\"name\": \"lucas\", \"job\": \"student\", \"age\": 25},\n",
    "}\n",
    "d2 = {\n",
    "    3: {\"name\": \"rosso\", \"job\": \"artist\", \"age\": 55},\n",
    "}\n",
    "# dictionary merge using unpacking\n",
    "d3 = {\n",
    "    **d1,\n",
    "    **d2\n",
    "}\n",
    "d3"
   ],
   "id": "706cd57a0d39c729",
   "outputs": [
    {
     "data": {
      "text/plain": [
       "{1: {'name': 'nilton', 'job': 'data scientist', 'age': 45},\n",
       " 2: {'name': 'lucas', 'job': 'student', 'age': 25},\n",
       " 3: {'name': 'rosso', 'job': 'artist', 'age': 55}}"
      ]
     },
     "execution_count": 3,
     "metadata": {},
     "output_type": "execute_result"
    }
   ],
   "execution_count": 3
  },
  {
   "metadata": {
    "ExecuteTime": {
     "end_time": "2025-10-06T18:58:56.624729Z",
     "start_time": "2025-10-06T18:58:56.621871Z"
    }
   },
   "cell_type": "code",
   "source": [
    "dt1 = {\n",
    "    (\"a\", \"b\"): 1,\n",
    "    (\"a\", \"c\"): 2,\n",
    "    (\"b\", \"c\"): 3,\n",
    "}\n",
    "assert dt1[(\"a\", \"b\")] == 1 # dict running tuples as keys (immutable)\n",
    "dt1"
   ],
   "id": "4113476d7cd57a32",
   "outputs": [
    {
     "data": {
      "text/plain": [
       "{('a', 'b'): 1, ('a', 'c'): 2, ('b', 'c'): 3}"
      ]
     },
     "execution_count": 4,
     "metadata": {},
     "output_type": "execute_result"
    }
   ],
   "execution_count": 4
  },
  {
   "metadata": {
    "ExecuteTime": {
     "end_time": "2025-10-06T18:58:56.645669Z",
     "start_time": "2025-10-06T18:58:56.642937Z"
    }
   },
   "cell_type": "code",
   "source": [
    "try:\n",
    "    dt2 = {\n",
    "        {\"e\": \"bla\"}: 1\n",
    "    }\n",
    "except TypeError as e:\n",
    "    # dicts are unhashable and cannot be used as keys.\n",
    "    # Fallback: use an immutable representation (tuple) as the key.\n",
    "    print(f\"TypeError creating dt2 with dict key: {e}. Using tuple instead.\")\n",
    "    dt2 = {(\"e\", \"bla\"): 1}\n",
    "dt2\n"
   ],
   "id": "13eb7874d8f10ed5",
   "outputs": [
    {
     "name": "stdout",
     "output_type": "stream",
     "text": [
      "TypeError creating dt2 with dict key: unhashable type: 'dict'. Using tuple instead.\n"
     ]
    },
    {
     "data": {
      "text/plain": [
       "{('e', 'bla'): 1}"
      ]
     },
     "execution_count": 5,
     "metadata": {},
     "output_type": "execute_result"
    }
   ],
   "execution_count": 5
  }
 ],
 "metadata": {
  "kernelspec": {
   "display_name": "Master Classes (Python3.12)",
   "language": "python",
   "name": "master-classes"
  },
  "language_info": {
   "codemirror_mode": {
    "name": "ipython",
    "version": 2
   },
   "file_extension": ".py",
   "mimetype": "text/x-python",
   "name": "python",
   "nbconvert_exporter": "python",
   "pygments_lexer": "ipython2",
   "version": "2.7.6"
  }
 },
 "nbformat": 4,
 "nbformat_minor": 5
}
