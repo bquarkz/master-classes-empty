{
 "cells": [
  {
   "cell_type": "markdown",
   "id": "ead6cc71",
   "metadata": {},
   "source": [
    "# Case Study: Introduction to Python Programming"
   ]
  },
  {
   "cell_type": "markdown",
   "id": "e6244cb6",
   "metadata": {},
   "source": [
    "This case study demonstrates various concepts learned in the first module, such as loops, functions, conditional statements, and lambda functions. The stock-level data of five major U.S. companies is fetched within the program and used to illustrate these concepts in practical examples.\n"
   ]
  },
  {
   "cell_type": "code",
   "id": "7b55573e",
   "metadata": {
    "ExecuteTime": {
     "end_time": "2025-10-22T18:18:10.056700Z",
     "start_time": "2025-10-22T18:18:09.471990Z"
    }
   },
   "source": [
    "import yfinance as yf\n",
    "import pandas as pd\n",
    "import warnings\n",
    "warnings.filterwarnings(\"ignore\")"
   ],
   "outputs": [],
   "execution_count": 1
  },
  {
   "cell_type": "code",
   "id": "11ef98d9",
   "metadata": {
    "ExecuteTime": {
     "end_time": "2025-10-22T18:18:10.912099Z",
     "start_time": "2025-10-22T18:18:10.060230Z"
    }
   },
   "source": [
    "#Let us obtain data od one stock for the financial year 2024. Note that the column names have two levels \n",
    "#and we want to use first level \n",
    "\n",
    "data = yf.download('META',start=\"2023-01-01\", end=\"2024-01-01\", progress=False)\n",
    "data.head()"
   ],
   "outputs": [
    {
     "name": "stdout",
     "output_type": "stream",
     "text": [
      "YF.download() has changed argument auto_adjust default to True\n"
     ]
    },
    {
     "name": "stderr",
     "output_type": "stream",
     "text": [
      "\n",
      "1 Failed download:\n",
      "['META']: YFRateLimitError('Too Many Requests. Rate limited. Try after a while.')\n"
     ]
    },
    {
     "data": {
      "text/plain": [
       "Empty DataFrame\n",
       "Columns: [(Adj Close, META), (Close, META), (High, META), (Low, META), (Open, META), (Volume, META)]\n",
       "Index: []"
      ],
      "text/html": [
       "<div>\n",
       "<style scoped>\n",
       "    .dataframe tbody tr th:only-of-type {\n",
       "        vertical-align: middle;\n",
       "    }\n",
       "\n",
       "    .dataframe tbody tr th {\n",
       "        vertical-align: top;\n",
       "    }\n",
       "\n",
       "    .dataframe thead tr th {\n",
       "        text-align: left;\n",
       "    }\n",
       "\n",
       "    .dataframe thead tr:last-of-type th {\n",
       "        text-align: right;\n",
       "    }\n",
       "</style>\n",
       "<table border=\"1\" class=\"dataframe\">\n",
       "  <thead>\n",
       "    <tr>\n",
       "      <th>Price</th>\n",
       "      <th>Adj Close</th>\n",
       "      <th>Close</th>\n",
       "      <th>High</th>\n",
       "      <th>Low</th>\n",
       "      <th>Open</th>\n",
       "      <th>Volume</th>\n",
       "    </tr>\n",
       "    <tr>\n",
       "      <th>Ticker</th>\n",
       "      <th>META</th>\n",
       "      <th>META</th>\n",
       "      <th>META</th>\n",
       "      <th>META</th>\n",
       "      <th>META</th>\n",
       "      <th>META</th>\n",
       "    </tr>\n",
       "    <tr>\n",
       "      <th>Date</th>\n",
       "      <th></th>\n",
       "      <th></th>\n",
       "      <th></th>\n",
       "      <th></th>\n",
       "      <th></th>\n",
       "      <th></th>\n",
       "    </tr>\n",
       "  </thead>\n",
       "  <tbody>\n",
       "  </tbody>\n",
       "</table>\n",
       "</div>"
      ]
     },
     "execution_count": 2,
     "metadata": {},
     "output_type": "execute_result"
    }
   ],
   "execution_count": 2
  },
  {
   "cell_type": "code",
   "id": "61db0c57",
   "metadata": {
    "ExecuteTime": {
     "end_time": "2025-10-22T18:18:10.928535Z",
     "start_time": "2025-10-22T18:18:10.925928Z"
    }
   },
   "source": [
    "# Now We create a function named 'download()' which accepts ticker (stock name), start date and end date as parameters\n",
    "#The function returns open, high, low, close and volume for the ticker\n",
    "#We select first level of column names\n",
    "def download(ticker, start=\"2023-01-01\", end=\"2024-01-01\"):\n",
    "    # Download data\n",
    "    data = yf.download(ticker, start=start, end=end, progress=False)\n",
    "    data.columns = [col[0] for col in data.columns.values] \n",
    "    # Reset index to convert date index to column\n",
    "    data = data.reset_index()\n",
    "    return data\n"
   ],
   "outputs": [],
   "execution_count": 3
  },
  {
   "cell_type": "code",
   "id": "7e33a4d5",
   "metadata": {
    "ExecuteTime": {
     "end_time": "2025-10-22T18:18:10.946060Z",
     "start_time": "2025-10-22T18:18:10.944176Z"
    }
   },
   "source": [
    "#Let us create list of stocks for which data is required\n",
    "#FAANG - 'META','AMAZON','APPLE','NETFLIX','GOOGLE'\n",
    "\n",
    "faang_list = ['META','AAPL','AMZN','NFLX','GOOGL']"
   ],
   "outputs": [],
   "execution_count": 4
  },
  {
   "cell_type": "code",
   "id": "80d96071",
   "metadata": {
    "ExecuteTime": {
     "end_time": "2025-10-22T18:29:51.837870Z",
     "start_time": "2025-10-22T18:29:48.275559Z"
    }
   },
   "source": [
    "#We will form a loop and apply download() on each of these tickers\n",
    "def get_data(stock_list, local: bool = False):\n",
    "    result_dfs = []\n",
    "    if local:\n",
    "        for ticker in stock_list:\n",
    "            df = pd.read_csv(f\"{ticker}.csv\")\n",
    "            result_dfs.append(df)\n",
    "    else:\n",
    "        for ticker in stock_list:\n",
    "            df = download(ticker)\n",
    "            if df.empty:\n",
    "                continue\n",
    "            df['Ticker'] = ticker  # optional: keep track of stock name\n",
    "            df.to_csv(df['Ticker'] + '.csv', index=False)\n",
    "            result_dfs.append(df)\n",
    "    return result_dfs\n",
    "\n",
    "faang_dfs = get_data(faang_list)"
   ],
   "outputs": [
    {
     "name": "stderr",
     "output_type": "stream",
     "text": [
      "\n",
      "1 Failed download:\n",
      "['META']: YFRateLimitError('Too Many Requests. Rate limited. Try after a while.')\n",
      "\n",
      "1 Failed download:\n",
      "['AAPL']: YFRateLimitError('Too Many Requests. Rate limited. Try after a while.')\n",
      "\n",
      "1 Failed download:\n",
      "['AMZN']: YFRateLimitError('Too Many Requests. Rate limited. Try after a while.')\n",
      "\n",
      "1 Failed download:\n",
      "['NFLX']: YFRateLimitError('Too Many Requests. Rate limited. Try after a while.')\n",
      "\n",
      "1 Failed download:\n",
      "['GOOGL']: YFRateLimitError('Too Many Requests. Rate limited. Try after a while.')\n"
     ]
    }
   ],
   "execution_count": 16
  },
  {
   "metadata": {
    "ExecuteTime": {
     "end_time": "2025-10-22T18:18:14.162507Z",
     "start_time": "2025-10-22T18:18:14.158751Z"
    }
   },
   "cell_type": "code",
   "source": "faang_dfs",
   "id": "4b6f06989b1b3c8d",
   "outputs": [
    {
     "data": {
      "text/plain": [
       "[Empty DataFrame\n",
       " Columns: [Date, Adj Close, Close, High, Low, Open, Volume, Ticker]\n",
       " Index: [],\n",
       " Empty DataFrame\n",
       " Columns: [Date, Adj Close, Close, High, Low, Open, Volume, Ticker]\n",
       " Index: [],\n",
       " Empty DataFrame\n",
       " Columns: [Date, Adj Close, Close, High, Low, Open, Volume, Ticker]\n",
       " Index: [],\n",
       " Empty DataFrame\n",
       " Columns: [Date, Adj Close, Close, High, Low, Open, Volume, Ticker]\n",
       " Index: [],\n",
       " Empty DataFrame\n",
       " Columns: [Date, Adj Close, Close, High, Low, Open, Volume, Ticker]\n",
       " Index: []]"
      ]
     },
     "execution_count": 6,
     "metadata": {},
     "output_type": "execute_result"
    }
   ],
   "execution_count": 6
  },
  {
   "metadata": {
    "ExecuteTime": {
     "end_time": "2025-10-22T18:18:14.179440Z",
     "start_time": "2025-10-22T18:18:14.175233Z"
    }
   },
   "cell_type": "code",
   "source": "faang_dfs[0] #Meta",
   "id": "abfa411de908dcf2",
   "outputs": [
    {
     "data": {
      "text/plain": [
       "Empty DataFrame\n",
       "Columns: [Date, Adj Close, Close, High, Low, Open, Volume, Ticker]\n",
       "Index: []"
      ],
      "text/html": [
       "<div>\n",
       "<style scoped>\n",
       "    .dataframe tbody tr th:only-of-type {\n",
       "        vertical-align: middle;\n",
       "    }\n",
       "\n",
       "    .dataframe tbody tr th {\n",
       "        vertical-align: top;\n",
       "    }\n",
       "\n",
       "    .dataframe thead th {\n",
       "        text-align: right;\n",
       "    }\n",
       "</style>\n",
       "<table border=\"1\" class=\"dataframe\">\n",
       "  <thead>\n",
       "    <tr style=\"text-align: right;\">\n",
       "      <th></th>\n",
       "      <th>Date</th>\n",
       "      <th>Adj Close</th>\n",
       "      <th>Close</th>\n",
       "      <th>High</th>\n",
       "      <th>Low</th>\n",
       "      <th>Open</th>\n",
       "      <th>Volume</th>\n",
       "      <th>Ticker</th>\n",
       "    </tr>\n",
       "  </thead>\n",
       "  <tbody>\n",
       "  </tbody>\n",
       "</table>\n",
       "</div>"
      ]
     },
     "execution_count": 7,
     "metadata": {},
     "output_type": "execute_result"
    }
   ],
   "execution_count": 7
  },
  {
   "metadata": {
    "ExecuteTime": {
     "end_time": "2025-10-22T18:18:14.195572Z",
     "start_time": "2025-10-22T18:18:14.192378Z"
    }
   },
   "cell_type": "code",
   "source": [
    "#We create a function named 'calculate_return' which takes list object as an argument\n",
    "#Calculates return using variable 'Close'\n",
    "#Further, it derives the 'Direction' as 1 and 0 using the concept of lamda function\n",
    "\n",
    "def calculate_return(df):\n",
    "    df['Prev_Close'] = df['Close'].shift(1)\n",
    "    try:\n",
    "        df['Returns'] = ((df['Close'] - df['Prev_Close']) / df['Prev_Close']) * 100\n",
    "    except Exception as e:\n",
    "        print(\"⚠️ Error calculating returns:\", e)\n",
    "    df['Returns'] = df['Returns'].fillna(0)\n",
    "    \n",
    "    df['Direction'] = df.apply(lambda x: 1 if x['Returns'] > 0 else 0, axis=1)\n",
    "    df.drop(columns='Prev_Close', inplace=True)\n",
    "    return df\n"
   ],
   "id": "734d37e413e0b88",
   "outputs": [],
   "execution_count": 8
  },
  {
   "metadata": {
    "ExecuteTime": {
     "end_time": "2025-10-22T18:18:14.204552Z",
     "start_time": "2025-10-22T18:18:14.198423Z"
    }
   },
   "cell_type": "code",
   "source": [
    "#Now we apply the function calculate_returns() for each object in a list\n",
    "processed_dfs = []\n",
    "for df in faang_dfs:\n",
    "    processed_df = calculate_return(df)\n",
    "    processed_dfs.append(processed_df)\n",
    "\n",
    "faang_dfs = processed_dfs"
   ],
   "id": "f9455c3a4172f8b7",
   "outputs": [],
   "execution_count": 9
  },
  {
   "metadata": {
    "ExecuteTime": {
     "end_time": "2025-10-22T18:18:14.210142Z",
     "start_time": "2025-10-22T18:18:14.206979Z"
    }
   },
   "cell_type": "code",
   "source": "faang_dfs[0]",
   "id": "85f2dd81c83b52d0",
   "outputs": [
    {
     "data": {
      "text/plain": [
       "Empty DataFrame\n",
       "Columns: [Date, Adj Close, Close, High, Low, Open, Volume, Ticker, Returns, Direction]\n",
       "Index: []"
      ],
      "text/html": [
       "<div>\n",
       "<style scoped>\n",
       "    .dataframe tbody tr th:only-of-type {\n",
       "        vertical-align: middle;\n",
       "    }\n",
       "\n",
       "    .dataframe tbody tr th {\n",
       "        vertical-align: top;\n",
       "    }\n",
       "\n",
       "    .dataframe thead th {\n",
       "        text-align: right;\n",
       "    }\n",
       "</style>\n",
       "<table border=\"1\" class=\"dataframe\">\n",
       "  <thead>\n",
       "    <tr style=\"text-align: right;\">\n",
       "      <th></th>\n",
       "      <th>Date</th>\n",
       "      <th>Adj Close</th>\n",
       "      <th>Close</th>\n",
       "      <th>High</th>\n",
       "      <th>Low</th>\n",
       "      <th>Open</th>\n",
       "      <th>Volume</th>\n",
       "      <th>Ticker</th>\n",
       "      <th>Returns</th>\n",
       "      <th>Direction</th>\n",
       "    </tr>\n",
       "  </thead>\n",
       "  <tbody>\n",
       "  </tbody>\n",
       "</table>\n",
       "</div>"
      ]
     },
     "execution_count": 10,
     "metadata": {},
     "output_type": "execute_result"
    }
   ],
   "execution_count": 10
  },
  {
   "cell_type": "code",
   "id": "d16897b4",
   "metadata": {
    "ExecuteTime": {
     "end_time": "2025-10-22T18:18:14.220573Z",
     "start_time": "2025-10-22T18:18:14.218122Z"
    }
   },
   "source": [
    "#We create a function 'monthly_returns' which derives month from the 'Date' column and calculates return for each month\n",
    "\n",
    "def monthly_returns(df):\n",
    "    ticker = df['Ticker']\n",
    "    # Ensure Date column is datetime\n",
    "    df['Date'] = pd.to_datetime(df['Date'])\n",
    "    # Derive Year-Month\n",
    "    df['Month'] = df['Date'].dt.to_period('M')\n",
    "    \n",
    "    # Group by Month and calculate monthly return\n",
    "    monthly_df = (\n",
    "        df.groupby('Month')\n",
    "        .apply(lambda x: ((x['Close'].iloc[-1] - x['Close'].iloc[0]) / x['Close'].iloc[0]) * 100)\n",
    "        .reset_index(name='Monthly_Return_%')\n",
    "    )\n",
    "    monthly_df['Ticker'] = ticker\n",
    "\n",
    "    return monthly_df.round(3)\n"
   ],
   "outputs": [],
   "execution_count": 11
  },
  {
   "cell_type": "code",
   "id": "b5a2e75d",
   "metadata": {
    "ExecuteTime": {
     "end_time": "2025-10-22T18:18:14.346753Z",
     "start_time": "2025-10-22T18:18:14.222916Z"
    }
   },
   "source": [
    "# Now we apply the function monthly_returns() for each object in a list\n",
    "monthly_dfs = [] #creates empty list\n",
    "for df in faang_dfs:\n",
    "    monthly_df = monthly_returns(df)\n",
    "    monthly_dfs.append(monthly_df)\n",
    "\n",
    "monthly_dfs[1] #Accessing second item in a list"
   ],
   "outputs": [
    {
     "ename": "TypeError",
     "evalue": "DataFrame.reset_index() got an unexpected keyword argument 'name'",
     "output_type": "error",
     "traceback": [
      "\u001B[31m---------------------------------------------------------------------------\u001B[39m",
      "\u001B[31mTypeError\u001B[39m                                 Traceback (most recent call last)",
      "\u001B[36mCell\u001B[39m\u001B[36m \u001B[39m\u001B[32mIn[12]\u001B[39m\u001B[32m, line 4\u001B[39m\n\u001B[32m      2\u001B[39m monthly_dfs = [] \u001B[38;5;66;03m#creates empty list\u001B[39;00m\n\u001B[32m      3\u001B[39m \u001B[38;5;28;01mfor\u001B[39;00m df \u001B[38;5;129;01min\u001B[39;00m faang_dfs:\n\u001B[32m----> \u001B[39m\u001B[32m4\u001B[39m     monthly_df = \u001B[43mmonthly_returns\u001B[49m\u001B[43m(\u001B[49m\u001B[43mdf\u001B[49m\u001B[43m)\u001B[49m\n\u001B[32m      5\u001B[39m     monthly_dfs.append(monthly_df)\n\u001B[32m      7\u001B[39m monthly_dfs[\u001B[32m1\u001B[39m] \u001B[38;5;66;03m#Accessing second item in a list\u001B[39;00m\n",
      "\u001B[36mCell\u001B[39m\u001B[36m \u001B[39m\u001B[32mIn[11]\u001B[39m\u001B[32m, line 14\u001B[39m, in \u001B[36mmonthly_returns\u001B[39m\u001B[34m(df)\u001B[39m\n\u001B[32m      8\u001B[39m df[\u001B[33m'\u001B[39m\u001B[33mMonth\u001B[39m\u001B[33m'\u001B[39m] = df[\u001B[33m'\u001B[39m\u001B[33mDate\u001B[39m\u001B[33m'\u001B[39m].dt.to_period(\u001B[33m'\u001B[39m\u001B[33mM\u001B[39m\u001B[33m'\u001B[39m)\n\u001B[32m     10\u001B[39m \u001B[38;5;66;03m# Group by Month and calculate monthly return\u001B[39;00m\n\u001B[32m     11\u001B[39m monthly_df = (\n\u001B[32m     12\u001B[39m     \u001B[43mdf\u001B[49m\u001B[43m.\u001B[49m\u001B[43mgroupby\u001B[49m\u001B[43m(\u001B[49m\u001B[33;43m'\u001B[39;49m\u001B[33;43mMonth\u001B[39;49m\u001B[33;43m'\u001B[39;49m\u001B[43m)\u001B[49m\n\u001B[32m     13\u001B[39m \u001B[43m    \u001B[49m\u001B[43m.\u001B[49m\u001B[43mapply\u001B[49m\u001B[43m(\u001B[49m\u001B[38;5;28;43;01mlambda\u001B[39;49;00m\u001B[43m \u001B[49m\u001B[43mx\u001B[49m\u001B[43m:\u001B[49m\u001B[43m \u001B[49m\u001B[43m(\u001B[49m\u001B[43m(\u001B[49m\u001B[43mx\u001B[49m\u001B[43m[\u001B[49m\u001B[33;43m'\u001B[39;49m\u001B[33;43mClose\u001B[39;49m\u001B[33;43m'\u001B[39;49m\u001B[43m]\u001B[49m\u001B[43m.\u001B[49m\u001B[43miloc\u001B[49m\u001B[43m[\u001B[49m\u001B[43m-\u001B[49m\u001B[32;43m1\u001B[39;49m\u001B[43m]\u001B[49m\u001B[43m \u001B[49m\u001B[43m-\u001B[49m\u001B[43m \u001B[49m\u001B[43mx\u001B[49m\u001B[43m[\u001B[49m\u001B[33;43m'\u001B[39;49m\u001B[33;43mClose\u001B[39;49m\u001B[33;43m'\u001B[39;49m\u001B[43m]\u001B[49m\u001B[43m.\u001B[49m\u001B[43miloc\u001B[49m\u001B[43m[\u001B[49m\u001B[32;43m0\u001B[39;49m\u001B[43m]\u001B[49m\u001B[43m)\u001B[49m\u001B[43m \u001B[49m\u001B[43m/\u001B[49m\u001B[43m \u001B[49m\u001B[43mx\u001B[49m\u001B[43m[\u001B[49m\u001B[33;43m'\u001B[39;49m\u001B[33;43mClose\u001B[39;49m\u001B[33;43m'\u001B[39;49m\u001B[43m]\u001B[49m\u001B[43m.\u001B[49m\u001B[43miloc\u001B[49m\u001B[43m[\u001B[49m\u001B[32;43m0\u001B[39;49m\u001B[43m]\u001B[49m\u001B[43m)\u001B[49m\u001B[43m \u001B[49m\u001B[43m*\u001B[49m\u001B[43m \u001B[49m\u001B[32;43m100\u001B[39;49m\u001B[43m)\u001B[49m\n\u001B[32m---> \u001B[39m\u001B[32m14\u001B[39m \u001B[43m    \u001B[49m\u001B[43m.\u001B[49m\u001B[43mreset_index\u001B[49m\u001B[43m(\u001B[49m\u001B[43mname\u001B[49m\u001B[43m=\u001B[49m\u001B[33;43m'\u001B[39;49m\u001B[33;43mMonthly_Return_\u001B[39;49m\u001B[33;43m%\u001B[39;49m\u001B[33;43m'\u001B[39;49m\u001B[43m)\u001B[49m\n\u001B[32m     15\u001B[39m )\n\u001B[32m     16\u001B[39m monthly_df[\u001B[33m'\u001B[39m\u001B[33mTicker\u001B[39m\u001B[33m'\u001B[39m] = ticker\n\u001B[32m     18\u001B[39m \u001B[38;5;28;01mreturn\u001B[39;00m monthly_df.round(\u001B[32m3\u001B[39m)\n",
      "\u001B[31mTypeError\u001B[39m: DataFrame.reset_index() got an unexpected keyword argument 'name'"
     ]
    }
   ],
   "execution_count": 12
  },
  {
   "cell_type": "code",
   "id": "26cd4803",
   "metadata": {},
   "source": [
    "monthly_dfs #Displays all list items"
   ],
   "outputs": [],
   "execution_count": null
  }
 ],
 "metadata": {
  "kernelspec": {
   "display_name": "Python 3 (ipykernel)",
   "language": "python",
   "name": "python3"
  },
  "language_info": {
   "codemirror_mode": {
    "name": "ipython",
    "version": 3
   },
   "file_extension": ".py",
   "mimetype": "text/x-python",
   "name": "python",
   "nbconvert_exporter": "python",
   "pygments_lexer": "ipython3",
   "version": "3.11.5"
  }
 },
 "nbformat": 4,
 "nbformat_minor": 5
}
