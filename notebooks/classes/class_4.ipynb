{
 "cells": [
  {
   "metadata": {},
   "cell_type": "markdown",
   "source": "# Class 4",
   "id": "8ece8517865bfabe"
  },
  {
   "metadata": {},
   "cell_type": "markdown",
   "source": "About if statements",
   "id": "96bcfad8d6815ebf"
  },
  {
   "cell_type": "code",
   "id": "initial_id",
   "metadata": {
    "collapsed": true,
    "ExecuteTime": {
     "end_time": "2025-10-08T17:34:50.010135Z",
     "start_time": "2025-10-08T17:34:50.007800Z"
    }
   },
   "source": [
    "def check_sign(x: int):\n",
    "    if x == 0:\n",
    "        print(\"zero\")\n",
    "    elif x > 0:\n",
    "        print(\"positive number\")\n",
    "    else:\n",
    "        print(\"negative number\")\n",
    "\n",
    "check_sign(5)\n",
    "check_sign(-5)"
   ],
   "outputs": [
    {
     "name": "stdout",
     "output_type": "stream",
     "text": [
      "positive number\n",
      "negative number\n"
     ]
    }
   ],
   "execution_count": 16
  },
  {
   "metadata": {
    "ExecuteTime": {
     "end_time": "2025-10-08T17:34:50.023486Z",
     "start_time": "2025-10-08T17:34:50.021051Z"
    }
   },
   "cell_type": "code",
   "source": [
    "x = \"hello\"\n",
    "if isinstance(x, str):\n",
    "    print(\"it is a string\")\n",
    "\n",
    "if type(x) == str:\n",
    "    print(\"it is a string\")\n",
    "\n",
    "x = [1, 2, 3]\n",
    "if isinstance(x, list):\n",
    "    print(\"it is a list\")\n",
    "\n",
    "x = {1, 2, 3}\n",
    "if isinstance(x, set):\n",
    "    print(\"it is a set\")"
   ],
   "id": "ba21b1ff5c285d2d",
   "outputs": [
    {
     "name": "stdout",
     "output_type": "stream",
     "text": [
      "it is a string\n",
      "it is a string\n",
      "it is a list\n",
      "it is a set\n"
     ]
    }
   ],
   "execution_count": 17
  },
  {
   "metadata": {
    "ExecuteTime": {
     "end_time": "2025-10-08T17:34:50.033047Z",
     "start_time": "2025-10-08T17:34:50.030245Z"
    }
   },
   "cell_type": "code",
   "source": [
    "class Animal:\n",
    "    pass\n",
    "\n",
    "class Dog(Animal):\n",
    "    pass\n",
    "\n",
    "class GermanShepard(Dog):\n",
    "    pass\n",
    "\n",
    "class Feline(Animal):\n",
    "    pass\n",
    "\n",
    "class Lion(Feline):\n",
    "    pass\n",
    "\n",
    "if isinstance(GermanShepard(), Dog):\n",
    "    print(\"1. it is a dog\")\n",
    "\n",
    "if isinstance(GermanShepard(), Feline):\n",
    "    print(\"2. it is a cat\")\n",
    "\n",
    "if isinstance(Lion(), Dog):\n",
    "    print(\"3. it is a dog\")\n",
    "\n",
    "if isinstance(Lion(), Feline):\n",
    "    print(\"4. it is a cat\")\n",
    "\n",
    "if isinstance(GermanShepard(), Animal):\n",
    "    print(\"5. it is an animal\")\n",
    "\n",
    "if isinstance(Lion(), Animal):\n",
    "    print(\"6. it is an animal\")\n",
    "\n",
    "if isinstance(GermanShepard(), (Animal, Dog, Feline)):\n",
    "    print(\"7. it is an animal or a dog or a cat\")"
   ],
   "id": "d2520b93fc141e3a",
   "outputs": [
    {
     "name": "stdout",
     "output_type": "stream",
     "text": [
      "1. it is a dog\n",
      "4. it is a cat\n",
      "5. it is an animal\n",
      "6. it is an animal\n",
      "7. it is an animal or a dog or a cat\n"
     ]
    }
   ],
   "execution_count": 18
  },
  {
   "metadata": {
    "ExecuteTime": {
     "end_time": "2025-10-08T17:34:50.044226Z",
     "start_time": "2025-10-08T17:34:50.042185Z"
    }
   },
   "cell_type": "code",
   "source": [
    "for i in range(1, 6):\n",
    "    for j in range(1, 3):\n",
    "        print(f\"{i} * {j} = {i * j}\")"
   ],
   "id": "e19068b930e35054",
   "outputs": [
    {
     "name": "stdout",
     "output_type": "stream",
     "text": [
      "1 * 1 = 1\n",
      "1 * 2 = 2\n",
      "2 * 1 = 2\n",
      "2 * 2 = 4\n",
      "3 * 1 = 3\n",
      "3 * 2 = 6\n",
      "4 * 1 = 4\n",
      "4 * 2 = 8\n",
      "5 * 1 = 5\n",
      "5 * 2 = 10\n"
     ]
    }
   ],
   "execution_count": 19
  },
  {
   "metadata": {
    "ExecuteTime": {
     "end_time": "2025-10-08T17:38:22.861333Z",
     "start_time": "2025-10-08T17:38:22.858008Z"
    }
   },
   "cell_type": "code",
   "source": [
    "i = 1\n",
    "while i < 11:\n",
    "    print(f\"{i}\")\n",
    "    i += 2"
   ],
   "id": "10a162e9c8ed2ce8",
   "outputs": [
    {
     "name": "stdout",
     "output_type": "stream",
     "text": [
      "1\n",
      "3\n",
      "5\n",
      "7\n",
      "9\n"
     ]
    }
   ],
   "execution_count": 22
  },
  {
   "metadata": {
    "ExecuteTime": {
     "end_time": "2025-10-08T17:42:57.916681Z",
     "start_time": "2025-10-08T17:42:57.913942Z"
    }
   },
   "cell_type": "code",
   "source": [
    "# fake do-while\n",
    "total = 0\n",
    "while True:\n",
    "    print(f\"total: {total}\")\n",
    "    total += 2\n",
    "    if total > 8:\n",
    "        break # python doesn't allow labeled break, it is always the most internal one"
   ],
   "id": "67a2e55243725fb",
   "outputs": [
    {
     "name": "stdout",
     "output_type": "stream",
     "text": [
      "total: 0\n",
      "total: 2\n",
      "total: 4\n",
      "total: 6\n",
      "total: 8\n"
     ]
    }
   ],
   "execution_count": 23
  },
  {
   "metadata": {
    "ExecuteTime": {
     "end_time": "2025-10-08T17:48:54.547Z",
     "start_time": "2025-10-08T17:48:54.544636Z"
    }
   },
   "cell_type": "code",
   "source": [
    "for i in range(1,15):\n",
    "    if i % 4 == 0:\n",
    "        print(f\"{i}\")\n",
    "    else:\n",
    "        continue"
   ],
   "id": "228a94eefd0d5676",
   "outputs": [
    {
     "name": "stdout",
     "output_type": "stream",
     "text": [
      "4\n",
      "8\n",
      "12\n"
     ]
    }
   ],
   "execution_count": 25
  },
  {
   "metadata": {},
   "cell_type": "markdown",
   "source": "break and continue affect always the most internal loop",
   "id": "eaed37387d9dae3e"
  },
  {
   "metadata": {
    "ExecuteTime": {
     "end_time": "2025-10-08T18:00:42.846444Z",
     "start_time": "2025-10-08T18:00:42.843407Z"
    }
   },
   "cell_type": "code",
   "source": [
    "i = 1\n",
    "while i < 10:\n",
    "    for j in range(1, 10):\n",
    "         if j != 1:\n",
    "             continue\n",
    "         print(f\"{i} * {j} = {i * j}\")\n",
    "    if i == 5:\n",
    "        break\n",
    "    i += 1"
   ],
   "id": "c3164e2221cac41e",
   "outputs": [
    {
     "name": "stdout",
     "output_type": "stream",
     "text": [
      "1 * 1 = 1\n",
      "2 * 1 = 2\n",
      "3 * 1 = 3\n",
      "4 * 1 = 4\n",
      "5 * 1 = 5\n"
     ]
    }
   ],
   "execution_count": 29
  },
  {
   "metadata": {
    "ExecuteTime": {
     "end_time": "2025-10-08T18:04:43.237194Z",
     "start_time": "2025-10-08T18:04:43.230034Z"
    }
   },
   "cell_type": "code",
   "source": "abs(-4)",
   "id": "51ae14b8681d1bc3",
   "outputs": [
    {
     "data": {
      "text/plain": [
       "4"
      ]
     },
     "execution_count": 30,
     "metadata": {},
     "output_type": "execute_result"
    }
   ],
   "execution_count": 30
  },
  {
   "metadata": {
    "ExecuteTime": {
     "end_time": "2025-10-08T18:05:30.139379Z",
     "start_time": "2025-10-08T18:05:30.135821Z"
    }
   },
   "cell_type": "code",
   "source": [
    "x = [-4, 4, 5, -1]\n",
    "[abs(i) for i in x]"
   ],
   "id": "ff6092ff99951f3a",
   "outputs": [
    {
     "data": {
      "text/plain": [
       "[4, 4, 5, 1]"
      ]
     },
     "execution_count": 31,
     "metadata": {},
     "output_type": "execute_result"
    }
   ],
   "execution_count": 31
  },
  {
   "metadata": {
    "ExecuteTime": {
     "end_time": "2025-10-08T18:26:33.097416Z",
     "start_time": "2025-10-08T18:26:33.092988Z"
    }
   },
   "cell_type": "code",
   "source": [
    "from math import sqrt, ceil, trunc, floor, exp\n",
    "print(sqrt(4))\n",
    "print(trunc(2.6666)) # cut off the decimal\n",
    "print(ceil(2.6666)) # close to the next integer (up)\n",
    "print(floor(2.6666)) # close to the next integer (down)\n",
    "print(round(2.6666))\n",
    "print(exp(1)) # == e"
   ],
   "id": "46423f2ea1c665f0",
   "outputs": [
    {
     "name": "stdout",
     "output_type": "stream",
     "text": [
      "2.0\n",
      "2\n",
      "3\n",
      "2\n",
      "3\n",
      "2.718281828459045\n"
     ]
    }
   ],
   "execution_count": 46
  },
  {
   "metadata": {
    "ExecuteTime": {
     "end_time": "2025-10-08T18:17:05.551718Z",
     "start_time": "2025-10-08T18:17:05.547622Z"
    }
   },
   "cell_type": "code",
   "source": [
    "from numpy import log\n",
    "from math import log # python takes the last one imported\n",
    "log(10, 10)"
   ],
   "id": "eb8775554b4fe95f",
   "outputs": [
    {
     "data": {
      "text/plain": [
       "1.0"
      ]
     },
     "execution_count": 40,
     "metadata": {},
     "output_type": "execute_result"
    }
   ],
   "execution_count": 40
  },
  {
   "metadata": {
    "ExecuteTime": {
     "end_time": "2025-10-08T18:24:34.845750Z",
     "start_time": "2025-10-08T18:24:34.842030Z"
    }
   },
   "cell_type": "code",
   "source": [
    "x = 7\n",
    "y = 18\n",
    "print(x + y)\n",
    "print(x - y)\n",
    "print(x * y)\n",
    "print(y / x)\n",
    "print(y // x)\n",
    "print(y % x)\n",
    "print(y ** x)\n"
   ],
   "id": "706d8d0e4e1b58b3",
   "outputs": [
    {
     "name": "stdout",
     "output_type": "stream",
     "text": [
      "25\n",
      "-11\n",
      "126\n",
      "2.5714285714285716\n",
      "2\n",
      "4\n",
      "612220032\n"
     ]
    }
   ],
   "execution_count": 42
  },
  {
   "metadata": {
    "ExecuteTime": {
     "end_time": "2025-10-08T18:36:58.804550Z",
     "start_time": "2025-10-08T18:36:58.800718Z"
    }
   },
   "cell_type": "code",
   "source": [
    "t = (\"Monday\", \"Tuesday\", \"Wednesday\", \"Thursday\", \"Friday\", \"Saturday\", \"Sunday\")\n",
    "for i in range(0, 31):\n",
    "    print(f\"{t[i % 7]}\")"
   ],
   "id": "45fe246a89cc2887",
   "outputs": [
    {
     "name": "stdout",
     "output_type": "stream",
     "text": [
      "Monday\n",
      "Tuesday\n",
      "Wednesday\n",
      "Thursday\n",
      "Friday\n",
      "Saturday\n",
      "Sunday\n",
      "Monday\n",
      "Tuesday\n",
      "Wednesday\n",
      "Thursday\n",
      "Friday\n",
      "Saturday\n",
      "Sunday\n",
      "Monday\n",
      "Tuesday\n",
      "Wednesday\n",
      "Thursday\n",
      "Friday\n",
      "Saturday\n",
      "Sunday\n",
      "Monday\n",
      "Tuesday\n",
      "Wednesday\n",
      "Thursday\n",
      "Friday\n",
      "Saturday\n",
      "Sunday\n",
      "Monday\n",
      "Tuesday\n",
      "Wednesday\n"
     ]
    }
   ],
   "execution_count": 54
  },
  {
   "metadata": {
    "ExecuteTime": {
     "end_time": "2025-10-08T18:36:30.636314Z",
     "start_time": "2025-10-08T18:36:30.630781Z"
    }
   },
   "cell_type": "code",
   "source": [
    "t = tuple(x for x in range(1, 10, 1))\n",
    "print(15 in t)\n",
    "print(5 in t)\n",
    "t"
   ],
   "id": "cc8a7c4936c2537f",
   "outputs": [
    {
     "name": "stdout",
     "output_type": "stream",
     "text": [
      "False\n",
      "True\n"
     ]
    },
    {
     "data": {
      "text/plain": [
       "(1, 2, 3, 4, 5, 6, 7, 8, 9)"
      ]
     },
     "execution_count": 53,
     "metadata": {},
     "output_type": "execute_result"
    }
   ],
   "execution_count": 53
  },
  {
   "metadata": {
    "ExecuteTime": {
     "end_time": "2025-10-08T18:38:00.081481Z",
     "start_time": "2025-10-08T18:38:00.078144Z"
    }
   },
   "cell_type": "code",
   "source": [
    "s = \"\"\" a string with \" quotes and ` backticks ' as you want \"\"\"\n",
    "print(s)"
   ],
   "id": "ec4d438c23806ad5",
   "outputs": [
    {
     "name": "stdout",
     "output_type": "stream",
     "text": [
      " a string with \" quotes and ` backticks ' as you want \n"
     ]
    }
   ],
   "execution_count": 55
  },
  {
   "metadata": {
    "ExecuteTime": {
     "end_time": "2025-10-08T18:49:40.077833Z",
     "start_time": "2025-10-08T18:49:40.074376Z"
    }
   },
   "cell_type": "code",
   "source": [
    "text = \"PYTHON IS THE BEST\"\n",
    "print(text[0:3])\n",
    "print(text[14:18])\n",
    "print(text[-4:])"
   ],
   "id": "f7d19ab9448b7429",
   "outputs": [
    {
     "name": "stdout",
     "output_type": "stream",
     "text": [
      "PYT\n",
      "BEST\n",
      "BEST\n"
     ]
    }
   ],
   "execution_count": 62
  },
  {
   "metadata": {
    "ExecuteTime": {
     "end_time": "2025-10-08T18:52:48.559856Z",
     "start_time": "2025-10-08T18:52:48.554834Z"
    }
   },
   "cell_type": "code",
   "source": [
    "s = \"She is a data scientist. She works with an MNC\"\n",
    "print(s.replace(\"She\", \"Sharon\"))\n",
    "print(s.lower())\n",
    "print(s.upper())"
   ],
   "id": "be5a6149232e70f1",
   "outputs": [
    {
     "name": "stdout",
     "output_type": "stream",
     "text": [
      "Sharon is a data scientist. Sharon works with an MNC\n",
      "she is a data scientist. she works with an mnc\n",
      "SHE IS A DATA SCIENTIST. SHE WORKS WITH AN MNC\n"
     ]
    }
   ],
   "execution_count": 64
  }
 ],
 "metadata": {
  "kernelspec": {
   "display_name": "Python 3",
   "language": "python",
   "name": "python3"
  },
  "language_info": {
   "codemirror_mode": {
    "name": "ipython",
    "version": 2
   },
   "file_extension": ".py",
   "mimetype": "text/x-python",
   "name": "python",
   "nbconvert_exporter": "python",
   "pygments_lexer": "ipython2",
   "version": "2.7.6"
  }
 },
 "nbformat": 4,
 "nbformat_minor": 5
}
