{
 "cells": [
  {
   "cell_type": "code",
   "id": "initial_id",
   "metadata": {
    "collapsed": true,
    "ExecuteTime": {
     "end_time": "2025-10-13T17:26:25.975873Z",
     "start_time": "2025-10-13T17:26:25.962315Z"
    }
   },
   "source": [
    "'''\n",
    "Multiply two decimals\n",
    "Input: float, float\n",
    "Output: float\n",
    "'''\n",
    "def mult(a: float, b: float) -> float:\n",
    "    return a * b\n",
    "mult(5, 2)"
   ],
   "outputs": [
    {
     "data": {
      "text/plain": [
       "10"
      ]
     },
     "execution_count": 4,
     "metadata": {},
     "output_type": "execute_result"
    }
   ],
   "execution_count": 4
  },
  {
   "metadata": {
    "ExecuteTime": {
     "end_time": "2025-10-13T17:31:09.334816Z",
     "start_time": "2025-10-13T17:31:09.324432Z"
    }
   },
   "cell_type": "code",
   "source": [
    "def greet(name: str):\n",
    "    print(\"Hello,\", name)\n",
    "\n",
    "greet(\"Nilton\")"
   ],
   "id": "b8b352f662774766",
   "outputs": [
    {
     "name": "stdout",
     "output_type": "stream",
     "text": [
      "Hello, Nilton\n"
     ]
    }
   ],
   "execution_count": 5
  },
  {
   "metadata": {
    "ExecuteTime": {
     "end_time": "2025-10-13T17:42:46.238324Z",
     "start_time": "2025-10-13T17:42:46.233510Z"
    }
   },
   "cell_type": "code",
   "source": [
    "# spread should not be the last argument but could be convenient\n",
    "def spread_args(*strings: str, title: str) -> str:\n",
    "    return f\"{title}: \" + \", \".join(strings)\n",
    "print(spread_args(\"1\", \"2\", \"3\", \"4\", title=\"Numbers\"))\n",
    "\n",
    "def spread_args_2(title: str, *strings: str) -> str:\n",
    "    return f\"{title}: \" + \", \".join(strings)\n",
    "print(spread_args_2(\"Numbers\", \"1\", \"2\", \"3\", \"4\"))"
   ],
   "id": "f5a6bf3e75c3cb51",
   "outputs": [
    {
     "name": "stdout",
     "output_type": "stream",
     "text": [
      "Numbers: 1, 2, 3, 4\n",
      "Numbers: 1, 2, 3, 4\n"
     ]
    }
   ],
   "execution_count": 16
  },
  {
   "metadata": {
    "ExecuteTime": {
     "end_time": "2025-10-13T17:51:56.093046Z",
     "start_time": "2025-10-13T17:51:56.088470Z"
    }
   },
   "cell_type": "code",
   "source": [
    "def desc(**info):\n",
    "    print(info)\n",
    "desc(name=\"Nilton\", age=25, city=\"Sao Paulo\")"
   ],
   "id": "8c0fb3810c293ffb",
   "outputs": [
    {
     "name": "stdout",
     "output_type": "stream",
     "text": [
      "{'name': 'Nilton', 'age': 25, 'city': 'Sao Paulo'}\n"
     ]
    }
   ],
   "execution_count": 2
  },
  {
   "metadata": {
    "ExecuteTime": {
     "end_time": "2025-10-13T17:53:55.508816Z",
     "start_time": "2025-10-13T17:53:55.488736Z"
    }
   },
   "cell_type": "code",
   "source": [
    "def calc_sum(value):\n",
    "    if value < 0:\n",
    "        print(\"Error\")\n",
    "    else:\n",
    "        n = int(value)\n",
    "        result = (n * (n + 1)) / 2\n",
    "        print(result)\n",
    "\n",
    "print(calc_sum(5))\n"
   ],
   "id": "c52c49ec1a387386",
   "outputs": [
    {
     "name": "stdout",
     "output_type": "stream",
     "text": [
      "15.0\n",
      "None\n"
     ]
    }
   ],
   "execution_count": 3
  },
  {
   "metadata": {
    "ExecuteTime": {
     "end_time": "2025-10-13T17:55:44.735479Z",
     "start_time": "2025-10-13T17:55:44.730238Z"
    }
   },
   "cell_type": "code",
   "source": [
    "def outer_fn(x):\n",
    "    def inner_fn(y):\n",
    "        return y * 2\n",
    "    result = inner_fn(x)\n",
    "    return result + 5\n",
    "print(outer_fn(5))"
   ],
   "id": "7528b78d7deab71c",
   "outputs": [
    {
     "name": "stdout",
     "output_type": "stream",
     "text": [
      "15\n"
     ]
    }
   ],
   "execution_count": 4
  },
  {
   "metadata": {
    "ExecuteTime": {
     "end_time": "2025-10-13T17:57:34.387455Z",
     "start_time": "2025-10-13T17:57:34.383428Z"
    }
   },
   "cell_type": "code",
   "source": [
    "sqrt = lambda x : x * x\n",
    "print(sqrt(5))"
   ],
   "id": "d2f53d85514659ec",
   "outputs": [
    {
     "name": "stdout",
     "output_type": "stream",
     "text": [
      "25\n"
     ]
    }
   ],
   "execution_count": 5
  },
  {
   "metadata": {
    "ExecuteTime": {
     "end_time": "2025-10-13T18:08:27.744151Z",
     "start_time": "2025-10-13T18:08:27.729549Z"
    }
   },
   "cell_type": "code",
   "source": [
    "sum_fn = lambda a, b : a + b\n",
    "mult_fn = lambda a, b : a * b\n",
    "\n",
    "def calc(op, a, b):\n",
    "    return op(a, b)\n",
    "\n",
    "print(calc(sum_fn, 5, 2))\n",
    "print(calc(mult_fn, 5, 2))"
   ],
   "id": "2ac5dc43d4d1925d",
   "outputs": [
    {
     "name": "stdout",
     "output_type": "stream",
     "text": [
      "7\n",
      "10\n"
     ]
    }
   ],
   "execution_count": 7
  },
  {
   "metadata": {
    "ExecuteTime": {
     "end_time": "2025-10-13T18:16:02.283168Z",
     "start_time": "2025-10-13T18:16:02.271718Z"
    }
   },
   "cell_type": "code",
   "source": [
    "def divide(a, b) -> int | None:\n",
    "    try:\n",
    "        a = int(a)\n",
    "        b = int(b)\n",
    "        return a // b\n",
    "    except Exception as e:\n",
    "        print(f\"problems: {e}\")\n",
    "        return None\n",
    "\n",
    "print(divide(5, 1))\n",
    "print(divide(5, \"a\"))\n",
    "print(divide(5, 0))"
   ],
   "id": "e5020afa4fa95f11",
   "outputs": [
    {
     "name": "stdout",
     "output_type": "stream",
     "text": [
      "5\n",
      "problems: invalid literal for int() with base 10: 'a'\n",
      "None\n",
      "problems: integer division or modulo by zero\n",
      "None\n"
     ]
    }
   ],
   "execution_count": 15
  },
  {
   "metadata": {
    "ExecuteTime": {
     "end_time": "2025-10-13T18:25:41.321466Z",
     "start_time": "2025-10-13T18:25:41.313350Z"
    }
   },
   "cell_type": "code",
   "source": [
    "def read_file(filename: str):\n",
    "    try:\n",
    "        with open(filename, \"r\") as file:\n",
    "            content = file.read()\n",
    "            print(content)\n",
    "            return content\n",
    "    except FileNotFoundError:\n",
    "        print(\"File not found\")\n",
    "\n",
    "read_file(\"data.txt\")\n"
   ],
   "id": "833518d25a402c60",
   "outputs": [
    {
     "name": "stdout",
     "output_type": "stream",
     "text": [
      "'Hello World'\n"
     ]
    },
    {
     "data": {
      "text/plain": [
       "\"'Hello World'\""
      ]
     },
     "execution_count": 18,
     "metadata": {},
     "output_type": "execute_result"
    }
   ],
   "execution_count": 18
  }
 ],
 "metadata": {
  "kernelspec": {
   "display_name": "Python 3",
   "language": "python",
   "name": "python3"
  },
  "language_info": {
   "codemirror_mode": {
    "name": "ipython",
    "version": 2
   },
   "file_extension": ".py",
   "mimetype": "text/x-python",
   "name": "python",
   "nbconvert_exporter": "python",
   "pygments_lexer": "ipython2",
   "version": "2.7.6"
  }
 },
 "nbformat": 4,
 "nbformat_minor": 5
}
