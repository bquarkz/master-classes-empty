{
 "cells": [
  {
   "cell_type": "code",
   "id": "initial_id",
   "metadata": {
    "collapsed": true,
    "ExecuteTime": {
     "end_time": "2025-10-13T17:26:25.975873Z",
     "start_time": "2025-10-13T17:26:25.962315Z"
    }
   },
   "source": [
    "'''\n",
    "Multiply two decimals\n",
    "Input: float, float\n",
    "Output: float\n",
    "'''\n",
    "def mult(a: float, b: float) -> float:\n",
    "    return a * b\n",
    "mult(5, 2)"
   ],
   "outputs": [
    {
     "data": {
      "text/plain": [
       "10"
      ]
     },
     "execution_count": 4,
     "metadata": {},
     "output_type": "execute_result"
    }
   ],
   "execution_count": 4
  },
  {
   "metadata": {
    "ExecuteTime": {
     "end_time": "2025-10-13T17:31:09.334816Z",
     "start_time": "2025-10-13T17:31:09.324432Z"
    }
   },
   "cell_type": "code",
   "source": [
    "def greet(name: str):\n",
    "    print(\"Hello,\", name)\n",
    "\n",
    "greet(\"Nilton\")"
   ],
   "id": "b8b352f662774766",
   "outputs": [
    {
     "name": "stdout",
     "output_type": "stream",
     "text": [
      "Hello, Nilton\n"
     ]
    }
   ],
   "execution_count": 5
  },
  {
   "metadata": {
    "ExecuteTime": {
     "end_time": "2025-10-13T17:42:46.238324Z",
     "start_time": "2025-10-13T17:42:46.233510Z"
    }
   },
   "cell_type": "code",
   "source": [
    "# spread should not be the last argument but could be convenient\n",
    "def spread_args(*strings: str, title: str) -> str:\n",
    "    return f\"{title}: \" + \", \".join(strings)\n",
    "print(spread_args(\"1\", \"2\", \"3\", \"4\", title=\"Numbers\"))\n",
    "\n",
    "def spread_args_2(title: str, *strings: str) -> str:\n",
    "    return f\"{title}: \" + \", \".join(strings)\n",
    "print(spread_args_2(\"Numbers\", \"1\", \"2\", \"3\", \"4\"))"
   ],
   "id": "f5a6bf3e75c3cb51",
   "outputs": [
    {
     "name": "stdout",
     "output_type": "stream",
     "text": [
      "Numbers: 1, 2, 3, 4\n",
      "Numbers: 1, 2, 3, 4\n"
     ]
    }
   ],
   "execution_count": 16
  },
  {
   "metadata": {
    "ExecuteTime": {
     "end_time": "2025-10-13T17:51:56.093046Z",
     "start_time": "2025-10-13T17:51:56.088470Z"
    }
   },
   "cell_type": "code",
   "source": [
    "def desc(**info):\n",
    "    print(info)\n",
    "desc(name=\"Nilton\", age=25, city=\"Sao Paulo\")"
   ],
   "id": "8c0fb3810c293ffb",
   "outputs": [
    {
     "name": "stdout",
     "output_type": "stream",
     "text": [
      "{'name': 'Nilton', 'age': 25, 'city': 'Sao Paulo'}\n"
     ]
    }
   ],
   "execution_count": 2
  },
  {
   "metadata": {
    "ExecuteTime": {
     "end_time": "2025-10-13T17:53:55.508816Z",
     "start_time": "2025-10-13T17:53:55.488736Z"
    }
   },
   "cell_type": "code",
   "source": [
    "def calc_sum(value):\n",
    "    if value < 0:\n",
    "        print(\"Error\")\n",
    "    else:\n",
    "        n = int(value)\n",
    "        result = (n * (n + 1)) / 2\n",
    "        print(result)\n",
    "\n",
    "print(calc_sum(5))"
   ],
   "id": "c52c49ec1a387386",
   "outputs": [
    {
     "name": "stdout",
     "output_type": "stream",
     "text": [
      "15.0\n",
      "None\n"
     ]
    }
   ],
   "execution_count": 3
  },
  {
   "metadata": {
    "ExecuteTime": {
     "end_time": "2025-10-13T17:55:44.735479Z",
     "start_time": "2025-10-13T17:55:44.730238Z"
    }
   },
   "cell_type": "code",
   "source": [
    "def outer_fn(x):\n",
    "    def inner_fn(y):\n",
    "        return y * 2\n",
    "    result = inner_fn(x)\n",
    "    return result + 5\n",
    "print(outer_fn(5))"
   ],
   "id": "7528b78d7deab71c",
   "outputs": [
    {
     "name": "stdout",
     "output_type": "stream",
     "text": [
      "15\n"
     ]
    }
   ],
   "execution_count": 4
  },
  {
   "metadata": {
    "ExecuteTime": {
     "end_time": "2025-10-13T17:57:34.387455Z",
     "start_time": "2025-10-13T17:57:34.383428Z"
    }
   },
   "cell_type": "code",
   "source": [
    "sqrt = lambda x : x * x\n",
    "print(sqrt(5))"
   ],
   "id": "d2f53d85514659ec",
   "outputs": [
    {
     "name": "stdout",
     "output_type": "stream",
     "text": [
      "25\n"
     ]
    }
   ],
   "execution_count": 5
  },
  {
   "metadata": {
    "ExecuteTime": {
     "end_time": "2025-10-13T18:08:27.744151Z",
     "start_time": "2025-10-13T18:08:27.729549Z"
    }
   },
   "cell_type": "code",
   "source": [
    "sum_fn = lambda a, b : a + b\n",
    "mult_fn = lambda a, b : a * b\n",
    "\n",
    "def calc(op, a, b):\n",
    "    return op(a, b)\n",
    "\n",
    "print(calc(sum_fn, 5, 2))\n",
    "print(calc(mult_fn, 5, 2))"
   ],
   "id": "2ac5dc43d4d1925d",
   "outputs": [
    {
     "name": "stdout",
     "output_type": "stream",
     "text": [
      "7\n",
      "10\n"
     ]
    }
   ],
   "execution_count": 7
  },
  {
   "metadata": {
    "ExecuteTime": {
     "end_time": "2025-10-13T18:16:02.283168Z",
     "start_time": "2025-10-13T18:16:02.271718Z"
    }
   },
   "cell_type": "code",
   "source": [
    "def divide(a, b) -> int | None:\n",
    "    try:\n",
    "        a = int(a)\n",
    "        b = int(b)\n",
    "        return a // b\n",
    "    except Exception as e:\n",
    "        print(f\"problems: {e}\")\n",
    "        return None\n",
    "\n",
    "print(divide(5, 1))\n",
    "print(divide(5, \"a\"))\n",
    "print(divide(5, 0))"
   ],
   "id": "e5020afa4fa95f11",
   "outputs": [
    {
     "name": "stdout",
     "output_type": "stream",
     "text": [
      "5\n",
      "problems: invalid literal for int() with base 10: 'a'\n",
      "None\n",
      "problems: integer division or modulo by zero\n",
      "None\n"
     ]
    }
   ],
   "execution_count": 15
  },
  {
   "metadata": {
    "ExecuteTime": {
     "end_time": "2025-10-13T18:25:41.321466Z",
     "start_time": "2025-10-13T18:25:41.313350Z"
    }
   },
   "cell_type": "code",
   "source": [
    "def read_file(filename: str):\n",
    "    try:\n",
    "        with open(filename, \"r\") as file:\n",
    "            content = file.read()\n",
    "            print(content)\n",
    "            return content\n",
    "    except FileNotFoundError:\n",
    "        print(\"File not found\")\n",
    "\n",
    "read_file(\"data.txt\")\n"
   ],
   "id": "833518d25a402c60",
   "outputs": [
    {
     "name": "stdout",
     "output_type": "stream",
     "text": [
      "'Hello World'\n"
     ]
    },
    {
     "data": {
      "text/plain": [
       "\"'Hello World'\""
      ]
     },
     "execution_count": 18,
     "metadata": {},
     "output_type": "execute_result"
    }
   ],
   "execution_count": 18
  },
  {
   "metadata": {
    "ExecuteTime": {
     "end_time": "2025-10-14T05:46:11.046101Z",
     "start_time": "2025-10-14T05:46:11.035756Z"
    }
   },
   "cell_type": "code",
   "source": [
    "import traceback\n",
    "\n",
    "buffer: list[str] = list() # a simple buffer to mimic IDE/jupyter behavior, \"buffer.append\" represents a print\n",
    "\n",
    "def try_test():\n",
    "    try:\n",
    "        buffer.append(\"1. python runs code inside try block\")\n",
    "        buffer.append(\" - we are going to raise an exception\")\n",
    "        raise Exception(\"Error\")\n",
    "    except Exception as e:\n",
    "        buffer.append(\"2. python deals with the exception block, if any\")\n",
    "        buffer.append(\" - we are going to \\\"log\\\" and let the exception propagate\")\n",
    "        raise e\n",
    "    finally:\n",
    "        buffer.append(\"3. python always runs the finally block (used to close resources gracefully?)\")\n",
    "        buffer.append(\" - finally block is always executed, even if an exception was caught/raised, or a return was made\")\n",
    "    buffer.append(\"this code will never be executed, since exception is propagated\")\n",
    "\n",
    "buffer.append(\"we will try to simulate an environment (IDE/jupyter) with this small code\")\n",
    "buffer.append(\" - stack is clean\")\n",
    "try:\n",
    "    buffer.append(\" - stack will increase with a function call, and decrease when function returns (even with exceptions)\")\n",
    "    try_test()\n",
    "except Exception as e:\n",
    "    buffer.append(\"that is exactly the behaviour of an IDE/jupyter, a huge try-except block with a buffer\")\n",
    "    buffer.append(\"when stack is clean, which means there is no more possibility to handle an exception, the \\\"process\\\" will stop. IDE or jupyter should still running though\")\n",
    "    buffer.append(\"so, it deals with the exception, kills the process and prints a traceback\")\n",
    "    buffer.append(\"\\n\" + traceback.format_exc())\n",
    "finally:\n",
    "    buffer.append(\"when it is over, IDE or jupyter flush buffers, and that is why you see messages coming after tracestack messages\")\n",
    "    buffer.append(\"specially if a single exception was not caught before stack is clean\")\n",
    "    buffer.append(\"killing a process happen before a flush (because except runs before finally)\")\n",
    "    for ln in buffer: # buffer is going to be flushed\n",
    "        print(ln)"
   ],
   "id": "524fc6f8e7902f7a",
   "outputs": [
    {
     "name": "stdout",
     "output_type": "stream",
     "text": [
      "we will try to simulate an environment (IDE/jupyter) with this small code\n",
      " - stack is clean\n",
      " - stack will increase with a function call, and decrease when function returns (even with exceptions)\n",
      "1. python runs code inside try block\n",
      " - we are going to raise an exception\n",
      "2. python deals with the exception block, if any\n",
      " - we are going to \"log\" and let the exception propagate\n",
      "3. python always runs the finally block (used to close resources gracefully?)\n",
      " - finally block is always executed, even if an exception was caught/raised, or a return was made\n",
      "that is exactly the behaviour of an IDE/jupyter, a huge try-except block with a buffer\n",
      "when stack is clean, which means there is no more possibility to handle an exception, the \"process\" will stop. IDE or jupyter should still running though\n",
      "so, it deals with the exception, kills the process and prints a traceback\n",
      "\n",
      "Traceback (most recent call last):\n",
      "  File \"/var/folders/0t/tfsqc14j5wbgh9h4s4dytwb00000gq/T/ipykernel_50349/836312824.py\", line 23, in <module>\n",
      "    try_test()\n",
      "  File \"/var/folders/0t/tfsqc14j5wbgh9h4s4dytwb00000gq/T/ipykernel_50349/836312824.py\", line 13, in try_test\n",
      "    raise e\n",
      "  File \"/var/folders/0t/tfsqc14j5wbgh9h4s4dytwb00000gq/T/ipykernel_50349/836312824.py\", line 9, in try_test\n",
      "    raise Exception(\"Error\")\n",
      "Exception: Error\n",
      "\n",
      "when it is over, IDE or jupyter flush buffers, and that is why you see messages coming after tracestack messages\n",
      "specially if a single exception was not caught before stack is clean\n",
      "killing a process happen before a flush (because except runs before finally)\n"
     ]
    }
   ],
   "execution_count": 24
  }
 ],
 "metadata": {
  "kernelspec": {
   "display_name": "Python 3",
   "language": "python",
   "name": "python3"
  },
  "language_info": {
   "codemirror_mode": {
    "name": "ipython",
    "version": 2
   },
   "file_extension": ".py",
   "mimetype": "text/x-python",
   "name": "python",
   "nbconvert_exporter": "python",
   "pygments_lexer": "ipython2",
   "version": "2.7.6"
  }
 },
 "nbformat": 4,
 "nbformat_minor": 5
}
