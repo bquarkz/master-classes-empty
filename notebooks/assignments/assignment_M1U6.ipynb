{
 "cells": [
  {
   "metadata": {},
   "cell_type": "markdown",
   "source": [
    "# Assignment M1 Unit 6 Writing Custom Functions In Python  - Questions\n",
    "\n",
    "1. What will be the output of the following code?\n",
    "```python\n",
    "def my_func():\n",
    "    return \"Welcome\"\n",
    "print(my_func)\n",
    "```\n",
    "\n",
    "    A) Welcome\n",
    "\n",
    "    B) my_func()\n",
    "\n",
    "    C) <function my_func at 0x...>\n",
    "\n",
    "    D) None"
   ],
   "id": "5fe873f81dd33140"
  },
  {
   "metadata": {
    "ExecuteTime": {
     "end_time": "2025-10-15T12:49:48.440167Z",
     "start_time": "2025-10-15T12:49:48.437365Z"
    }
   },
   "cell_type": "code",
   "source": [
    "def my_func():\n",
    "    return \"Welcome\"\n",
    "print(my_func)"
   ],
   "id": "ad602bd756a2d67e",
   "outputs": [
    {
     "name": "stdout",
     "output_type": "stream",
     "text": [
      "<function my_func at 0x107f916c0>\n"
     ]
    }
   ],
   "execution_count": 1
  },
  {
   "metadata": {},
   "cell_type": "markdown",
   "source": "Answer: C) <function my_func at 0x...>",
   "id": "78a64301f54b4298"
  },
  {
   "metadata": {},
   "cell_type": "markdown",
   "source": [
    "2. What is the scope of a variable declared inside a function?\n",
    "\n",
    "    A) Global\n",
    "\n",
    "    B) Static\n",
    "\n",
    "    C) Local\n",
    "\n",
    "    D) Privat"
   ],
   "id": "efc0e2085e0a5ef1"
  },
  {
   "metadata": {},
   "cell_type": "markdown",
   "source": "Answer: C) Local",
   "id": "da4a718541d6c0c6"
  },
  {
   "metadata": {},
   "cell_type": "markdown",
   "source": [
    "3. The following code throws an error. What is wrong and how can it be fixed?\n",
    "```python\n",
    "def add_numbers(a, b):\n",
    "    return a + b\n",
    "result = add_numbers(5)\n",
    "print(result)\n",
    "```\n",
    "\n",
    "    A) It will print 5\n",
    "\n",
    "    B) It will print None\n",
    "\n",
    "    C) It will raise a TypeError because a required argument is missing\n",
    "\n",
    "    D) It will assume b = 0 by default\n"
   ],
   "id": "c2d7822391fe574a"
  },
  {
   "metadata": {},
   "cell_type": "markdown",
   "source": "Answer: C) It will raise a TypeError because a required argument is missing. We can fix it adding another number on: `result = add_numbers(5, 10)`",
   "id": "d9655945a4dbe465"
  },
  {
   "metadata": {},
   "cell_type": "markdown",
   "source": [
    "4. What will be printed by the following code?\n",
    "```python\n",
    "x = 100\n",
    "\n",
    "def demo():\n",
    "    x = 50\n",
    "    print(\"Inside function:\", x)\n",
    "\n",
    "demo()\n",
    "print(\"Outside function:\", x)\n",
    "```\n",
    "\n",
    "A) 100, 100\n",
    "\n",
    "B) 50, 50\n",
    "\n",
    "C) 50, 100\n",
    "\n",
    "D) 100, 50"
   ],
   "id": "16d8549615df67c1"
  },
  {
   "metadata": {
    "ExecuteTime": {
     "end_time": "2025-10-15T12:49:48.452757Z",
     "start_time": "2025-10-15T12:49:48.450200Z"
    }
   },
   "cell_type": "code",
   "source": [
    "x = 100\n",
    "\n",
    "def demo():\n",
    "    x = 50\n",
    "    print(\"Inside function:\", x)\n",
    "\n",
    "demo()\n",
    "print(\"Outside function:\", x)"
   ],
   "id": "5bb1c981d3f0192e",
   "outputs": [
    {
     "name": "stdout",
     "output_type": "stream",
     "text": [
      "Inside function: 50\n",
      "Outside function: 100\n"
     ]
    }
   ],
   "execution_count": 2
  },
  {
   "metadata": {},
   "cell_type": "markdown",
   "source": "Answer: C) 50, 100",
   "id": "6d7ad8c6feb474df"
  },
  {
   "metadata": {},
   "cell_type": "markdown",
   "source": [
    "5. Write a function describe_pet with two parameters animal and name, where animal has a default value of \"Dog\".\n",
    "Call it in the following ways:\n",
    "```python\n",
    "describe_pet(\"Dog\", \"Rocky\")\n",
    "describe_pet(name=\"Tommy\")\n",
    "```"
   ],
   "id": "f691610b3eaf148c"
  },
  {
   "metadata": {
    "ExecuteTime": {
     "end_time": "2025-10-15T12:49:48.463984Z",
     "start_time": "2025-10-15T12:49:48.461812Z"
    }
   },
   "cell_type": "code",
   "source": [
    "def describe_pet(animal: str = \"Dog\", name: str = None):\n",
    "    if name is None:\n",
    "        print(f\"Animal: {animal}, Name: no name\")\n",
    "        return\n",
    "    print(f\"Animal: {animal}, Name: {name}\")\n",
    "\n",
    "describe_pet()\n",
    "describe_pet(\"Dog\", \"Rocky\")\n",
    "describe_pet(name=\"Tommy\")"
   ],
   "id": "e41a03ce0b3f58cf",
   "outputs": [
    {
     "name": "stdout",
     "output_type": "stream",
     "text": [
      "Animal: Dog, Name: no name\n",
      "Animal: Dog, Name: Rocky\n",
      "Animal: Dog, Name: Tommy\n"
     ]
    }
   ],
   "execution_count": 3
  }
 ],
 "metadata": {
  "kernelspec": {
   "display_name": "Python 3",
   "language": "python",
   "name": "python3"
  },
  "language_info": {
   "codemirror_mode": {
    "name": "ipython",
    "version": 2
   },
   "file_extension": ".py",
   "mimetype": "text/x-python",
   "name": "python",
   "nbconvert_exporter": "python",
   "pygments_lexer": "ipython2",
   "version": "2.7.6"
  }
 },
 "nbformat": 4,
 "nbformat_minor": 5
}
