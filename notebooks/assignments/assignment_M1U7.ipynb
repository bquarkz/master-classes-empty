{
 "cells": [
  {
   "metadata": {},
   "cell_type": "markdown",
   "source": "# Assignment M1 Unit 7 Managing Errors and Exceptions in Python- Questions",
   "id": "4466fcec295bb3a2"
  },
  {
   "metadata": {},
   "cell_type": "markdown",
   "source": [
    "1. Which of the following is not a type of error in Python?\n",
    "    a) SyntaxError\n",
    "\n",
    "    b) ZeroDivisionError\n",
    "\n",
    "    c) LogicError\n",
    "\n",
    "    d) ValueError\n"
   ],
   "id": "45ff76f2521bc34c"
  },
  {
   "metadata": {},
   "cell_type": "markdown",
   "source": "Answer: c) LogicError",
   "id": "c85001ae78ceecc5"
  },
  {
   "metadata": {},
   "cell_type": "markdown",
   "source": [
    "2. What will be the output of the following code?\n",
    "```python\n",
    "try:\n",
    "    num = int(\"12.5\")\n",
    "except ValueError:\n",
    "    print(\"Invalid conversion.\")\n",
    "```\n",
    "\n",
    "    a) Invalid conversion.\n",
    "\n",
    "    b) 12.5\n",
    "\n",
    "    c) Error without message\n",
    "\n",
    "    d) None"
   ],
   "id": "f49d1a24b7312da8"
  },
  {
   "metadata": {
    "ExecuteTime": {
     "end_time": "2025-10-15T12:50:28.198403Z",
     "start_time": "2025-10-15T12:50:28.195842Z"
    }
   },
   "cell_type": "code",
   "source": [
    "try:\n",
    "    num = int(\"12.5\")\n",
    "except ValueError:\n",
    "    print(\"Invalid conversion.\")"
   ],
   "id": "86a8958b8d61f877",
   "outputs": [
    {
     "name": "stdout",
     "output_type": "stream",
     "text": [
      "Invalid conversion.\n"
     ]
    }
   ],
   "execution_count": 1
  },
  {
   "metadata": {},
   "cell_type": "markdown",
   "source": "Answer: a) Invalid Conversion.",
   "id": "3a78c5899dffc807"
  },
  {
   "metadata": {},
   "cell_type": "markdown",
   "source": "3. FileNotFoundError occurs when trying to open a non-existent file. True or False ?",
   "id": "659f50bc9c6f71dc"
  },
  {
   "metadata": {},
   "cell_type": "markdown",
   "source": "Answer: Yes, it is True.",
   "id": "23623006290df6f4"
  },
  {
   "metadata": {},
   "cell_type": "markdown",
   "source": [
    "4. Which clause is used in Python to execute code only if no exception occurs?\n",
    "\n",
    "    a) except\n",
    "\n",
    "    b) else\n",
    "\n",
    "    c) finally\n",
    "\n",
    "    d) try"
   ],
   "id": "13587d9f1454a540"
  },
  {
   "metadata": {},
   "cell_type": "markdown",
   "source": "Answer: d) try",
   "id": "72f9cbb06cb73314"
  },
  {
   "metadata": {},
   "cell_type": "markdown",
   "source": [
    "5. Which of the following exceptions is raised when trying to access a list index that does not exist?\n",
    "\n",
    "    a) ValueError\n",
    "\n",
    "    b) IndexError\n",
    "\n",
    "    c) KeyError\n",
    "\n",
    "    d) TypeError"
   ],
   "id": "65ee2fc9b552c4b6"
  },
  {
   "metadata": {},
   "cell_type": "markdown",
   "source": "Answer: b) IndexError",
   "id": "bbaf77eb2659d3e6"
  },
  {
   "metadata": {},
   "cell_type": "markdown",
   "source": "6. The ______ keyword is used to run cleanup code regardless of whether an exception occurred or not.",
   "id": "1f000878c7160ceb"
  },
  {
   "metadata": {},
   "cell_type": "markdown",
   "source": "Answer: finally",
   "id": "9ec42fbeed2033bb"
  }
 ],
 "metadata": {
  "kernelspec": {
   "display_name": "Python 3",
   "language": "python",
   "name": "python3"
  },
  "language_info": {
   "codemirror_mode": {
    "name": "ipython",
    "version": 2
   },
   "file_extension": ".py",
   "mimetype": "text/x-python",
   "name": "python",
   "nbconvert_exporter": "python",
   "pygments_lexer": "ipython2",
   "version": "2.7.6"
  }
 },
 "nbformat": 4,
 "nbformat_minor": 5
}
