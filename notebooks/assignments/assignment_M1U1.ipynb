{
 "cells": [
  {
   "metadata": {},
   "cell_type": "markdown",
   "source": "# Assignment M1 Unit 1 Introduction to Python Programming – Questions",
   "id": "825b786e954e7b7"
  },
  {
   "metadata": {},
   "cell_type": "markdown",
   "source": [
    "1.\n",
    "```python\n",
    "a = 2\n",
    "print(A)\n",
    "```\n",
    "What will be the output of the above code?\n",
    "\n",
    "    a) 2\n",
    "\n",
    "    b) A\n",
    "\n",
    "    c) Error: name 'A' is not defined\n",
    "\n",
    "    d) None"
   ],
   "id": "bb13489fce57e231"
  },
  {
   "metadata": {},
   "cell_type": "markdown",
   "source": "Answer: c) Error: name 'A' is not defined",
   "id": "5329220e946fce64"
  },
  {
   "metadata": {},
   "cell_type": "markdown",
   "source": [
    "2.\n",
    "```python\n",
    "x = 10\n",
    "y = 5\n",
    "print(x + y * 2)\n",
    "```\n",
    "What is the output?\n",
    "\n",
    "    a) 30\n",
    "\n",
    "    b) 20\n",
    "\n",
    "    c) 25\n",
    "\n",
    "    d) 15"
   ],
   "id": "3ab3a9b632ac824b"
  },
  {
   "metadata": {
    "ExecuteTime": {
     "end_time": "2025-10-13T13:47:54.481976Z",
     "start_time": "2025-10-13T13:47:54.478953Z"
    }
   },
   "cell_type": "code",
   "source": [
    "x = 10\n",
    "y = 5\n",
    "print(x + y * 2)"
   ],
   "id": "f08c9d6daddc7fcf",
   "outputs": [
    {
     "name": "stdout",
     "output_type": "stream",
     "text": [
      "20\n"
     ]
    }
   ],
   "execution_count": 1
  },
  {
   "metadata": {},
   "cell_type": "markdown",
   "source": "Answer: b) 20",
   "id": "401b7aa636a253fb"
  },
  {
   "metadata": {},
   "cell_type": "markdown",
   "source": [
    "3.\n",
    "```python\n",
    "x = \"10\"\n",
    "y = 5\n",
    "print(x + y)\n",
    "```\n",
    "What will happen?\n",
    "\n",
    "    a) 105\n",
    "\n",
    "    b) 15\n",
    "\n",
    "    c) Error: cannot concatenate str and int\n",
    "\n",
    "    d) x5"
   ],
   "id": "a0345e3c2362fd41"
  },
  {
   "metadata": {},
   "cell_type": "markdown",
   "source": "Answer: c) Error: cannot concatenate str and int",
   "id": "4a14d55ece66bfa"
  },
  {
   "metadata": {},
   "cell_type": "markdown",
   "source": [
    "4. Which of the following statements correctly prints: `Welcome to Python`?\n",
    "\n",
    "    a) print Welcome to Python\n",
    "\n",
    "    b) print(\"Welcome to Python\")\n",
    "\n",
    "    c) echo(\"Welcome to Python\")\n",
    "\n",
    "    d) printf(\"Welcome to Python\")"
   ],
   "id": "772121ebab92f75a"
  },
  {
   "metadata": {
    "ExecuteTime": {
     "end_time": "2025-10-13T13:47:54.489217Z",
     "start_time": "2025-10-13T13:47:54.487354Z"
    }
   },
   "cell_type": "code",
   "source": "print(\"Welcome to Python\")",
   "id": "506d1fb85cb5f924",
   "outputs": [
    {
     "name": "stdout",
     "output_type": "stream",
     "text": [
      "Welcome to Python\n"
     ]
    }
   ],
   "execution_count": 2
  },
  {
   "metadata": {},
   "cell_type": "markdown",
   "source": "Answer: b) print(\"Welcome to Python\")",
   "id": "7ec334617d3163b9"
  },
  {
   "metadata": {},
   "cell_type": "markdown",
   "source": [
    "5. Which of the following is NOT true about Python?\n",
    "\n",
    "    a) It is case-sensitive\n",
    "\n",
    "    b) It runs only on Windows Operating Systems\n",
    "\n",
    "    c) It is object-oriented"
   ],
   "id": "f4f519efb40950d3"
  },
  {
   "metadata": {},
   "cell_type": "markdown",
   "source": "Answer: b) It runs only on Windows Operating Systems",
   "id": "e8e07b07f7dd71c8"
  },
  {
   "metadata": {},
   "cell_type": "markdown",
   "source": [
    "6.\n",
    "```python\n",
    "x = 5\n",
    "y = 3\n",
    "print(\"x =\", x, \"and y =\", y)\n",
    "```\n",
    "What will be the output?\n",
    "\n",
    "    a) x = 5 and y = 3\n",
    "\n",
    "    b) x = 5, y = 3\n",
    "\n",
    "    c) x = 5 & y = 3\n",
    "\n",
    "    d) Error"
   ],
   "id": "d53acd6326417392"
  },
  {
   "metadata": {
    "ExecuteTime": {
     "end_time": "2025-10-13T13:47:54.500074Z",
     "start_time": "2025-10-13T13:47:54.497960Z"
    }
   },
   "cell_type": "code",
   "source": [
    "x = 5\n",
    "y = 3\n",
    "print(\"x =\", x, \"and y =\", y)"
   ],
   "id": "b41059791d12cb06",
   "outputs": [
    {
     "name": "stdout",
     "output_type": "stream",
     "text": [
      "x = 5 and y = 3\n"
     ]
    }
   ],
   "execution_count": 3
  },
  {
   "metadata": {},
   "cell_type": "markdown",
   "source": "Answer: a) x = 5 and y = 3",
   "id": "fb2939d8565f4cd1"
  },
  {
   "metadata": {},
   "cell_type": "markdown",
   "source": "",
   "id": "9c6d16ac955ea13b"
  }
 ],
 "metadata": {
  "kernelspec": {
   "display_name": "Python 3",
   "language": "python",
   "name": "python3"
  },
  "language_info": {
   "codemirror_mode": {
    "name": "ipython",
    "version": 2
   },
   "file_extension": ".py",
   "mimetype": "text/x-python",
   "name": "python",
   "nbconvert_exporter": "python",
   "pygments_lexer": "ipython2",
   "version": "2.7.6"
  }
 },
 "nbformat": 4,
 "nbformat_minor": 5
}
