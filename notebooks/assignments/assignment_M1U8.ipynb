{
 "cells": [
  {
   "metadata": {},
   "cell_type": "markdown",
   "source": [
    "# Assignment M1 Unit 8 Using Decorators for Function Enhancement– Questions\n",
    "\n",
    "1. Which of the following best describes a decorator in Python?\n",
    "\n",
    "    a) A function that modifies variables in global scope\n",
    "\n",
    "    b) A function that takes another function as input and returns a modified version of it\n",
    "\n",
    "    c) A built-in Python class for logging\n",
    "\n",
    "    d) A special type of loop\n",
    "\n"
   ],
   "id": "8cfddcc35b6e12c2"
  },
  {
   "metadata": {},
   "cell_type": "markdown",
   "source": "Answer: b) A function that takes another function as input and returns a modified version of it",
   "id": "da803fcfbbe225c7"
  },
  {
   "metadata": {},
   "cell_type": "markdown",
   "source": [
    "2. In the syntax:\n",
    "```python\n",
    "@my_decorator\n",
    "def my_function():\n",
    "    pass\n",
    "```\n",
    "\n",
    "The line @my_decorator is equivalent to:\n",
    "\n",
    "    a) my_function(my_decorator)\n",
    "\n",
    "    b) my_decorator(my_function)\n",
    "\n",
    "    c) my_function = my_function(my_decorator)\n",
    "\n",
    "    d) my_function += my_decorator"
   ],
   "id": "a2795814f8847a0b"
  },
  {
   "metadata": {},
   "cell_type": "markdown",
   "source": [
    "Answer: b) my_decorator(my_function)\n",
    "However, a decorator will always assign the decorated function, something like: `my_function = my_decorator(my_function)`"
   ],
   "id": "1aabb080aa35b9f1"
  },
  {
   "metadata": {},
   "cell_type": "markdown",
   "source": "3. Decorators can be reused with multiple functions. True or False?",
   "id": "28ab31187fedb667"
  },
  {
   "metadata": {},
   "cell_type": "markdown",
   "source": "Answer: Yes, they can. However, we have to pay attention to the number of arguments, or we could also use param unpacking (*args, **kwargs) to avoid any constraints about the number of arguments.",
   "id": "1f636e2ead2889df"
  },
  {
   "metadata": {
    "ExecuteTime": {
     "end_time": "2025-10-22T12:43:42.450625Z",
     "start_time": "2025-10-22T12:43:42.447508Z"
    }
   },
   "cell_type": "code",
   "source": [
    "def validate_age(func):\n",
    "    def wrapper(age):\n",
    "        if age < 18:\n",
    "            return \"Too young\"\n",
    "        else:\n",
    "            return func(age)\n",
    "    return wrapper\n",
    "\n",
    "@validate_age\n",
    "def vote(age):\n",
    "    return \"Eligible to vote\"\n",
    "\n",
    "print(vote(16))\n",
    "print(vote(20))"
   ],
   "id": "cbe3fb75dee82df9",
   "outputs": [
    {
     "name": "stdout",
     "output_type": "stream",
     "text": [
      "Too young\n",
      "Eligible to vote\n"
     ]
    }
   ],
   "execution_count": 1
  },
  {
   "metadata": {},
   "cell_type": "markdown",
   "source": [
    "4. What will be printed?\n",
    "\n",
    "    a) Too young then Eligible to vote\n",
    "\n",
    "    b) Eligible to vote then Too young\n",
    "\n",
    "    c) Both Eligible to vote\n",
    "\n",
    "    d) Error"
   ],
   "id": "839ac99fab6757c0"
  },
  {
   "metadata": {},
   "cell_type": "markdown",
   "source": "Answer: a) Too young then Eligible to vote",
   "id": "933ba11aad7d3d18"
  },
  {
   "metadata": {},
   "cell_type": "markdown",
   "source": [
    "5. Which of the following is NOT a common use case of Python decorators?\n",
    "\n",
    "    a) Logging function calls\n",
    "\n",
    "    b) Validating input data\n",
    "\n",
    "    c) Measuring execution time\n",
    "\n",
    "    d) Sorting a list in ascending order"
   ],
   "id": "88512727908c4cbd"
  },
  {
   "metadata": {},
   "cell_type": "markdown",
   "source": "Answer: d) Sorting a list in ascending order - acting directly over a data set is not a common use case of a decorator.",
   "id": "e10c0dfa75d5c8b8"
  }
 ],
 "metadata": {
  "kernelspec": {
   "display_name": "Python 3",
   "language": "python",
   "name": "python3"
  },
  "language_info": {
   "codemirror_mode": {
    "name": "ipython",
    "version": 2
   },
   "file_extension": ".py",
   "mimetype": "text/x-python",
   "name": "python",
   "nbconvert_exporter": "python",
   "pygments_lexer": "ipython2",
   "version": "2.7.6"
  }
 },
 "nbformat": 4,
 "nbformat_minor": 5
}
