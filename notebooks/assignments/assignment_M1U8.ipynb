{
 "cells": [
  {
   "metadata": {},
   "cell_type": "markdown",
   "source": [
    "# Assignment M1 Unit 8 Using Decorators for Function Enhancement– Questions\n",
    "\n",
    "1. Which of the following best describes a decorator in Python?\n",
    "\n",
    "    a) A function that modifies variables in global scope\n",
    "\n",
    "    b) A function that takes another function as input and returns a modified version of it\n",
    "\n",
    "    c) A built-in Python class for logging\n",
    "\n",
    "    d) A special type of loop\n",
    "\n"
   ],
   "id": "8cfddcc35b6e12c2"
  },
  {
   "metadata": {},
   "cell_type": "markdown",
   "source": [
    "2. In the syntax:\n",
    "```python\n",
    "@my_decorator\n",
    "def my_function():\n",
    "    pass\n",
    "```\n",
    "\n",
    "The line @my_decorator is equivalent to:\n",
    "\n",
    "    a) my_function(my_decorator)\n",
    "\n",
    "    b) my_decorator(my_function)\n",
    "\n",
    "    c) my_function = my_function(my_decorator)\n",
    "\n",
    "    d) my_function += my_decorator"
   ],
   "id": "a2795814f8847a0b"
  },
  {
   "metadata": {},
   "cell_type": "markdown",
   "source": "3. Decorators can be reused with multiple functions. True or False?",
   "id": "28ab31187fedb667"
  },
  {
   "metadata": {},
   "cell_type": "markdown",
   "source": [
    "4. What will be printed?\n",
    "\n",
    "    a) Too young then Eligible to vote\n",
    "\n",
    "    b) Eligible to vote then Too young\n",
    "\n",
    "    c) Both Eligible to vote\n",
    "\n",
    "    d) Error"
   ],
   "id": "839ac99fab6757c0"
  },
  {
   "metadata": {},
   "cell_type": "markdown",
   "source": [
    "\n",
    "5. Which of the following is NOT a common use case of Python decorators?\n",
    "    a) Logging function calls\n",
    "\n",
    "    b) Validating input data\n",
    "\n",
    "    c) Measuring execution time\n",
    "\n",
    "    d) Sorting a list in ascending order"
   ],
   "id": "88512727908c4cbd"
  }
 ],
 "metadata": {
  "kernelspec": {
   "display_name": "Python 3",
   "language": "python",
   "name": "python3"
  },
  "language_info": {
   "codemirror_mode": {
    "name": "ipython",
    "version": 2
   },
   "file_extension": ".py",
   "mimetype": "text/x-python",
   "name": "python",
   "nbconvert_exporter": "python",
   "pygments_lexer": "ipython2",
   "version": "2.7.6"
  }
 },
 "nbformat": 4,
 "nbformat_minor": 5
}
