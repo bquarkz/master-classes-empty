{
 "cells": [
  {
   "metadata": {},
   "cell_type": "markdown",
   "source": "# Assignment M1 Unit 10 Using Lambda and Map Functions for Functional Programming- Questions",
   "id": "fb0b01e4fc684fab"
  },
  {
   "metadata": {},
   "cell_type": "markdown",
   "source": [
    "1. What will be the output of the following Python code?\n",
    "\n",
    "```python\n",
    "words = [\"apple\", \"banana\", \"cherry\"]\n",
    "initial_chars = list(map(lambda x: x[0], words))\n",
    "print(initial_chars)\n",
    "```\n",
    "\n",
    "    a) [\"a\", \"b\", \"c\"]\n",
    "\n",
    "    b) [\"apple\", \"banana\", \"cherry\"]\n",
    "\n",
    "    c) [\"p\", \"n\", \"e\"]\n",
    "\n",
    "    d) Error"
   ],
   "id": "538fe468211a842a"
  },
  {
   "metadata": {},
   "cell_type": "markdown",
   "source": "Answer: a) [\"a\", \"b\", \"c\"]",
   "id": "9ffd2033f9c20acd"
  },
  {
   "metadata": {
    "ExecuteTime": {
     "end_time": "2025-10-22T13:47:30.882368Z",
     "start_time": "2025-10-22T13:47:30.879288Z"
    }
   },
   "cell_type": "code",
   "source": [
    "words = [\"apple\", \"banana\", \"cherry\"]\n",
    "initial_chars = list(map(lambda x: x[0], words))\n",
    "print(initial_chars)"
   ],
   "id": "d77097bcfd93869c",
   "outputs": [
    {
     "name": "stdout",
     "output_type": "stream",
     "text": [
      "['a', 'b', 'c']\n"
     ]
    }
   ],
   "execution_count": 6
  },
  {
   "metadata": {},
   "cell_type": "markdown",
   "source": [
    "2. What is the output?\n",
    "```python\n",
    "add = lambda a, b=10: a + b\n",
    "print(add(5))\n",
    "```\n",
    "    a) 5\n",
    "\n",
    "    b) 10\n",
    "\n",
    "    c) 15\n",
    "\n",
    "    d) Error\n"
   ],
   "id": "a926503de198c949"
  },
  {
   "metadata": {},
   "cell_type": "markdown",
   "source": "Answer: c) 15",
   "id": "8762b8ad0b6f2781"
  },
  {
   "metadata": {
    "ExecuteTime": {
     "end_time": "2025-10-22T13:47:30.917645Z",
     "start_time": "2025-10-22T13:47:30.915125Z"
    }
   },
   "cell_type": "code",
   "source": [
    "add = lambda a, b=10: a + b\n",
    "print(add(5))"
   ],
   "id": "30de541bcb7dfdff",
   "outputs": [
    {
     "name": "stdout",
     "output_type": "stream",
     "text": [
      "15\n"
     ]
    }
   ],
   "execution_count": 7
  },
  {
   "metadata": {},
   "cell_type": "markdown",
   "source": [
    "3. What will be printed?\n",
    "\n",
    "```python\n",
    "nums = [1, 2, 3]\n",
    "result = list(map(float, nums))\n",
    "print(result)\n",
    "```\n",
    "\n",
    "    a). [1.0,2.0,3.0]\n",
    "\n",
    "    b). [1,2,3]\n",
    "\n",
    "    c). [1.1,2.2,3.3]\n",
    "\n",
    "    d). [10,20,30]"
   ],
   "id": "368665b678765477"
  },
  {
   "metadata": {},
   "cell_type": "markdown",
   "source": "Answer: a). [1.0,2.0,3.0]",
   "id": "f4feea79ef2eb47c"
  },
  {
   "metadata": {
    "ExecuteTime": {
     "end_time": "2025-10-22T13:47:30.931210Z",
     "start_time": "2025-10-22T13:47:30.928905Z"
    }
   },
   "cell_type": "code",
   "source": [
    "nums = [1, 2, 3]\n",
    "result = list(map(float, nums))\n",
    "print(result)"
   ],
   "id": "8af166c35f99dd9b",
   "outputs": [
    {
     "name": "stdout",
     "output_type": "stream",
     "text": [
      "[1.0, 2.0, 3.0]\n"
     ]
    }
   ],
   "execution_count": 8
  },
  {
   "metadata": {},
   "cell_type": "markdown",
   "source": " 4. Lambda functions can contain multiple statements. True or False?",
   "id": "fff3fab535e2808b"
  },
  {
   "metadata": {},
   "cell_type": "markdown",
   "source": "Answer: False",
   "id": "45b38e775a6e0984"
  },
  {
   "metadata": {},
   "cell_type": "markdown",
   "source": [
    "5. Which is the correct syntax for a lambda function that multiplies two numbers?\n",
    "\n",
    "    a) lambda x, y: return x * y\n",
    "\n",
    "    b) lambda x, y: x * y\n",
    "\n",
    "    c) lambda(x, y): x * y\n",
    "\n",
    "    d) lambda: x, y -> x * y\n"
   ],
   "id": "18254a8d1a33fb16"
  },
  {
   "metadata": {},
   "cell_type": "markdown",
   "source": "Answer: b) lambda x, y: x * y",
   "id": "4eebcc77b170d605"
  },
  {
   "metadata": {
    "ExecuteTime": {
     "end_time": "2025-10-22T13:47:30.945520Z",
     "start_time": "2025-10-22T13:47:30.943700Z"
    }
   },
   "cell_type": "code",
   "source": [
    "l = lambda x, y: x * y\n",
    "print(l(2, 3))"
   ],
   "id": "97e377cfec043a75",
   "outputs": [
    {
     "name": "stdout",
     "output_type": "stream",
     "text": [
      "6\n"
     ]
    }
   ],
   "execution_count": 9
  },
  {
   "metadata": {},
   "cell_type": "markdown",
   "source": [
    "6. What will be the output of the following Python code?\n",
    "\n",
    "```python\n",
    "a = [2, 4, 6]\n",
    "b = [1, 3, 5]\n",
    "sum_list = list(map(lambda x, y: x + y, a, b))\n",
    "print(sum_list)\n",
    "```\n",
    "\n",
    "    a) [2, 4, 6, 1, 3, 5]\n",
    "\n",
    "    b) [3, 7, 11]\n",
    "\n",
    "    c) [2, 3, 4, 5, 6, 7]\n",
    "\n",
    "    d) Error"
   ],
   "id": "4295f19c243c2916"
  },
  {
   "metadata": {},
   "cell_type": "markdown",
   "source": "Answer: b) [3, 7, 11]",
   "id": "95042aa7602febd6"
  },
  {
   "metadata": {
    "ExecuteTime": {
     "end_time": "2025-10-22T13:47:30.956846Z",
     "start_time": "2025-10-22T13:47:30.954706Z"
    }
   },
   "cell_type": "code",
   "source": [
    "a = [2, 4, 6]\n",
    "b = [1, 3, 5]\n",
    "sum_list = list(map(lambda x, y: x + y, a, b))\n",
    "print(sum_list)"
   ],
   "id": "45f14cd8a49cbfdc",
   "outputs": [
    {
     "name": "stdout",
     "output_type": "stream",
     "text": [
      "[3, 7, 11]\n"
     ]
    }
   ],
   "execution_count": 10
  }
 ],
 "metadata": {
  "kernelspec": {
   "display_name": "Python 3",
   "language": "python",
   "name": "python3"
  },
  "language_info": {
   "codemirror_mode": {
    "name": "ipython",
    "version": 2
   },
   "file_extension": ".py",
   "mimetype": "text/x-python",
   "name": "python",
   "nbconvert_exporter": "python",
   "pygments_lexer": "ipython2",
   "version": "2.7.6"
  }
 },
 "nbformat": 4,
 "nbformat_minor": 5
}
