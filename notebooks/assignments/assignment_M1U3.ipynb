{
 "cells": [
  {
   "metadata": {},
   "cell_type": "markdown",
   "source": "# Assignment M1 Unit 3 Understanding Data Types in Python Part 2 - Questions",
   "id": "ef80433326763019"
  },
  {
   "metadata": {},
   "cell_type": "markdown",
   "source": [
    "1. Which of the following is NOT a characteristic of a Python list?\n",
    "\n",
    "    a) Can store mixed data types\n",
    "\n",
    "    b) Mutable in nature\n",
    "\n",
    "    c) Enclosed in parentheses ( )\n",
    "\n",
    "    d) Supports indexing"
   ],
   "id": "a75fe16d08a3977b"
  },
  {
   "metadata": {},
   "cell_type": "markdown",
   "source": "Answer: c) lists are enclosed in: []. Tuples are enclosed in ().",
   "id": "4093e2d6961b39d3"
  },
  {
   "metadata": {},
   "cell_type": "markdown",
   "source": [
    "2. What will be the output of:\n",
    "```python\n",
    "my_list = [3, 6, 9]\n",
    "my_list.insert(1, 12)\n",
    "print(my_list)\n",
    "```\n",
    "\n",
    "    a) [3, 6, 12, 9]\n",
    "\n",
    "    b) [3, 12, 6, 9]\n",
    "\n",
    "    c) [3, 6, 9, 12]\n",
    "\n",
    "    d) [12, 3, 6, 9]"
   ],
   "id": "cfa7eacd0a5a66e",
   "attachments": {
    "30e34195-473e-41c8-bf97-1e08ed0a29bd.png": {
     "image/png": "[encoded data removed]"
    }
   }
  },
  {
   "metadata": {
    "ExecuteTime": {
     "end_time": "2025-10-13T13:49:00.155572Z",
     "start_time": "2025-10-13T13:49:00.106516Z"
    }
   },
   "cell_type": "code",
   "source": [
    "my_list = [3, 6, 9]\n",
    "my_list.insert(1, 12)\n",
    "print(my_list)"
   ],
   "id": "714cd24e64092ccc",
   "outputs": [
    {
     "name": "stdout",
     "output_type": "stream",
     "text": [
      "[3, 12, 6, 9]\n"
     ]
    }
   ],
   "execution_count": 1
  },
  {
   "metadata": {},
   "cell_type": "markdown",
   "source": "Answer: b [3, 12, 6, 9]",
   "id": "b5a9922fd9b298f5"
  },
  {
   "metadata": {},
   "cell_type": "markdown",
   "source": [
    "3. info = {\"name\": \"Alice\", \"city\": \"Pune\"}\n",
    "\n",
    "Add \"age\": 25\n",
    "\n",
    "Change \"city\" to \"Mumbai\"\n",
    "\n",
    "Remove \"name\"\n",
    "\n",
    "Print the dictionary"
   ],
   "id": "d56002d48b5f78df"
  },
  {
   "metadata": {
    "ExecuteTime": {
     "end_time": "2025-10-13T13:49:00.163183Z",
     "start_time": "2025-10-13T13:49:00.160968Z"
    }
   },
   "cell_type": "code",
   "source": [
    "info = {\"name\": \"Alice\", \"city\": \"Pune\"}\n",
    "info[\"age\"] = 25\n",
    "info[\"city\"] = \"Mumbai\"\n",
    "print(info.pop(\"name\"))\n",
    "print(info)"
   ],
   "id": "3d970d3aa60c72f9",
   "outputs": [
    {
     "name": "stdout",
     "output_type": "stream",
     "text": [
      "Alice\n",
      "{'city': 'Mumbai', 'age': 25}\n"
     ]
    }
   ],
   "execution_count": 2
  },
  {
   "metadata": {},
   "cell_type": "markdown",
   "source": [
    "4. What will be the output of the following code?\n",
    "\n",
    " ```python\n",
    "t = (1, 2, 3)\n",
    "print(t * 2)\n",
    "```\n",
    "\n",
    "    a) (1, 2, 3, 1, 2, 3)\n",
    "\n",
    "    b) (2, 4, 6)\n",
    "\n",
    "    c) (1, 2, 3, 3, 2, 1)\n",
    "\n",
    "    d) Error"
   ],
   "id": "87ea73f48fb775f4"
  },
  {
   "metadata": {
    "ExecuteTime": {
     "end_time": "2025-10-13T13:49:00.179999Z",
     "start_time": "2025-10-13T13:49:00.177750Z"
    }
   },
   "cell_type": "code",
   "source": [
    "t = (1, 2, 3)\n",
    "print(t * 2)"
   ],
   "id": "bbd9dd12513f4bb2",
   "outputs": [
    {
     "name": "stdout",
     "output_type": "stream",
     "text": [
      "(1, 2, 3, 1, 2, 3)\n"
     ]
    }
   ],
   "execution_count": 3
  },
  {
   "metadata": {},
   "cell_type": "markdown",
   "source": "Answer: a (1, 2, 3, 1, 2, 3)",
   "id": "72e410a28967587f"
  },
  {
   "metadata": {},
   "cell_type": "markdown",
   "source": [
    "5. In a dictionary, key-value pairs are separated by:\n",
    "\n",
    "    a) , (comma)\n",
    "\n",
    "    b) : (colon)\n",
    "\n",
    "    c) ; (semicolon)\n",
    "\n",
    "    d) = (equal sign)"
   ],
   "id": "d89a41d77965ee2a"
  },
  {
   "metadata": {
    "ExecuteTime": {
     "end_time": "2025-10-13T13:49:00.189694Z",
     "start_time": "2025-10-13T13:49:00.187706Z"
    }
   },
   "cell_type": "code",
   "source": [
    "dict = {\"key\": \"value\"}\n",
    "print(dict)"
   ],
   "id": "dfea173b2fde07d0",
   "outputs": [
    {
     "name": "stdout",
     "output_type": "stream",
     "text": [
      "{'key': 'value'}\n"
     ]
    }
   ],
   "execution_count": 4
  },
  {
   "metadata": {},
   "cell_type": "markdown",
   "source": "Answer: b) : (colon)",
   "id": "3982e3922e2c1d9b"
  },
  {
   "metadata": {},
   "cell_type": "markdown",
   "source": [
    "6. Which method is used to insert an item at a specific position in a list?\n",
    "\n",
    "    a) add()\n",
    "\n",
    "    b) append()\n",
    "\n",
    "    c) insert()\n",
    "\n",
    "    d) extend()"
   ],
   "id": "67e293ee78103a42"
  },
  {
   "metadata": {
    "ExecuteTime": {
     "end_time": "2025-10-13T13:49:00.196859Z",
     "start_time": "2025-10-13T13:49:00.194923Z"
    }
   },
   "cell_type": "code",
   "source": [
    "l = list([1, 2, 3])\n",
    "l.insert(0, 1000)\n",
    "print(l)"
   ],
   "id": "4ad315aae9154d08",
   "outputs": [
    {
     "name": "stdout",
     "output_type": "stream",
     "text": [
      "[1000, 1, 2, 3]\n"
     ]
    }
   ],
   "execution_count": 5
  },
  {
   "metadata": {},
   "cell_type": "markdown",
   "source": "c) insert()",
   "id": "d63a2b7226dafca1"
  }
 ],
 "metadata": {
  "kernelspec": {
   "display_name": "Master Classes (Python3.12)",
   "language": "python",
   "name": "master-classes"
  },
  "language_info": {
   "codemirror_mode": {
    "name": "ipython",
    "version": 2
   },
   "file_extension": ".py",
   "mimetype": "text/x-python",
   "name": "python",
   "nbconvert_exporter": "python",
   "pygments_lexer": "ipython2",
   "version": "2.7.6"
  }
 },
 "nbformat": 4,
 "nbformat_minor": 5
}
