{
 "cells": [
  {
   "metadata": {},
   "cell_type": "markdown",
   "source": "# Assignment M1 Unit 9 Handling Dates and Times in Python - Questions",
   "id": "34f33950429bd534"
  },
  {
   "metadata": {},
   "cell_type": "markdown",
   "source": [
    "1. Which function converts a string into a datetime object?\n",
    "\n",
    "    a) datetime.now()\n",
    "\n",
    "    b) datetime.strptime()\n",
    "\n",
    "    c) datetime.strftime()\n",
    "\n",
    "    d) datetime.today()"
   ],
   "id": "700ccd5165b47b7b"
  },
  {
   "metadata": {},
   "cell_type": "markdown",
   "source": "Answer: b) datetime.strptime()",
   "id": "d4affd389a206d5b"
  },
  {
   "metadata": {
    "ExecuteTime": {
     "end_time": "2025-10-22T13:47:34.982773Z",
     "start_time": "2025-10-22T13:47:34.975350Z"
    }
   },
   "cell_type": "code",
   "source": [
    "from datetime import datetime\n",
    "d = datetime.strptime(\"2025-08-12\", \"%Y-%m-%d\")\n",
    "print(d)\n",
    "print(type(d))\n"
   ],
   "id": "66c344501e4fdfb2",
   "outputs": [
    {
     "name": "stdout",
     "output_type": "stream",
     "text": [
      "2025-08-12 00:00:00\n",
      "<class 'datetime.datetime'>\n"
     ]
    }
   ],
   "execution_count": 48
  },
  {
   "metadata": {},
   "cell_type": "markdown",
   "source": [
    "2. In strftime() formatting, what does %Y represent?\n",
    "\n",
    "    a) Day of the week\n",
    "\n",
    "    b) Month name\n",
    "\n",
    "    c) 4-digit year\n",
    "\n",
    "    d) 2-digit year\n"
   ],
   "id": "93d831bfbe65acf7"
  },
  {
   "metadata": {},
   "cell_type": "markdown",
   "source": "Answer: c) 4-digit year",
   "id": "9b13edcea48e7e0a"
  },
  {
   "metadata": {},
   "cell_type": "markdown",
   "source": "3. Write Python code to convert the string \"2025-08-12\" into a datetime object and print the month.",
   "id": "d1f2151bd44e6601"
  },
  {
   "metadata": {
    "ExecuteTime": {
     "end_time": "2025-10-22T13:47:34.993250Z",
     "start_time": "2025-10-22T13:47:34.990003Z"
    }
   },
   "cell_type": "code",
   "source": [
    "from datetime import datetime\n",
    "def str_to_datetime(str_date: str):\n",
    "    my_date = datetime.strptime(str_date, \"%Y-%m-%d\")\n",
    "    print(my_date.month)\n",
    "\n",
    "str_to_datetime(\"2025-08-12\")"
   ],
   "id": "6dd0aa1160e382a3",
   "outputs": [
    {
     "name": "stdout",
     "output_type": "stream",
     "text": [
      "8\n"
     ]
    }
   ],
   "execution_count": 49
  },
  {
   "metadata": {},
   "cell_type": "markdown",
   "source": "4. Given a Pandas datetime column order_date, extract only the year and create a new column order_year.",
   "id": "50431bf084c3c860"
  },
  {
   "metadata": {
    "ExecuteTime": {
     "end_time": "2025-10-22T13:47:35.012677Z",
     "start_time": "2025-10-22T13:47:34.999375Z"
    }
   },
   "cell_type": "code",
   "source": [
    "import pandas as pd\n",
    "def create_order_year(data_frame):\n",
    "    data_frame['order_year'] = data_frame['order_date'].dt.year\n",
    "    return data_frame\n",
    "\n",
    "df = pd.date_range(start='2024-01-01', end='2025-12-31', freq='ME').to_frame(name='order_date')\n",
    "df = create_order_year(df)\n",
    "df"
   ],
   "id": "8fecbcde3d2aad4f",
   "outputs": [
    {
     "data": {
      "text/plain": [
       "           order_date  order_year\n",
       "2024-01-31 2024-01-31        2024\n",
       "2024-02-29 2024-02-29        2024\n",
       "2024-03-31 2024-03-31        2024\n",
       "2024-04-30 2024-04-30        2024\n",
       "2024-05-31 2024-05-31        2024\n",
       "2024-06-30 2024-06-30        2024\n",
       "2024-07-31 2024-07-31        2024\n",
       "2024-08-31 2024-08-31        2024\n",
       "2024-09-30 2024-09-30        2024\n",
       "2024-10-31 2024-10-31        2024\n",
       "2024-11-30 2024-11-30        2024\n",
       "2024-12-31 2024-12-31        2024\n",
       "2025-01-31 2025-01-31        2025\n",
       "2025-02-28 2025-02-28        2025\n",
       "2025-03-31 2025-03-31        2025\n",
       "2025-04-30 2025-04-30        2025\n",
       "2025-05-31 2025-05-31        2025\n",
       "2025-06-30 2025-06-30        2025\n",
       "2025-07-31 2025-07-31        2025\n",
       "2025-08-31 2025-08-31        2025\n",
       "2025-09-30 2025-09-30        2025\n",
       "2025-10-31 2025-10-31        2025\n",
       "2025-11-30 2025-11-30        2025\n",
       "2025-12-31 2025-12-31        2025"
      ],
      "text/html": [
       "<div>\n",
       "<style scoped>\n",
       "    .dataframe tbody tr th:only-of-type {\n",
       "        vertical-align: middle;\n",
       "    }\n",
       "\n",
       "    .dataframe tbody tr th {\n",
       "        vertical-align: top;\n",
       "    }\n",
       "\n",
       "    .dataframe thead th {\n",
       "        text-align: right;\n",
       "    }\n",
       "</style>\n",
       "<table border=\"1\" class=\"dataframe\">\n",
       "  <thead>\n",
       "    <tr style=\"text-align: right;\">\n",
       "      <th></th>\n",
       "      <th>order_date</th>\n",
       "      <th>order_year</th>\n",
       "    </tr>\n",
       "  </thead>\n",
       "  <tbody>\n",
       "    <tr>\n",
       "      <th>2024-01-31</th>\n",
       "      <td>2024-01-31</td>\n",
       "      <td>2024</td>\n",
       "    </tr>\n",
       "    <tr>\n",
       "      <th>2024-02-29</th>\n",
       "      <td>2024-02-29</td>\n",
       "      <td>2024</td>\n",
       "    </tr>\n",
       "    <tr>\n",
       "      <th>2024-03-31</th>\n",
       "      <td>2024-03-31</td>\n",
       "      <td>2024</td>\n",
       "    </tr>\n",
       "    <tr>\n",
       "      <th>2024-04-30</th>\n",
       "      <td>2024-04-30</td>\n",
       "      <td>2024</td>\n",
       "    </tr>\n",
       "    <tr>\n",
       "      <th>2024-05-31</th>\n",
       "      <td>2024-05-31</td>\n",
       "      <td>2024</td>\n",
       "    </tr>\n",
       "    <tr>\n",
       "      <th>2024-06-30</th>\n",
       "      <td>2024-06-30</td>\n",
       "      <td>2024</td>\n",
       "    </tr>\n",
       "    <tr>\n",
       "      <th>2024-07-31</th>\n",
       "      <td>2024-07-31</td>\n",
       "      <td>2024</td>\n",
       "    </tr>\n",
       "    <tr>\n",
       "      <th>2024-08-31</th>\n",
       "      <td>2024-08-31</td>\n",
       "      <td>2024</td>\n",
       "    </tr>\n",
       "    <tr>\n",
       "      <th>2024-09-30</th>\n",
       "      <td>2024-09-30</td>\n",
       "      <td>2024</td>\n",
       "    </tr>\n",
       "    <tr>\n",
       "      <th>2024-10-31</th>\n",
       "      <td>2024-10-31</td>\n",
       "      <td>2024</td>\n",
       "    </tr>\n",
       "    <tr>\n",
       "      <th>2024-11-30</th>\n",
       "      <td>2024-11-30</td>\n",
       "      <td>2024</td>\n",
       "    </tr>\n",
       "    <tr>\n",
       "      <th>2024-12-31</th>\n",
       "      <td>2024-12-31</td>\n",
       "      <td>2024</td>\n",
       "    </tr>\n",
       "    <tr>\n",
       "      <th>2025-01-31</th>\n",
       "      <td>2025-01-31</td>\n",
       "      <td>2025</td>\n",
       "    </tr>\n",
       "    <tr>\n",
       "      <th>2025-02-28</th>\n",
       "      <td>2025-02-28</td>\n",
       "      <td>2025</td>\n",
       "    </tr>\n",
       "    <tr>\n",
       "      <th>2025-03-31</th>\n",
       "      <td>2025-03-31</td>\n",
       "      <td>2025</td>\n",
       "    </tr>\n",
       "    <tr>\n",
       "      <th>2025-04-30</th>\n",
       "      <td>2025-04-30</td>\n",
       "      <td>2025</td>\n",
       "    </tr>\n",
       "    <tr>\n",
       "      <th>2025-05-31</th>\n",
       "      <td>2025-05-31</td>\n",
       "      <td>2025</td>\n",
       "    </tr>\n",
       "    <tr>\n",
       "      <th>2025-06-30</th>\n",
       "      <td>2025-06-30</td>\n",
       "      <td>2025</td>\n",
       "    </tr>\n",
       "    <tr>\n",
       "      <th>2025-07-31</th>\n",
       "      <td>2025-07-31</td>\n",
       "      <td>2025</td>\n",
       "    </tr>\n",
       "    <tr>\n",
       "      <th>2025-08-31</th>\n",
       "      <td>2025-08-31</td>\n",
       "      <td>2025</td>\n",
       "    </tr>\n",
       "    <tr>\n",
       "      <th>2025-09-30</th>\n",
       "      <td>2025-09-30</td>\n",
       "      <td>2025</td>\n",
       "    </tr>\n",
       "    <tr>\n",
       "      <th>2025-10-31</th>\n",
       "      <td>2025-10-31</td>\n",
       "      <td>2025</td>\n",
       "    </tr>\n",
       "    <tr>\n",
       "      <th>2025-11-30</th>\n",
       "      <td>2025-11-30</td>\n",
       "      <td>2025</td>\n",
       "    </tr>\n",
       "    <tr>\n",
       "      <th>2025-12-31</th>\n",
       "      <td>2025-12-31</td>\n",
       "      <td>2025</td>\n",
       "    </tr>\n",
       "  </tbody>\n",
       "</table>\n",
       "</div>"
      ]
     },
     "execution_count": 50,
     "metadata": {},
     "output_type": "execute_result"
    }
   ],
   "execution_count": 50
  },
  {
   "metadata": {},
   "cell_type": "markdown",
   "source": [
    "5. What will be the output of the following code?\n",
    "\n",
    "```python\n",
    "from datetime import datetime\n",
    "dt_str = \"2025-01-15\"\n",
    "dt_obj = datetime.strptime(dt_str, \"%Y-%m-%d\")\n",
    "print(dt_obj.strftime(\"%d/%b/%Y\"))\n",
    "```\n",
    "\n",
    "    a) 15/January/2025\n",
    "\n",
    "    b) 15/Jan/2025\n",
    "\n",
    "    c) 2025-01-15\n",
    "\n",
    "    d) 15/01/2025"
   ],
   "id": "578de46ab26a8b3d"
  },
  {
   "metadata": {
    "ExecuteTime": {
     "end_time": "2025-10-22T13:47:35.021888Z",
     "start_time": "2025-10-22T13:47:35.018685Z"
    }
   },
   "cell_type": "code",
   "source": [
    "from datetime import datetime\n",
    "dt_str = \"2025-01-15\"\n",
    "dt_obj = datetime.strptime(dt_str, \"%Y-%m-%d\")\n",
    "print(dt_obj.strftime(\"%d/%b/%Y\"))"
   ],
   "id": "4a5908686235af55",
   "outputs": [
    {
     "name": "stdout",
     "output_type": "stream",
     "text": [
      "15/Jan/2025\n"
     ]
    }
   ],
   "execution_count": 51
  },
  {
   "metadata": {},
   "cell_type": "markdown",
   "source": "Answer: b) 15/Jan/2025",
   "id": "c49583a11219a3a2"
  },
  {
   "metadata": {},
   "cell_type": "markdown",
   "source": [
    "6. Which is the correct format code in strftime() and Pandas function to extract the month name?\n",
    "\n",
    "    a) strftime() with %B and .dt.month_name() in Pandas\n",
    "\n",
    "    b) strftime() with %b and .dt.month_name() in Pandas\n",
    "\n",
    "    c) strftime() with %b and .month() in Pandas\n",
    "\n",
    "    d) strftime() with %B and .month_name() in Pandas"
   ],
   "id": "92f99b739df92be3"
  },
  {
   "metadata": {},
   "cell_type": "markdown",
   "source": "Answer: a) strftime() with %B and .dt.month_name() in Pandas (Pandas answer return full month name, so %B for the same, otherwise %b could be used (for short month name))",
   "id": "1952d43f22353c1"
  },
  {
   "metadata": {
    "ExecuteTime": {
     "end_time": "2025-10-22T13:47:35.034627Z",
     "start_time": "2025-10-22T13:47:35.029069Z"
    }
   },
   "cell_type": "code",
   "source": [
    "from datetime import datetime\n",
    "date = datetime.strptime(\"2025-08-12\", \"%Y-%m-%d\")\n",
    "m = date.strftime(\"%B\")\n",
    "print(m)\n",
    "\n",
    "import pandas as pd\n",
    "df = pd.date_range(start=\"2024-01-01\", end=\"2024-12-31\", freq=\"ME\").to_frame(name=\"days\")\n",
    "df[\"month name\"] = df[\"days\"].dt.month_name()\n",
    "df"
   ],
   "id": "24c56c97bfeea8a9",
   "outputs": [
    {
     "name": "stdout",
     "output_type": "stream",
     "text": [
      "August\n"
     ]
    },
    {
     "data": {
      "text/plain": [
       "                 days month name\n",
       "2024-01-31 2024-01-31    January\n",
       "2024-02-29 2024-02-29   February\n",
       "2024-03-31 2024-03-31      March\n",
       "2024-04-30 2024-04-30      April\n",
       "2024-05-31 2024-05-31        May\n",
       "2024-06-30 2024-06-30       June\n",
       "2024-07-31 2024-07-31       July\n",
       "2024-08-31 2024-08-31     August\n",
       "2024-09-30 2024-09-30  September\n",
       "2024-10-31 2024-10-31    October\n",
       "2024-11-30 2024-11-30   November\n",
       "2024-12-31 2024-12-31   December"
      ],
      "text/html": [
       "<div>\n",
       "<style scoped>\n",
       "    .dataframe tbody tr th:only-of-type {\n",
       "        vertical-align: middle;\n",
       "    }\n",
       "\n",
       "    .dataframe tbody tr th {\n",
       "        vertical-align: top;\n",
       "    }\n",
       "\n",
       "    .dataframe thead th {\n",
       "        text-align: right;\n",
       "    }\n",
       "</style>\n",
       "<table border=\"1\" class=\"dataframe\">\n",
       "  <thead>\n",
       "    <tr style=\"text-align: right;\">\n",
       "      <th></th>\n",
       "      <th>days</th>\n",
       "      <th>month name</th>\n",
       "    </tr>\n",
       "  </thead>\n",
       "  <tbody>\n",
       "    <tr>\n",
       "      <th>2024-01-31</th>\n",
       "      <td>2024-01-31</td>\n",
       "      <td>January</td>\n",
       "    </tr>\n",
       "    <tr>\n",
       "      <th>2024-02-29</th>\n",
       "      <td>2024-02-29</td>\n",
       "      <td>February</td>\n",
       "    </tr>\n",
       "    <tr>\n",
       "      <th>2024-03-31</th>\n",
       "      <td>2024-03-31</td>\n",
       "      <td>March</td>\n",
       "    </tr>\n",
       "    <tr>\n",
       "      <th>2024-04-30</th>\n",
       "      <td>2024-04-30</td>\n",
       "      <td>April</td>\n",
       "    </tr>\n",
       "    <tr>\n",
       "      <th>2024-05-31</th>\n",
       "      <td>2024-05-31</td>\n",
       "      <td>May</td>\n",
       "    </tr>\n",
       "    <tr>\n",
       "      <th>2024-06-30</th>\n",
       "      <td>2024-06-30</td>\n",
       "      <td>June</td>\n",
       "    </tr>\n",
       "    <tr>\n",
       "      <th>2024-07-31</th>\n",
       "      <td>2024-07-31</td>\n",
       "      <td>July</td>\n",
       "    </tr>\n",
       "    <tr>\n",
       "      <th>2024-08-31</th>\n",
       "      <td>2024-08-31</td>\n",
       "      <td>August</td>\n",
       "    </tr>\n",
       "    <tr>\n",
       "      <th>2024-09-30</th>\n",
       "      <td>2024-09-30</td>\n",
       "      <td>September</td>\n",
       "    </tr>\n",
       "    <tr>\n",
       "      <th>2024-10-31</th>\n",
       "      <td>2024-10-31</td>\n",
       "      <td>October</td>\n",
       "    </tr>\n",
       "    <tr>\n",
       "      <th>2024-11-30</th>\n",
       "      <td>2024-11-30</td>\n",
       "      <td>November</td>\n",
       "    </tr>\n",
       "    <tr>\n",
       "      <th>2024-12-31</th>\n",
       "      <td>2024-12-31</td>\n",
       "      <td>December</td>\n",
       "    </tr>\n",
       "  </tbody>\n",
       "</table>\n",
       "</div>"
      ]
     },
     "execution_count": 52,
     "metadata": {},
     "output_type": "execute_result"
    }
   ],
   "execution_count": 52
  }
 ],
 "metadata": {
  "kernelspec": {
   "display_name": "Python 3",
   "language": "python",
   "name": "python3"
  },
  "language_info": {
   "codemirror_mode": {
    "name": "ipython",
    "version": 2
   },
   "file_extension": ".py",
   "mimetype": "text/x-python",
   "name": "python",
   "nbconvert_exporter": "python",
   "pygments_lexer": "ipython2",
   "version": "2.7.6"
  }
 },
 "nbformat": 4,
 "nbformat_minor": 5
}
