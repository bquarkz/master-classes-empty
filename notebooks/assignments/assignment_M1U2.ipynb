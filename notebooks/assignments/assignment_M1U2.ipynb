{
 "cells": [
  {
   "metadata": {},
   "cell_type": "markdown",
   "source": "# Assignment M1 Unit 2 Understanding Data Types in Python Part 1- Questions",
   "id": "c104cf373157418f"
  },
  {
   "metadata": {},
   "cell_type": "markdown",
   "source": "1. Create two numeric objects `x` and `y` and assign values `9.8` and `89112` respectively. Print their data types using `type()`. Then convert `x` to an integer using `int()` and print the new value and type.",
   "id": "c02c7fdc0f9b4df8"
  },
  {
   "metadata": {},
   "cell_type": "code",
   "source": [
    "x = 9.8\n",
    "y = 89112\n",
    "print(\"type x = \", type(x), \"type y = \", type(y))\n",
    "x = int(x) # truncate\n",
    "print(\"value x = \", x, \"type x = \", type(x), \"type y = \", type(y))"
   ],
   "id": "b9ecfae92d2379a9",
   "outputs": [],
   "execution_count": 1
  },
  {
   "metadata": {},
   "cell_type": "markdown",
   "source": "2. Assign the value `'Programming'` to a variable `lang`. Print its type. Convert the number 789 to a character using `str()` and print the result and its type.",
   "id": "6b11bccd2a6273b3"
  },
  {
   "metadata": {},
   "cell_type": "code",
   "source": [
    "lang = \"Programming\"\n",
    "print(\"type lang = \", type(lang))\n",
    "s_number = str(789)\n",
    "print(\"s_number = \", s_number, \"type number = \", type(s_number))"
   ],
   "id": "f8e6e717625664e9",
   "outputs": [],
   "execution_count": 2
  },
  {
   "metadata": {},
   "cell_type": "markdown",
   "source": "3. Create a categorical object `x` with values `['Urgent', 'Normal', 'Minor', 'Normal']` using `pd.Series()`. Check its unique levels using `unique()`.",
   "id": "ee8c087823e07085"
  },
  {
   "metadata": {},
   "cell_type": "code",
   "source": [
    "import pandas as pd\n",
    "x = pd.Series([\"Urgent\", \"Normal\", \"Minor\", \"Normal\"])\n",
    "u = x.unique()\n",
    "print(x)\n",
    "print(u)"
   ],
   "id": "89736d591e94f1aa",
   "outputs": [
    {
     "name": "stdout",
     "output_type": "stream",
     "text": [
      "0    Urgent\n",
      "1    Normal\n",
      "2     Minor\n",
      "3    Normal\n",
      "dtype: object\n",
      "['Urgent' 'Normal' 'Minor']\n"
     ]
    }
   ],
   "execution_count": 3
  },
  {
   "metadata": {},
   "cell_type": "markdown",
   "source": "4. Assign the value `9.8` to a variable `x`. Check whether it is an integer using `isinstance(x, int)`. Create two variables y = 112 and z = 12 and check if y is greater than z.",
   "id": "6478746c008b6c02"
  },
  {
   "metadata": {
    "ExecuteTime": {
     "end_time": "2025-10-13T13:48:44.467231Z",
     "start_time": "2025-10-13T13:48:44.465079Z"
    }
   },
   "cell_type": "code",
   "source": [
    "x = 9.8\n",
    "if isinstance(x, int):\n",
    "    print(\"x is an integer\")\n",
    "else:\n",
    "    print(\"x is not an integer\")\n",
    "\n",
    "y =  112\n",
    "z = 12\n",
    "if y > z:\n",
    "    print(\"y is greater than z\")\n",
    "else:\n",
    "    print(\"y is not greater than z\")"
   ],
   "id": "83291939c3bd958",
   "outputs": [
    {
     "name": "stdout",
     "output_type": "stream",
     "text": [
      "x is not an integer\n",
      "y is greater than z\n"
     ]
    }
   ],
   "execution_count": 4
  },
  {
   "metadata": {},
   "cell_type": "markdown",
   "source": "5. Create a numeric vector v1 = [11, 12, 13], a character vector v2 = ['X', 'Y', 'Z'], and a logical vector v3 = [False, True, False]`. Also create a 3x2 matrix of any numbers using np.array() and `reshape()`.",
   "id": "d41124e63ba0523e"
  },
  {
   "metadata": {
    "ExecuteTime": {
     "end_time": "2025-10-13T13:48:44.484588Z",
     "start_time": "2025-10-13T13:48:44.481794Z"
    }
   },
   "cell_type": "code",
   "source": [
    "v1 = [11, 12, 13]\n",
    "v2 = ['X', 'Y', 'Z']\n",
    "v3 = [False, True, False]\n",
    "import numpy as np\n",
    "m = np.array([1, 2, 3, 4, 5, 6]).reshape(3,2)\n",
    "print(m)"
   ],
   "id": "4012f478a2222ebb",
   "outputs": [
    {
     "name": "stdout",
     "output_type": "stream",
     "text": [
      "[[1 2]\n",
      " [3 4]\n",
      " [5 6]]\n"
     ]
    }
   ],
   "execution_count": 5
  },
  {
   "metadata": {},
   "cell_type": "markdown",
   "source": "6. Create vectors x = [11, 12, 13], y = [9.8, 12.12, 6.12], and z = ['X', 'Y', 'Z']. Combine them into a DataFrame using `pd.DataFrame()`. Then create a list with `x` and `z` using `list()`.",
   "id": "e89f953225718110"
  },
  {
   "metadata": {
    "ExecuteTime": {
     "end_time": "2025-10-13T13:48:44.496831Z",
     "start_time": "2025-10-13T13:48:44.492224Z"
    }
   },
   "cell_type": "code",
   "source": [
    "x = [11, 12, 13]\n",
    "y = [9.8, 12.12, 6.12]\n",
    "z = ['X', 'Y', 'Z']\n",
    "df = pd.DataFrame({'x': x, 'y': y, 'z': z})\n",
    "print(df)\n",
    "x = list(x)\n",
    "z = list(z)\n",
    "print(\"x =\", x, \"z =\", z)"
   ],
   "id": "f15086792186ccc3",
   "outputs": [
    {
     "name": "stdout",
     "output_type": "stream",
     "text": [
      "    x      y  z\n",
      "0  11   9.80  X\n",
      "1  12  12.12  Y\n",
      "2  13   6.12  Z\n",
      "x = [11, 12, 13] z = ['X', 'Y', 'Z']\n"
     ]
    }
   ],
   "execution_count": 6
  }
 ],
 "metadata": {
  "kernelspec": {
   "display_name": "Master Classes (Python3.12)",
   "language": "python",
   "name": "master-classes"
  },
  "language_info": {
   "codemirror_mode": {
    "name": "ipython",
    "version": 2
   },
   "file_extension": ".py",
   "mimetype": "text/x-python",
   "name": "python",
   "nbconvert_exporter": "python",
   "pygments_lexer": "ipython2",
   "version": "2.7.6"
  }
 },
 "nbformat": 4,
 "nbformat_minor": 5
}
