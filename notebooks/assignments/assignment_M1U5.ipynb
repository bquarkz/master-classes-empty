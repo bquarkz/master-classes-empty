{
 "cells": [
  {
   "metadata": {},
   "cell_type": "markdown",
   "source": "# Assignment M1 Unit 5 Working with Numeric and String Functions in Python - Questions",
   "id": "9eae70c38c9ddbf8"
  },
  {
   "metadata": {},
   "cell_type": "markdown",
   "source": [
    "1. What will be the output of:\n",
    "\",\".join([\"A\", \"B\", \"C\"])\n",
    "\n",
    "    a) A,B,C\n",
    "\n",
    "    b) A B C\n",
    "\n",
    "    c) ABC\n",
    "\n",
    "    d) A|B|C"
   ],
   "id": "4d7b47a87f096331"
  },
  {
   "metadata": {
    "ExecuteTime": {
     "end_time": "2025-10-15T12:47:18.068015Z",
     "start_time": "2025-10-15T12:47:18.064090Z"
    }
   },
   "cell_type": "code",
   "source": "\",\".join([\"A\",\"B\",\"C\"])",
   "id": "2f5bd1695ee42041",
   "outputs": [
    {
     "data": {
      "text/plain": [
       "'A,B,C'"
      ]
     },
     "execution_count": 1,
     "metadata": {},
     "output_type": "execute_result"
    }
   ],
   "execution_count": 1
  },
  {
   "metadata": {},
   "cell_type": "markdown",
   "source": "Answer: a)A,B,C",
   "id": "c53b7fa1aa0f9e06"
  },
  {
   "metadata": {},
   "cell_type": "markdown",
   "source": [
    "2. What does the following code print?\n",
    "\"{1} {0}\".format(\"Python\", \"R\")\n",
    "\n",
    "    a) Python R\n",
    "\n",
    "    b) R Python\n",
    "\n",
    "    c) {1} {0}\n",
    "\n",
    "    d) Error"
   ],
   "id": "7d32ab5c28394467"
  },
  {
   "metadata": {
    "ExecuteTime": {
     "end_time": "2025-10-15T12:47:18.081449Z",
     "start_time": "2025-10-15T12:47:18.078660Z"
    }
   },
   "cell_type": "code",
   "source": "\"{1} {0}\".format(\"Python\", \"R\")",
   "id": "231b0d0a3a336cb2",
   "outputs": [
    {
     "data": {
      "text/plain": [
       "'R Python'"
      ]
     },
     "execution_count": 2,
     "metadata": {},
     "output_type": "execute_result"
    }
   ],
   "execution_count": 2
  },
  {
   "metadata": {},
   "cell_type": "markdown",
   "source": "Answer: b) R Python",
   "id": "973d85cda6f717d"
  },
  {
   "metadata": {},
   "cell_type": "markdown",
   "source": "3. In Python, the upper limit of range() is inclusive.True or False?",
   "id": "810a6ae9a275c884"
  },
  {
   "metadata": {},
   "cell_type": "markdown",
   "source": "Answer: No, the upper limit of range is NOT inclusive, False.",
   "id": "993c6f2a2cac5225"
  },
  {
   "metadata": {},
   "cell_type": "markdown",
   "source": [
    "\n",
    "4. Write a program to join the list ['Data', 'Science', 'AI'] into a single string separated by spaces.\n"
   ],
   "id": "3dd246c45f7a8c1d"
  },
  {
   "metadata": {
    "ExecuteTime": {
     "end_time": "2025-10-15T12:47:18.093292Z",
     "start_time": "2025-10-15T12:47:18.091158Z"
    }
   },
   "cell_type": "code",
   "source": [
    "ss = [\"Data\", \"Science\", \"AI\"]\n",
    "print(\" \".join(ss))"
   ],
   "id": "194307ea2b783ee3",
   "outputs": [
    {
     "name": "stdout",
     "output_type": "stream",
     "text": [
      "Data Science AI\n"
     ]
    }
   ],
   "execution_count": 3
  },
  {
   "metadata": {},
   "cell_type": "markdown",
   "source": [
    "\n",
    "5. You have the string \"Data Science with Python\".\n",
    "Write a code to:\n",
    "Convert it to lower case\n",
    "Replace \"python\" with \"R\"\n"
   ],
   "id": "e1c228b930e24587"
  },
  {
   "metadata": {
    "ExecuteTime": {
     "end_time": "2025-10-15T12:47:18.104406Z",
     "start_time": "2025-10-15T12:47:18.102048Z"
    }
   },
   "cell_type": "code",
   "source": [
    "s = \"Data Science with Python\"\n",
    "s.lower().replace(\"python\", \"R\")"
   ],
   "id": "8aec62b6453faab9",
   "outputs": [
    {
     "data": {
      "text/plain": [
       "'data science with R'"
      ]
     },
     "execution_count": 4,
     "metadata": {},
     "output_type": "execute_result"
    }
   ],
   "execution_count": 4
  },
  {
   "metadata": {},
   "cell_type": "markdown",
   "source": [
    "6. What will be the output of the following?\n",
    "```python\n",
    "date = \"2025-08-12\"\n",
    "parts = date.split(\"-\")\n",
    "print(parts[0], parts[1])\n",
    "```"
   ],
   "id": "1f455397fe88f88f"
  },
  {
   "metadata": {
    "ExecuteTime": {
     "end_time": "2025-10-15T12:47:18.115812Z",
     "start_time": "2025-10-15T12:47:18.113474Z"
    }
   },
   "cell_type": "code",
   "source": [
    "date = \"2025-08-12\"\n",
    "parts = date.split(\"-\")\n",
    "print(parts[0], parts[1])"
   ],
   "id": "119e9a13f5104c62",
   "outputs": [
    {
     "name": "stdout",
     "output_type": "stream",
     "text": [
      "2025 08\n"
     ]
    }
   ],
   "execution_count": 5
  },
  {
   "metadata": {},
   "cell_type": "markdown",
   "source": "Answer: 2025 08",
   "id": "c99c9b6a05e1062e"
  }
 ],
 "metadata": {
  "kernelspec": {
   "display_name": "Python 3",
   "language": "python",
   "name": "python3"
  },
  "language_info": {
   "codemirror_mode": {
    "name": "ipython",
    "version": 2
   },
   "file_extension": ".py",
   "mimetype": "text/x-python",
   "name": "python",
   "nbconvert_exporter": "python",
   "pygments_lexer": "ipython2",
   "version": "2.7.6"
  }
 },
 "nbformat": 4,
 "nbformat_minor": 5
}
