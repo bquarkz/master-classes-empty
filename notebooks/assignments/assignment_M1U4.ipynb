{
 "cells": [
  {
   "metadata": {},
   "cell_type": "markdown",
   "source": "# Assignment M1 Unit 4 Control Structures in Python: Loops and Conditional Statements – Questions",
   "id": "b74c2e94e525647c"
  },
  {
   "metadata": {},
   "cell_type": "markdown",
   "source": [
    "1. Which of the following correctly checks if x is a string in Python?\n",
    "\n",
    "    a) if type(x) == \"str\":\n",
    "\n",
    "    b) if type(x) == str:\n",
    "\n",
    "    c) if isinstance(x, str):\n",
    "\n",
    "    d) Both b and c"
   ],
   "id": "107c4dc1b068bf32"
  },
  {
   "metadata": {},
   "cell_type": "markdown",
   "source": "Answer: b) if type(x) == str: and c) if isinstance(x, str): So, d) Both b and c",
   "id": "8d4b1aa8bdbd542d"
  },
  {
   "metadata": {},
   "cell_type": "markdown",
   "source": "2. A while loop always runs infinitely unless a break statement is used.(True/False)",
   "id": "1e09416ae21ee772"
  },
  {
   "metadata": {},
   "cell_type": "markdown",
   "source": "Answer: False; A while loop has a condition check on every iteration",
   "id": "f0f8e74344f52446"
  },
  {
   "metadata": {},
   "cell_type": "markdown",
   "source": "3. Write a Python program to print all odd numbers from 1 to 15 using a for loop and continue",
   "id": "336a9fb79e1506c9"
  },
  {
   "metadata": {
    "ExecuteTime": {
     "end_time": "2025-10-13T13:55:22.833160Z",
     "start_time": "2025-10-13T13:55:22.829959Z"
    }
   },
   "cell_type": "code",
   "source": [
    "v = [x for x in range(1, 16) if x % 2 != 0]\n",
    "print(v)"
   ],
   "id": "ac46a7d3ce666b5a",
   "outputs": [
    {
     "name": "stdout",
     "output_type": "stream",
     "text": [
      "[1, 3, 5, 7, 9, 11, 13, 15]\n"
     ]
    }
   ],
   "execution_count": 2
  },
  {
   "metadata": {},
   "cell_type": "markdown",
   "source": [
    "4. You have the list nums = [12, 15, 7, 10, 8].\n",
    "Write a Python loop to print only those numbers that are greater than or equal to 10 and divisible by 5. Use the continue statement to skip numbers less than 10."
   ],
   "id": "cb56bdf523aa85bb"
  },
  {
   "metadata": {
    "ExecuteTime": {
     "end_time": "2025-10-13T13:56:23.974467Z",
     "start_time": "2025-10-13T13:56:23.969308Z"
    }
   },
   "cell_type": "code",
   "source": [
    "v = [x for x in [12, 15, 7, 10, 8] if x >= 10 and x % 5 == 0]\n",
    "print(v)"
   ],
   "id": "6dfd6cb9a0217c1e",
   "outputs": [
    {
     "name": "stdout",
     "output_type": "stream",
     "text": [
      "[15, 10]\n"
     ]
    }
   ],
   "execution_count": 3
  },
  {
   "metadata": {},
   "cell_type": "markdown",
   "source": [
    "5. What will be the output of the following code?\n",
    "```python\n",
    "for i in range(1, 5):\n",
    "    for j in range(1, 3):\n",
    "        print(i * j)\n",
    "```"
   ],
   "id": "5ade236099d5e262"
  },
  {
   "metadata": {
    "ExecuteTime": {
     "end_time": "2025-10-13T13:58:34.939229Z",
     "start_time": "2025-10-13T13:58:34.932330Z"
    }
   },
   "cell_type": "code",
   "source": [
    "for i in range(1, 5):\n",
    "    for j in range(1, 3):\n",
    "        print(i * j)"
   ],
   "id": "e90eba88ef0e1da4",
   "outputs": [
    {
     "name": "stdout",
     "output_type": "stream",
     "text": [
      "1\n",
      "2\n",
      "2\n",
      "4\n",
      "3\n",
      "6\n",
      "4\n",
      "8\n"
     ]
    }
   ],
   "execution_count": 4
  },
  {
   "metadata": {},
   "cell_type": "markdown",
   "source": "Answer: 1, 2, 2, 4, 3, 6, 4, 8",
   "id": "a165498a4caa72be"
  },
  {
   "metadata": {},
   "cell_type": "markdown",
   "source": [
    "6. What will be the output of the following code?\n",
    "```python\n",
    "x = -5\n",
    "if x > 0:\n",
    "    print(\"Positive\")\n",
    "elif x == 0:\n",
    "    print(\"Zero\")\n",
    "else:\n",
    "    if x % 2 == 0:\n",
    "        print(\"Negative Even\")\n",
    "    else:\n",
    "        print(\"Negative Odd\")\n",
    "```\n",
    "\n",
    "Options:\n",
    "\n",
    "    a) Positive\n",
    "\n",
    "    b) Zero\n",
    "\n",
    "    c) Negative Even\n",
    "\n",
    "    d) Negative Odd"
   ],
   "id": "3d80f3f4ad757601"
  },
  {
   "metadata": {
    "ExecuteTime": {
     "end_time": "2025-10-13T13:59:43.391505Z",
     "start_time": "2025-10-13T13:59:43.380017Z"
    }
   },
   "cell_type": "code",
   "source": [
    "x = -5\n",
    "if x > 0:\n",
    "    print(\"Positive\")\n",
    "elif x == 0:\n",
    "    print(\"Zero\")\n",
    "else:\n",
    "    if x % 2 == 0:\n",
    "        print(\"Negative Even\")\n",
    "    else:\n",
    "        print(\"Negative Odd\")"
   ],
   "id": "49edc2904a06d646",
   "outputs": [
    {
     "name": "stdout",
     "output_type": "stream",
     "text": [
      "Negative Odd\n"
     ]
    }
   ],
   "execution_count": 5
  },
  {
   "metadata": {},
   "cell_type": "markdown",
   "source": "Answer: d) Negative Odd",
   "id": "68e4edfd3e09695e"
  }
 ],
 "metadata": {
  "kernelspec": {
   "display_name": "Python 3",
   "language": "python",
   "name": "python3"
  },
  "language_info": {
   "codemirror_mode": {
    "name": "ipython",
    "version": 2
   },
   "file_extension": ".py",
   "mimetype": "text/x-python",
   "name": "python",
   "nbconvert_exporter": "python",
   "pygments_lexer": "ipython2",
   "version": "2.7.6"
  }
 },
 "nbformat": 4,
 "nbformat_minor": 5
}
