{
 "cells": [
  {
   "cell_type": "code",
   "id": "initial_id",
   "metadata": {
    "collapsed": true,
    "ExecuteTime": {
     "end_time": "2025-10-20T16:58:43.078481Z",
     "start_time": "2025-10-20T16:58:43.072362Z"
    }
   },
   "source": [
    "nums = [1,2,3,4]\n",
    "m = map(float, nums)\n",
    "float_nums = list(m)\n",
    "print(nums)\n",
    "print(m)\n",
    "print(float_nums)"
   ],
   "outputs": [
    {
     "name": "stdout",
     "output_type": "stream",
     "text": [
      "[1, 2, 3, 4]\n",
      "<map object at 0x106da15a0>\n",
      "[1.0, 2.0, 3.0, 4.0]\n"
     ]
    }
   ],
   "execution_count": 7
  },
  {
   "metadata": {
    "ExecuteTime": {
     "end_time": "2025-10-20T16:59:28.174853Z",
     "start_time": "2025-10-20T16:59:28.171110Z"
    }
   },
   "cell_type": "code",
   "source": [
    "nums = [1,2,3,4]\n",
    "squares = map(lambda x: x * x, nums)\n",
    "print(list(squares))"
   ],
   "id": "39f0c717e8b84e4e",
   "outputs": [
    {
     "name": "stdout",
     "output_type": "stream",
     "text": [
      "[1, 4, 9, 16]\n"
     ]
    }
   ],
   "execution_count": 9
  },
  {
   "metadata": {
    "ExecuteTime": {
     "end_time": "2025-10-20T17:04:24.478610Z",
     "start_time": "2025-10-20T17:04:24.464206Z"
    }
   },
   "cell_type": "code",
   "source": [
    "a = [1,2,3]\n",
    "b = [4,5,6]\n",
    "result_map = list(map(lambda x,y: x+y, a, b))\n",
    "print(result_map)\n",
    "result_zip = list([x + y for x,y in zip(a,b)])\n",
    "print(result_zip)"
   ],
   "id": "5f3aa3703617c67f",
   "outputs": [
    {
     "name": "stdout",
     "output_type": "stream",
     "text": [
      "[5, 7, 9]\n",
      "[5, 7, 9]\n"
     ]
    }
   ],
   "execution_count": 11
  },
  {
   "metadata": {
    "ExecuteTime": {
     "end_time": "2025-10-20T17:06:08.995618Z",
     "start_time": "2025-10-20T17:06:08.979777Z"
    }
   },
   "cell_type": "code",
   "source": [
    "names = [\"pauL\", \"MEENA\", \"JacK\"]\n",
    "cleaned = list(map(lambda x: x.lower(), names))\n",
    "print(cleaned)"
   ],
   "id": "ca79c588d64ea55c",
   "outputs": [
    {
     "name": "stdout",
     "output_type": "stream",
     "text": [
      "['paul', 'meena', 'jack']\n"
     ]
    }
   ],
   "execution_count": 12
  },
  {
   "metadata": {
    "ExecuteTime": {
     "end_time": "2025-10-20T17:13:07.507003Z",
     "start_time": "2025-10-20T17:13:07.500760Z"
    }
   },
   "cell_type": "code",
   "source": [
    "data = [23, 45, 12, 78, 30]\n",
    "min_val = min(data)\n",
    "max_val = max(data)\n",
    "scaled = list(map(lambda x: (x - min_val) / (max_val - min_val), data))\n",
    "print(scaled)"
   ],
   "id": "2e58c3c9a2a71b3a",
   "outputs": [
    {
     "name": "stdout",
     "output_type": "stream",
     "text": [
      "[0.16666666666666666, 0.5, 0.0, 1.0, 0.2727272727272727]\n"
     ]
    }
   ],
   "execution_count": 13
  },
  {
   "metadata": {
    "ExecuteTime": {
     "end_time": "2025-10-20T17:19:31.910962Z",
     "start_time": "2025-10-20T17:19:31.903774Z"
    }
   },
   "cell_type": "code",
   "source": [
    "sentences = [\n",
    "    \"AI is transforming industries\",\n",
    "    \"Python is great for ML\",\n",
    "    \"Lambda functions are powerful\"\n",
    "]\n",
    "processed = list(map(lambda s: s.lower().replace(\"!\", \"\"), sentences))\n",
    "print(processed)"
   ],
   "id": "ad5d767e5376ee01",
   "outputs": [
    {
     "name": "stdout",
     "output_type": "stream",
     "text": [
      "['ai is transforming industries', 'python is great for ml', 'lambda functions are powerful']\n"
     ]
    }
   ],
   "execution_count": 14
  },
  {
   "metadata": {
    "ExecuteTime": {
     "end_time": "2025-10-20T17:23:33.641396Z",
     "start_time": "2025-10-20T17:23:33.631675Z"
    }
   },
   "cell_type": "code",
   "source": [
    "def lower_replace_exclamation(s):\n",
    "    return s.lower().replace(\"!\", \"\")\n",
    "\n",
    "sentences = [\n",
    "    \"AI is transforming industries\",\n",
    "    \"Python is great for ML\",\n",
    "    \"Lambda functions are powerful\"\n",
    "]\n",
    "processed = list(map(lower_replace_exclamation, sentences))\n",
    "print(processed)"
   ],
   "id": "1ac8705c176643f6",
   "outputs": [
    {
     "name": "stdout",
     "output_type": "stream",
     "text": [
      "['ai is transforming industries', 'python is great for ml', 'lambda functions are powerful']\n"
     ]
    }
   ],
   "execution_count": 15
  }
 ],
 "metadata": {
  "kernelspec": {
   "display_name": "Python 3",
   "language": "python",
   "name": "python3"
  },
  "language_info": {
   "codemirror_mode": {
    "name": "ipython",
    "version": 2
   },
   "file_extension": ".py",
   "mimetype": "text/x-python",
   "name": "python",
   "nbconvert_exporter": "python",
   "pygments_lexer": "ipython2",
   "version": "2.7.6"
  }
 },
 "nbformat": 4,
 "nbformat_minor": 5
}
